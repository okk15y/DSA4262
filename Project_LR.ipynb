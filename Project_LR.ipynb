{
 "cells": [
  {
   "cell_type": "markdown",
   "metadata": {},
   "source": [
    "Unzip and parse json.gz file"
   ]
  },
  {
   "cell_type": "code",
   "execution_count": null,
   "metadata": {},
   "outputs": [],
   "source": [
    "import gzip\n",
    "import pandas as pd\n",
    "import numpy as np\n",
    "import json\n",
    "\n",
    "file_path = \"dataset0.json.gz\"\n",
    "\n",
    "def load_json_gz_to_dataframe(file_path):\n",
    "    data = []\n",
    "    # unzip file\n",
    "    with gzip.open(file_path, 'rt', encoding='utf-8') as f:\n",
    "        # parse line by line due to multiple json object in file\n",
    "        for line in f:\n",
    "            json_data = json.loads(line)\n",
    "            # obtain key value pair of transcript and position\n",
    "            for transcript, positions in json_data.items():\n",
    "                # obtain key value pair of position and data\n",
    "                for position, reads in positions.items():\n",
    "                    # obtain key value pair of sequence and list\n",
    "                    for seq,num in reads.items():\n",
    "                        # assuming that majority of reads are labeled as it is.\n",
    "                        data.append({\n",
    "                            'transcript': transcript,\n",
    "                            'position': int(position),\n",
    "                            'sequence': seq,\n",
    "                            \"data\" : num\n",
    "                        })\n",
    "    return pd.DataFrame(data)\n",
    "\n",
    "dataset0 = load_json_gz_to_dataframe(file_path)\n",
    "print(dataset0.head())"
   ]
  },
  {
   "cell_type": "markdown",
   "metadata": {},
   "source": [
    "Import .labelled file and join with data"
   ]
  },
  {
   "cell_type": "code",
   "execution_count": null,
   "metadata": {},
   "outputs": [],
   "source": [
    "data_info = pd.read_csv('data.info.labelled')\n",
    "# Join on transcript id and transcript position\n",
    "full_data = pd.merge(dataset0,data_info,\n",
    "    left_on = ['transcript', 'position'],\n",
    "    right_on = ['transcript_id', 'transcript_position'],\n",
    "    how = 'left')\n",
    "full_data = full_data.drop(columns=['transcript_id', 'transcript_position'])\n",
    "print(full_data.head())"
   ]
  },
  {
   "cell_type": "markdown",
   "metadata": {},
   "source": [
    "Selected data for initial modelling"
   ]
  },
  {
   "cell_type": "code",
   "execution_count": null,
   "metadata": {},
   "outputs": [],
   "source": [
    "# Taking mean of list of list\n",
    "mean_data = full_data['data'].apply(lambda x: np.mean(x, axis=0))\n",
    "selected_data = full_data.copy()\n",
    "selected_data['data'] = mean_data\n",
    "\n",
    "# filtering middle data (only include data for the position)\n",
    "selected_data['data'] = selected_data['data'].apply(lambda x: np.array(x)[3:6])\n",
    "print(selected_data.head())"
   ]
  },
  {
   "cell_type": "markdown",
   "metadata": {},
   "source": [
    "Export full data into csv"
   ]
  },
  {
   "cell_type": "code",
   "execution_count": 20,
   "metadata": {},
   "outputs": [],
   "source": [
    "# full_data.to_csv('full_data.csv', index=False)\n",
    "# selected_data.to_csv('selected_data.csv', index=False)"
   ]
  },
  {
   "cell_type": "markdown",
   "metadata": {},
   "source": [
    "Logistic Regression (Imbalance Data)"
   ]
  },
  {
   "cell_type": "code",
   "execution_count": null,
   "metadata": {},
   "outputs": [],
   "source": [
    "from sklearn.linear_model import LogisticRegression\n",
    "from sklearn.model_selection import train_test_split\n",
    "from sklearn.metrics import accuracy_score\n",
    "\n",
    "# convert data into a matrix\n",
    "X = pd.DataFrame(selected_data['data'].tolist(), index=selected_data.index)\n",
    "y = selected_data['label']\n",
    "\n",
    "# 70/30 train-test split\n",
    "X_train, X_test, y_train, y_test = train_test_split(X, y, test_size=0.3, random_state=42)\n",
    "\n",
    "# fitting logistic regression\n",
    "log_reg = LogisticRegression()\n",
    "log_reg.fit(X_train, y_train)\n",
    "\n",
    "# predict with test set\n",
    "y_pred = log_reg.predict(X_test)\n",
    "accuracy = accuracy_score(y_test, y_pred)\n",
    "print(f'Accuracy: {accuracy}')\n",
    "\n",
    "# imbalance data\n",
    "selected_data['label'].value_counts()"
   ]
  },
  {
   "cell_type": "code",
   "execution_count": null,
   "metadata": {},
   "outputs": [],
   "source": [
    "from imblearn.over_sampling import SMOTE\n",
    "\n",
    "# simulate data with label 1 using SMOTE\n",
    "smote = SMOTE(random_state=42)\n",
    "X_resampled, y_resampled = smote.fit_resample(X_train, y_train)\n",
    "\n",
    "# new fit\n",
    "log_reg = LogisticRegression()\n",
    "log_reg.fit(X_resampled, y_resampled)\n",
    "\n",
    "# new prediction show drastic drop in accuracy (previous high accuracy due to imbalanced data)\n",
    "y_pred = log_reg.predict(X_test)\n",
    "accuracy = accuracy_score(y_test, y_pred)\n",
    "print(f'Accuracy: {accuracy}')"
   ]
  }
 ],
 "metadata": {
  "kernelspec": {
   "display_name": "Python 3",
   "language": "python",
   "name": "python3"
  },
  "language_info": {
   "codemirror_mode": {
    "name": "ipython",
    "version": 3
   },
   "file_extension": ".py",
   "mimetype": "text/x-python",
   "name": "python",
   "nbconvert_exporter": "python",
   "pygments_lexer": "ipython3",
   "version": "3.12.2"
  }
 },
 "nbformat": 4,
 "nbformat_minor": 2
}
