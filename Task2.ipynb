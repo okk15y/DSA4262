{
 "cells": [
  {
   "cell_type": "markdown",
   "metadata": {},
   "source": [
    "Install awscli to access AWS S3 buckets"
   ]
  },
  {
   "cell_type": "code",
   "execution_count": null,
   "metadata": {},
   "outputs": [],
   "source": [
    "!pip install awscli"
   ]
  },
  {
   "cell_type": "markdown",
   "metadata": {},
   "source": [
    "List the files to be analysed: http://sg-nex-data.s3-website-ap-southeast-1.amazonaws.com/#data/processed_data/m6Anet/"
   ]
  },
  {
   "cell_type": "code",
   "execution_count": 1,
   "metadata": {},
   "outputs": [
    {
     "name": "stdout",
     "output_type": "stream",
     "text": [
      "                           PRE SGNex_A549_directRNA_replicate5_run1/\n",
      "                           PRE SGNex_A549_directRNA_replicate6_run1/\n",
      "                           PRE SGNex_Hct116_directRNA_replicate3_run1/\n",
      "                           PRE SGNex_Hct116_directRNA_replicate3_run4/\n",
      "                           PRE SGNex_Hct116_directRNA_replicate4_run3/\n",
      "                           PRE SGNex_HepG2_directRNA_replicate5_run2/\n",
      "                           PRE SGNex_HepG2_directRNA_replicate6_run1/\n",
      "                           PRE SGNex_K562_directRNA_replicate4_run1/\n",
      "                           PRE SGNex_K562_directRNA_replicate5_run1/\n",
      "                           PRE SGNex_K562_directRNA_replicate6_run1/\n",
      "                           PRE SGNex_MCF7_directRNA_replicate3_run1/\n",
      "                           PRE SGNex_MCF7_directRNA_replicate4_run1/\n"
     ]
    }
   ],
   "source": [
    "!aws s3 ls --no-sign-request s3://sg-nex-data/data/processed_data/m6Anet/"
   ]
  },
  {
   "cell_type": "markdown",
   "metadata": {},
   "source": [
    "Input the data.json from each of these folders into our model to get their predictions"
   ]
  },
  {
   "cell_type": "code",
   "execution_count": 1,
   "metadata": {},
   "outputs": [
    {
     "name": "stdout",
     "output_type": "stream",
     "text": [
      "['SGNex_A549_directRNA_replicate5_run1', 'SGNex_A549_directRNA_replicate6_run1']\n"
     ]
    }
   ],
   "source": [
    "# Get the names of the folders\n",
    "folders = !aws s3 --no-sign-request ls s3://sg-nex-data/data/processed_data/m6Anet/\n",
    "folders = [f.split()[1].strip('/') for f in folders]\n",
    "print(folders[:2])"
   ]
  },
  {
   "cell_type": "code",
   "execution_count": null,
   "metadata": {},
   "outputs": [],
   "source": [
    "import os\n",
    "\n",
    "# Model to be used\n",
    "path_to_model = 'best_model_with_smote.keras'\n",
    "print(f'Model used: {path_to_model}')\n",
    "\n",
    "# Loop through the folders to perform predictions\n",
    "for folder in folders:\n",
    "    # Define the paths\n",
    "    file_path = f's3://sg-nex-data/data/processed_data/m6Anet/{folder}/data.json' # Path to the data.json file in S3\n",
    "    data_path = f'tmp/{folder}_data.json' # Path to save the data.json file\n",
    "    pred_path = f'task_2/tmp/{folder}_pred.csv' # Saved as CSV file\n",
    "\n",
    "    # Download the data.json file if it does not exist\n",
    "    print(f'Downloading {folder}/data.json to {data_path}')\n",
    "    if not os.path.exists(data_path):\n",
    "        !aws s3 --no-sign-request cp $file_path $data_path\n",
    "\n",
    "    # Perform the prediction using the prediction.py script\n",
    "    !python prediction_LATEST.py --input $data_path --output $pred_path --model $path_to_model"
   ]
  },
  {
   "cell_type": "markdown",
   "metadata": {},
   "source": [
    "DEBUG"
   ]
  },
  {
   "cell_type": "code",
   "execution_count": null,
   "metadata": {},
   "outputs": [],
   "source": []
  }
 ],
 "metadata": {
  "kernelspec": {
   "display_name": "Python 3",
   "language": "python",
   "name": "python3"
  },
  "language_info": {
   "codemirror_mode": {
    "name": "ipython",
    "version": 3
   },
   "file_extension": ".py",
   "mimetype": "text/x-python",
   "name": "python",
   "nbconvert_exporter": "python",
   "pygments_lexer": "ipython3",
   "version": "3.10.6"
  }
 },
 "nbformat": 4,
 "nbformat_minor": 2
}
