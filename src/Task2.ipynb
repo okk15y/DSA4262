{
 "cells": [
  {
   "cell_type": "markdown",
   "metadata": {},
   "source": [
    "Install awscli to access AWS S3 buckets"
   ]
  },
  {
   "cell_type": "code",
   "execution_count": 1,
   "metadata": {},
   "outputs": [
    {
     "name": "stdout",
     "output_type": "stream",
     "text": [
      "Collecting awscli\n",
      "  Downloading awscli-1.35.20-py3-none-any.whl.metadata (11 kB)\n",
      "Collecting botocore==1.35.54 (from awscli)\n",
      "  Downloading botocore-1.35.54-py3-none-any.whl.metadata (5.7 kB)\n",
      "Collecting docutils<0.17,>=0.10 (from awscli)\n",
      "  Using cached docutils-0.16-py2.py3-none-any.whl.metadata (2.7 kB)\n",
      "Collecting s3transfer<0.11.0,>=0.10.0 (from awscli)\n",
      "  Downloading s3transfer-0.10.3-py3-none-any.whl.metadata (1.7 kB)\n",
      "Collecting PyYAML<6.1,>=3.10 (from awscli)\n",
      "  Downloading PyYAML-6.0.2-cp310-cp310-macosx_11_0_arm64.whl.metadata (2.1 kB)\n",
      "Collecting colorama<0.4.7,>=0.2.5 (from awscli)\n",
      "  Using cached colorama-0.4.6-py2.py3-none-any.whl.metadata (17 kB)\n",
      "Collecting rsa<4.8,>=3.1.2 (from awscli)\n",
      "  Using cached rsa-4.7.2-py3-none-any.whl.metadata (3.6 kB)\n",
      "Collecting jmespath<2.0.0,>=0.7.1 (from botocore==1.35.54->awscli)\n",
      "  Using cached jmespath-1.0.1-py3-none-any.whl.metadata (7.6 kB)\n",
      "Requirement already satisfied: python-dateutil<3.0.0,>=2.1 in /Users/celine/miniconda3/envs/dsa4262/lib/python3.10/site-packages (from botocore==1.35.54->awscli) (2.9.0)\n",
      "Requirement already satisfied: urllib3!=2.2.0,<3,>=1.25.4 in /Users/celine/miniconda3/envs/dsa4262/lib/python3.10/site-packages (from botocore==1.35.54->awscli) (2.2.3)\n",
      "Collecting pyasn1>=0.1.3 (from rsa<4.8,>=3.1.2->awscli)\n",
      "  Using cached pyasn1-0.6.1-py3-none-any.whl.metadata (8.4 kB)\n",
      "Requirement already satisfied: six>=1.5 in /Users/celine/miniconda3/envs/dsa4262/lib/python3.10/site-packages (from python-dateutil<3.0.0,>=2.1->botocore==1.35.54->awscli) (1.16.0)\n",
      "Downloading awscli-1.35.20-py3-none-any.whl (4.5 MB)\n",
      "\u001b[2K   \u001b[90m━━━━━━━━━━━━━━━━━━━━━━━━━━━━━━━━━━━━━━━━\u001b[0m \u001b[32m4.5/4.5 MB\u001b[0m \u001b[31m4.5 MB/s\u001b[0m eta \u001b[36m0:00:00\u001b[0ma \u001b[36m0:00:01\u001b[0m\n",
      "\u001b[?25hDownloading botocore-1.35.54-py3-none-any.whl (12.7 MB)\n",
      "\u001b[2K   \u001b[90m━━━━━━━━━━━━━━━━━━━━━━━━━━━━━━━━━━━━━━━━\u001b[0m \u001b[32m12.7/12.7 MB\u001b[0m \u001b[31m6.2 MB/s\u001b[0m eta \u001b[36m0:00:00\u001b[0ma \u001b[36m0:00:01\u001b[0m\n",
      "\u001b[?25hUsing cached colorama-0.4.6-py2.py3-none-any.whl (25 kB)\n",
      "Using cached docutils-0.16-py2.py3-none-any.whl (548 kB)\n",
      "Downloading PyYAML-6.0.2-cp310-cp310-macosx_11_0_arm64.whl (171 kB)\n",
      "Using cached rsa-4.7.2-py3-none-any.whl (34 kB)\n",
      "Downloading s3transfer-0.10.3-py3-none-any.whl (82 kB)\n",
      "Using cached jmespath-1.0.1-py3-none-any.whl (20 kB)\n",
      "Using cached pyasn1-0.6.1-py3-none-any.whl (83 kB)\n",
      "Installing collected packages: PyYAML, pyasn1, jmespath, docutils, colorama, rsa, botocore, s3transfer, awscli\n",
      "Successfully installed PyYAML-6.0.2 awscli-1.35.20 botocore-1.35.54 colorama-0.4.6 docutils-0.16 jmespath-1.0.1 pyasn1-0.6.1 rsa-4.7.2 s3transfer-0.10.3\n"
     ]
    }
   ],
   "source": [
    "!pip install awscli"
   ]
  },
  {
   "cell_type": "markdown",
   "metadata": {},
   "source": [
    "List the files to be analysed: http://sg-nex-data.s3-website-ap-southeast-1.amazonaws.com/#data/processed_data/m6Anet/"
   ]
  },
  {
   "cell_type": "code",
   "execution_count": 2,
   "metadata": {},
   "outputs": [
    {
     "name": "stdout",
     "output_type": "stream",
     "text": [
      "                           PRE SGNex_A549_directRNA_replicate5_run1/\n",
      "                           PRE SGNex_A549_directRNA_replicate6_run1/\n",
      "                           PRE SGNex_Hct116_directRNA_replicate3_run1/\n",
      "                           PRE SGNex_Hct116_directRNA_replicate3_run4/\n",
      "                           PRE SGNex_Hct116_directRNA_replicate4_run3/\n",
      "                           PRE SGNex_HepG2_directRNA_replicate5_run2/\n",
      "                           PRE SGNex_HepG2_directRNA_replicate6_run1/\n",
      "                           PRE SGNex_K562_directRNA_replicate4_run1/\n",
      "                           PRE SGNex_K562_directRNA_replicate5_run1/\n",
      "                           PRE SGNex_K562_directRNA_replicate6_run1/\n",
      "                           PRE SGNex_MCF7_directRNA_replicate3_run1/\n",
      "                           PRE SGNex_MCF7_directRNA_replicate4_run1/\n"
     ]
    }
   ],
   "source": [
    "!aws s3 ls --no-sign-request s3://sg-nex-data/data/processed_data/m6Anet/"
   ]
  },
  {
   "cell_type": "markdown",
   "metadata": {},
   "source": [
    "Input the data.json from each of these folders into our model to get their predictions"
   ]
  },
  {
   "cell_type": "code",
   "execution_count": 3,
   "metadata": {},
   "outputs": [
    {
     "name": "stdout",
     "output_type": "stream",
     "text": [
      "['SGNex_A549_directRNA_replicate5_run1', 'SGNex_A549_directRNA_replicate6_run1']\n"
     ]
    }
   ],
   "source": [
    "# Get the names of the folders\n",
    "folders = !aws s3 --no-sign-request ls s3://sg-nex-data/data/processed_data/m6Anet/\n",
    "folders = [f.split()[1].strip('/') for f in folders]\n",
    "print(folders[:2])"
   ]
  },
  {
   "cell_type": "code",
   "execution_count": null,
   "metadata": {},
   "outputs": [
    {
     "name": "stdout",
     "output_type": "stream",
     "text": [
      "Model used: ../artifacts/best_model_with_smote.keras\n",
      "Downloading SGNex_A549_directRNA_replicate5_run1/data.json to tmp/SGNex_A549_directRNA_replicate5_run1_data.json\n",
      "Completed 409.5 MiB/772.6 MiB (2.0 MiB/s) with 1 file(s) remaining  \r"
     ]
    }
   ],
   "source": [
    "import os\n",
    "\n",
    "# Model to be used\n",
    "MODEL_PATH = '../artifacts/best_model_with_smote.keras'\n",
    "print(f'Model used: {MODEL_PATH}')\n",
    "\n",
    "# Loop through the folders to perform predictions\n",
    "for folder in folders:\n",
    "    # Define the paths\n",
    "    file_path = f's3://sg-nex-data/data/processed_data/m6Anet/{folder}/data.json' # Path to the data.json file in S3\n",
    "    data_path = f'tmp/{folder}_data.json' # Path to save the data.json file\n",
    "    pred_path = f'task_2/tmp/{folder}_pred.csv' # Saved as CSV file\n",
    "\n",
    "    # Download the data.json file if it does not exist\n",
    "    print(f'Downloading {folder}/data.json to {data_path}')\n",
    "    if not os.path.exists(data_path):\n",
    "        !aws s3 --no-sign-request cp $file_path $data_path\n",
    "\n",
    "    # Perform the prediction using the prediction.py script\n",
    "    !python prediction_LATEST.py --input $data_path --output $pred_path --model $path_to_model"
   ]
  },
  {
   "cell_type": "markdown",
   "metadata": {},
   "source": [
    "DEBUG"
   ]
  },
  {
   "cell_type": "code",
   "execution_count": null,
   "metadata": {},
   "outputs": [],
   "source": []
  }
 ],
 "metadata": {
  "kernelspec": {
   "display_name": "dsa4262",
   "language": "python",
   "name": "python3"
  },
  "language_info": {
   "codemirror_mode": {
    "name": "ipython",
    "version": 3
   },
   "file_extension": ".py",
   "mimetype": "text/x-python",
   "name": "python",
   "nbconvert_exporter": "python",
   "pygments_lexer": "ipython3",
   "version": "3.10.15"
  }
 },
 "nbformat": 4,
 "nbformat_minor": 2
}
