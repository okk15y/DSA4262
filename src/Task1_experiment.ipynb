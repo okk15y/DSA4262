{
 "cells": [
  {
   "cell_type": "markdown",
   "metadata": {},
   "source": [
    "### Helper Functions For Preprocessing Data"
   ]
  },
  {
   "cell_type": "code",
   "execution_count": 1,
   "metadata": {},
   "outputs": [],
   "source": [
    "from helper_functions import *"
   ]
  },
  {
   "cell_type": "markdown",
   "metadata": {},
   "source": [
    "### Preprocessing"
   ]
  },
  {
   "cell_type": "markdown",
   "metadata": {},
   "source": [
    "Load Data"
   ]
  },
  {
   "cell_type": "code",
   "execution_count": 2,
   "metadata": {},
   "outputs": [
    {
     "data": {
      "text/html": [
       "<div>\n",
       "<style scoped>\n",
       "    .dataframe tbody tr th:only-of-type {\n",
       "        vertical-align: middle;\n",
       "    }\n",
       "\n",
       "    .dataframe tbody tr th {\n",
       "        vertical-align: top;\n",
       "    }\n",
       "\n",
       "    .dataframe thead th {\n",
       "        text-align: right;\n",
       "    }\n",
       "</style>\n",
       "<table border=\"1\" class=\"dataframe\">\n",
       "  <thead>\n",
       "    <tr style=\"text-align: right;\">\n",
       "      <th></th>\n",
       "      <th>gene_id</th>\n",
       "      <th>transcript_id</th>\n",
       "      <th>transcript_position</th>\n",
       "      <th>label</th>\n",
       "    </tr>\n",
       "  </thead>\n",
       "  <tbody>\n",
       "    <tr>\n",
       "      <th>0</th>\n",
       "      <td>ENSG00000004059</td>\n",
       "      <td>ENST00000000233</td>\n",
       "      <td>244</td>\n",
       "      <td>0</td>\n",
       "    </tr>\n",
       "    <tr>\n",
       "      <th>1</th>\n",
       "      <td>ENSG00000004059</td>\n",
       "      <td>ENST00000000233</td>\n",
       "      <td>261</td>\n",
       "      <td>0</td>\n",
       "    </tr>\n",
       "    <tr>\n",
       "      <th>2</th>\n",
       "      <td>ENSG00000004059</td>\n",
       "      <td>ENST00000000233</td>\n",
       "      <td>316</td>\n",
       "      <td>0</td>\n",
       "    </tr>\n",
       "  </tbody>\n",
       "</table>\n",
       "</div>"
      ],
      "text/plain": [
       "           gene_id    transcript_id  transcript_position  label\n",
       "0  ENSG00000004059  ENST00000000233                  244      0\n",
       "1  ENSG00000004059  ENST00000000233                  261      0\n",
       "2  ENSG00000004059  ENST00000000233                  316      0"
      ]
     },
     "execution_count": 2,
     "metadata": {},
     "output_type": "execute_result"
    }
   ],
   "source": [
    "labels = pd.read_csv('../data/data.info.labelled')\n",
    "labels.head(3)"
   ]
  },
  {
   "cell_type": "code",
   "execution_count": 3,
   "metadata": {},
   "outputs": [
    {
     "data": {
      "text/html": [
       "<div>\n",
       "<style scoped>\n",
       "    .dataframe tbody tr th:only-of-type {\n",
       "        vertical-align: middle;\n",
       "    }\n",
       "\n",
       "    .dataframe tbody tr th {\n",
       "        vertical-align: top;\n",
       "    }\n",
       "\n",
       "    .dataframe thead th {\n",
       "        text-align: right;\n",
       "    }\n",
       "</style>\n",
       "<table border=\"1\" class=\"dataframe\">\n",
       "  <thead>\n",
       "    <tr style=\"text-align: right;\">\n",
       "      <th></th>\n",
       "      <th>transcript_id</th>\n",
       "      <th>position</th>\n",
       "      <th>sequence</th>\n",
       "      <th>reads</th>\n",
       "    </tr>\n",
       "  </thead>\n",
       "  <tbody>\n",
       "    <tr>\n",
       "      <th>0</th>\n",
       "      <td>ENST00000000233</td>\n",
       "      <td>244</td>\n",
       "      <td>AAGACCA</td>\n",
       "      <td>[[0.00299, 2.06, 125.0, 0.0177, 10.4, 122.0, 0...</td>\n",
       "    </tr>\n",
       "    <tr>\n",
       "      <th>1</th>\n",
       "      <td>ENST00000000233</td>\n",
       "      <td>261</td>\n",
       "      <td>CAAACTG</td>\n",
       "      <td>[[0.0126, 1.95, 111.0, 0.0125, 1.27, 108.0, 0....</td>\n",
       "    </tr>\n",
       "    <tr>\n",
       "      <th>2</th>\n",
       "      <td>ENST00000000233</td>\n",
       "      <td>316</td>\n",
       "      <td>GAAACAG</td>\n",
       "      <td>[[0.00432, 2.02, 104.0, 0.00299, 3.56, 99.3, 0...</td>\n",
       "    </tr>\n",
       "  </tbody>\n",
       "</table>\n",
       "</div>"
      ],
      "text/plain": [
       "     transcript_id  position sequence  \\\n",
       "0  ENST00000000233       244  AAGACCA   \n",
       "1  ENST00000000233       261  CAAACTG   \n",
       "2  ENST00000000233       316  GAAACAG   \n",
       "\n",
       "                                               reads  \n",
       "0  [[0.00299, 2.06, 125.0, 0.0177, 10.4, 122.0, 0...  \n",
       "1  [[0.0126, 1.95, 111.0, 0.0125, 1.27, 108.0, 0....  \n",
       "2  [[0.00432, 2.02, 104.0, 0.00299, 3.56, 99.3, 0...  "
      ]
     },
     "execution_count": 3,
     "metadata": {},
     "output_type": "execute_result"
    }
   ],
   "source": [
    "df = load_data_to_dataframe('../data/dataset0.json.gz')\n",
    "df.head(3)"
   ]
  },
  {
   "cell_type": "markdown",
   "metadata": {},
   "source": [
    "Assign labels to the data"
   ]
  },
  {
   "cell_type": "code",
   "execution_count": null,
   "metadata": {},
   "outputs": [],
   "source": [
    "df = combine_data(df, labels)\n",
    "df.head(3)"
   ]
  },
  {
   "cell_type": "markdown",
   "metadata": {},
   "source": [
    "Train test split by gene_id"
   ]
  },
  {
   "cell_type": "code",
   "execution_count": 13,
   "metadata": {},
   "outputs": [
    {
     "data": {
      "text/html": [
       "<div>\n",
       "<style scoped>\n",
       "    .dataframe tbody tr th:only-of-type {\n",
       "        vertical-align: middle;\n",
       "    }\n",
       "\n",
       "    .dataframe tbody tr th {\n",
       "        vertical-align: top;\n",
       "    }\n",
       "\n",
       "    .dataframe thead th {\n",
       "        text-align: right;\n",
       "    }\n",
       "</style>\n",
       "<table border=\"1\" class=\"dataframe\">\n",
       "  <thead>\n",
       "    <tr style=\"text-align: right;\">\n",
       "      <th></th>\n",
       "      <th>gene_id</th>\n",
       "      <th>transcript_id</th>\n",
       "      <th>position</th>\n",
       "      <th>sequence</th>\n",
       "      <th>reads</th>\n",
       "      <th>label</th>\n",
       "    </tr>\n",
       "  </thead>\n",
       "  <tbody>\n",
       "    <tr>\n",
       "      <th>18</th>\n",
       "      <td>ENSG00000003056</td>\n",
       "      <td>ENST00000000412</td>\n",
       "      <td>355</td>\n",
       "      <td>GAAACTA</td>\n",
       "      <td>[[0.00232, 2.41, 109.0, 0.0222, 2.85, 111.0, 0...</td>\n",
       "      <td>0</td>\n",
       "    </tr>\n",
       "    <tr>\n",
       "      <th>19</th>\n",
       "      <td>ENSG00000003056</td>\n",
       "      <td>ENST00000000412</td>\n",
       "      <td>367</td>\n",
       "      <td>GGGACCG</td>\n",
       "      <td>[[0.00232, 1.32, 117.0, 0.0073, 7.89, 120.0, 0...</td>\n",
       "      <td>0</td>\n",
       "    </tr>\n",
       "    <tr>\n",
       "      <th>20</th>\n",
       "      <td>ENSG00000003056</td>\n",
       "      <td>ENST00000000412</td>\n",
       "      <td>496</td>\n",
       "      <td>AGGACTG</td>\n",
       "      <td>[[0.00398, 2.46, 111.0, 0.016, 3.36, 125.0, 0....</td>\n",
       "      <td>0</td>\n",
       "    </tr>\n",
       "  </tbody>\n",
       "</table>\n",
       "</div>"
      ],
      "text/plain": [
       "            gene_id    transcript_id  position sequence  \\\n",
       "18  ENSG00000003056  ENST00000000412       355  GAAACTA   \n",
       "19  ENSG00000003056  ENST00000000412       367  GGGACCG   \n",
       "20  ENSG00000003056  ENST00000000412       496  AGGACTG   \n",
       "\n",
       "                                                reads  label  \n",
       "18  [[0.00232, 2.41, 109.0, 0.0222, 2.85, 111.0, 0...      0  \n",
       "19  [[0.00232, 1.32, 117.0, 0.0073, 7.89, 120.0, 0...      0  \n",
       "20  [[0.00398, 2.46, 111.0, 0.016, 3.36, 125.0, 0....      0  "
      ]
     },
     "metadata": {},
     "output_type": "display_data"
    },
    {
     "data": {
      "text/plain": [
       "(97073, 6)"
      ]
     },
     "metadata": {},
     "output_type": "display_data"
    },
    {
     "data": {
      "text/html": [
       "<div>\n",
       "<style scoped>\n",
       "    .dataframe tbody tr th:only-of-type {\n",
       "        vertical-align: middle;\n",
       "    }\n",
       "\n",
       "    .dataframe tbody tr th {\n",
       "        vertical-align: top;\n",
       "    }\n",
       "\n",
       "    .dataframe thead th {\n",
       "        text-align: right;\n",
       "    }\n",
       "</style>\n",
       "<table border=\"1\" class=\"dataframe\">\n",
       "  <thead>\n",
       "    <tr style=\"text-align: right;\">\n",
       "      <th></th>\n",
       "      <th>gene_id</th>\n",
       "      <th>transcript_id</th>\n",
       "      <th>position</th>\n",
       "      <th>sequence</th>\n",
       "      <th>reads</th>\n",
       "      <th>label</th>\n",
       "    </tr>\n",
       "  </thead>\n",
       "  <tbody>\n",
       "    <tr>\n",
       "      <th>0</th>\n",
       "      <td>ENSG00000004059</td>\n",
       "      <td>ENST00000000233</td>\n",
       "      <td>244</td>\n",
       "      <td>AAGACCA</td>\n",
       "      <td>[[0.00299, 2.06, 125.0, 0.0177, 10.4, 122.0, 0...</td>\n",
       "      <td>0</td>\n",
       "    </tr>\n",
       "    <tr>\n",
       "      <th>1</th>\n",
       "      <td>ENSG00000004059</td>\n",
       "      <td>ENST00000000233</td>\n",
       "      <td>261</td>\n",
       "      <td>CAAACTG</td>\n",
       "      <td>[[0.0126, 1.95, 111.0, 0.0125, 1.27, 108.0, 0....</td>\n",
       "      <td>0</td>\n",
       "    </tr>\n",
       "    <tr>\n",
       "      <th>2</th>\n",
       "      <td>ENSG00000004059</td>\n",
       "      <td>ENST00000000233</td>\n",
       "      <td>316</td>\n",
       "      <td>GAAACAG</td>\n",
       "      <td>[[0.00432, 2.02, 104.0, 0.00299, 3.56, 99.3, 0...</td>\n",
       "      <td>0</td>\n",
       "    </tr>\n",
       "  </tbody>\n",
       "</table>\n",
       "</div>"
      ],
      "text/plain": [
       "           gene_id    transcript_id  position sequence  \\\n",
       "0  ENSG00000004059  ENST00000000233       244  AAGACCA   \n",
       "1  ENSG00000004059  ENST00000000233       261  CAAACTG   \n",
       "2  ENSG00000004059  ENST00000000233       316  GAAACAG   \n",
       "\n",
       "                                               reads  label  \n",
       "0  [[0.00299, 2.06, 125.0, 0.0177, 10.4, 122.0, 0...      0  \n",
       "1  [[0.0126, 1.95, 111.0, 0.0125, 1.27, 108.0, 0....      0  \n",
       "2  [[0.00432, 2.02, 104.0, 0.00299, 3.56, 99.3, 0...      0  "
      ]
     },
     "metadata": {},
     "output_type": "display_data"
    },
    {
     "data": {
      "text/plain": [
       "(24765, 6)"
      ]
     },
     "metadata": {},
     "output_type": "display_data"
    }
   ],
   "source": [
    "# Train test split by gene id\n",
    "from sklearn.model_selection import train_test_split\n",
    "train_gene_ids, test_gene_ids = train_test_split(df['gene_id'].unique(), test_size=0.2, random_state=4262)\n",
    "\n",
    "train_df = df[df['gene_id'].isin(train_gene_ids)].copy()\n",
    "test_df = df[df['gene_id'].isin(test_gene_ids)].copy()\n",
    "\n",
    "display(train_df.head(3), train_df.shape)\n",
    "display(test_df.head(3), test_df.shape)"
   ]
  },
  {
   "cell_type": "markdown",
   "metadata": {},
   "source": [
    "Extract mean reads for test data and training data where label == 0, else flatten."
   ]
  },
  {
   "cell_type": "code",
   "execution_count": 22,
   "metadata": {},
   "outputs": [
    {
     "data": {
      "text/html": [
       "<div>\n",
       "<style scoped>\n",
       "    .dataframe tbody tr th:only-of-type {\n",
       "        vertical-align: middle;\n",
       "    }\n",
       "\n",
       "    .dataframe tbody tr th {\n",
       "        vertical-align: top;\n",
       "    }\n",
       "\n",
       "    .dataframe thead th {\n",
       "        text-align: right;\n",
       "    }\n",
       "</style>\n",
       "<table border=\"1\" class=\"dataframe\">\n",
       "  <thead>\n",
       "    <tr style=\"text-align: right;\">\n",
       "      <th></th>\n",
       "      <th>gene_id</th>\n",
       "      <th>transcript_id</th>\n",
       "      <th>position</th>\n",
       "      <th>sequence</th>\n",
       "      <th>reads</th>\n",
       "      <th>label</th>\n",
       "    </tr>\n",
       "  </thead>\n",
       "  <tbody>\n",
       "    <tr>\n",
       "      <th>52</th>\n",
       "      <td>ENSG00000003056</td>\n",
       "      <td>ENST00000000412</td>\n",
       "      <td>2440</td>\n",
       "      <td>TGGACTG</td>\n",
       "      <td>[[0.00531, 4.27, 119.0, 0.00764, 9.57, 114.0, ...</td>\n",
       "      <td>1</td>\n",
       "    </tr>\n",
       "    <tr>\n",
       "      <th>53</th>\n",
       "      <td>ENSG00000003056</td>\n",
       "      <td>ENST00000000412</td>\n",
       "      <td>2462</td>\n",
       "      <td>TGAACCC</td>\n",
       "      <td>[[0.00777, 6.39, 123.0, 0.0154, 2.67, 96.8, 0....</td>\n",
       "      <td>1</td>\n",
       "    </tr>\n",
       "    <tr>\n",
       "      <th>55</th>\n",
       "      <td>ENSG00000003056</td>\n",
       "      <td>ENST00000000412</td>\n",
       "      <td>2499</td>\n",
       "      <td>TGGACAC</td>\n",
       "      <td>[[0.00736, 3.78, 119.0, 0.00564, 15.3, 107.0, ...</td>\n",
       "      <td>1</td>\n",
       "    </tr>\n",
       "  </tbody>\n",
       "</table>\n",
       "</div>"
      ],
      "text/plain": [
       "            gene_id    transcript_id  position sequence  \\\n",
       "52  ENSG00000003056  ENST00000000412      2440  TGGACTG   \n",
       "53  ENSG00000003056  ENST00000000412      2462  TGAACCC   \n",
       "55  ENSG00000003056  ENST00000000412      2499  TGGACAC   \n",
       "\n",
       "                                                reads  label  \n",
       "52  [[0.00531, 4.27, 119.0, 0.00764, 9.57, 114.0, ...      1  \n",
       "53  [[0.00777, 6.39, 123.0, 0.0154, 2.67, 96.8, 0....      1  \n",
       "55  [[0.00736, 3.78, 119.0, 0.00564, 15.3, 107.0, ...      1  "
      ]
     },
     "execution_count": 22,
     "metadata": {},
     "output_type": "execute_result"
    }
   ],
   "source": [
    "lab1_df = train_df[train_df['label'] == 1].copy()\n",
    "lab1_df.head(3)"
   ]
  },
  {
   "cell_type": "code",
   "execution_count": null,
   "metadata": {},
   "outputs": [
    {
     "data": {
      "text/html": [
       "<div>\n",
       "<style scoped>\n",
       "    .dataframe tbody tr th:only-of-type {\n",
       "        vertical-align: middle;\n",
       "    }\n",
       "\n",
       "    .dataframe tbody tr th {\n",
       "        vertical-align: top;\n",
       "    }\n",
       "\n",
       "    .dataframe thead th {\n",
       "        text-align: right;\n",
       "    }\n",
       "</style>\n",
       "<table border=\"1\" class=\"dataframe\">\n",
       "  <thead>\n",
       "    <tr style=\"text-align: right;\">\n",
       "      <th></th>\n",
       "      <th>gene_id</th>\n",
       "      <th>transcript_id</th>\n",
       "      <th>position</th>\n",
       "      <th>sequence</th>\n",
       "      <th>reads</th>\n",
       "      <th>mean_reads</th>\n",
       "      <th>label</th>\n",
       "    </tr>\n",
       "  </thead>\n",
       "  <tbody>\n",
       "    <tr>\n",
       "      <th>0</th>\n",
       "      <td>ENSG00000003056</td>\n",
       "      <td>ENST00000000412</td>\n",
       "      <td>2440</td>\n",
       "      <td>TGGACTG</td>\n",
       "      <td>[0.00531, 4.27, 119.0, 0.00764, 9.57, 114.0, 0...</td>\n",
       "      <td>[0.00531, 4.27, 119.0, 0.00764, 9.57, 114.0, 0...</td>\n",
       "      <td>1</td>\n",
       "    </tr>\n",
       "    <tr>\n",
       "      <th>1</th>\n",
       "      <td>ENSG00000003056</td>\n",
       "      <td>ENST00000000412</td>\n",
       "      <td>2440</td>\n",
       "      <td>TGGACTG</td>\n",
       "      <td>[0.00598, 2.26, 115.0, 0.00299, 1.37, 119.0, 0...</td>\n",
       "      <td>[0.00598, 2.26, 115.0, 0.00299, 1.37, 119.0, 0...</td>\n",
       "      <td>1</td>\n",
       "    </tr>\n",
       "    <tr>\n",
       "      <th>2</th>\n",
       "      <td>ENSG00000003056</td>\n",
       "      <td>ENST00000000412</td>\n",
       "      <td>2440</td>\n",
       "      <td>TGGACTG</td>\n",
       "      <td>[0.00564, 2.8, 112.0, 0.00697, 4.08, 118.0, 0....</td>\n",
       "      <td>[0.00564, 2.8, 112.0, 0.00697, 4.08, 118.0, 0....</td>\n",
       "      <td>1</td>\n",
       "    </tr>\n",
       "    <tr>\n",
       "      <th>3</th>\n",
       "      <td>ENSG00000003056</td>\n",
       "      <td>ENST00000000412</td>\n",
       "      <td>2440</td>\n",
       "      <td>TGGACTG</td>\n",
       "      <td>[0.0093, 2.02, 116.0, 0.011, 5.8, 116.0, 0.007...</td>\n",
       "      <td>[0.0093, 2.02, 116.0, 0.011, 5.8, 116.0, 0.007...</td>\n",
       "      <td>1</td>\n",
       "    </tr>\n",
       "    <tr>\n",
       "      <th>4</th>\n",
       "      <td>ENSG00000003056</td>\n",
       "      <td>ENST00000000412</td>\n",
       "      <td>2440</td>\n",
       "      <td>TGGACTG</td>\n",
       "      <td>[0.00166, 5.25, 116.0, 0.0183, 3.1, 121.0, 0.0...</td>\n",
       "      <td>[0.00166, 5.25, 116.0, 0.0183, 3.1, 121.0, 0.0...</td>\n",
       "      <td>1</td>\n",
       "    </tr>\n",
       "  </tbody>\n",
       "</table>\n",
       "</div>"
      ],
      "text/plain": [
       "           gene_id    transcript_id  position sequence  \\\n",
       "0  ENSG00000003056  ENST00000000412      2440  TGGACTG   \n",
       "1  ENSG00000003056  ENST00000000412      2440  TGGACTG   \n",
       "2  ENSG00000003056  ENST00000000412      2440  TGGACTG   \n",
       "3  ENSG00000003056  ENST00000000412      2440  TGGACTG   \n",
       "4  ENSG00000003056  ENST00000000412      2440  TGGACTG   \n",
       "\n",
       "                                               reads  \\\n",
       "0  [0.00531, 4.27, 119.0, 0.00764, 9.57, 114.0, 0...   \n",
       "1  [0.00598, 2.26, 115.0, 0.00299, 1.37, 119.0, 0...   \n",
       "2  [0.00564, 2.8, 112.0, 0.00697, 4.08, 118.0, 0....   \n",
       "3  [0.0093, 2.02, 116.0, 0.011, 5.8, 116.0, 0.007...   \n",
       "4  [0.00166, 5.25, 116.0, 0.0183, 3.1, 121.0, 0.0...   \n",
       "\n",
       "                                          mean_reads  label  \n",
       "0  [0.00531, 4.27, 119.0, 0.00764, 9.57, 114.0, 0...      1  \n",
       "1  [0.00598, 2.26, 115.0, 0.00299, 1.37, 119.0, 0...      1  \n",
       "2  [0.00564, 2.8, 112.0, 0.00697, 4.08, 118.0, 0....      1  \n",
       "3  [0.0093, 2.02, 116.0, 0.011, 5.8, 116.0, 0.007...      1  \n",
       "4  [0.00166, 5.25, 116.0, 0.0183, 3.1, 121.0, 0.0...      1  "
      ]
     },
     "execution_count": 29,
     "metadata": {},
     "output_type": "execute_result"
    }
   ],
   "source": [
    "def flatten_reads(row):\n",
    "    gene_id = row['gene_id']\n",
    "    transcript_id = row['transcript_id']\n",
    "    position = row['position']\n",
    "    sequence = row['sequence']\n",
    "    reads = row['reads']\n",
    "    label = row['label']\n",
    "    return pd.DataFrame({'gene_id': [gene_id] * len(reads),\n",
    "                         'transcript_id': [transcript_id] * len(reads),\n",
    "                         'position': [position] * len(reads),\n",
    "                         'sequence': [sequence] * len(reads),\n",
    "                         'reads': reads,\n",
    "                         'mean_reads': reads, \n",
    "                         'label': [label] * len(reads)})\n",
    "\n",
    "# Test on first row\n",
    "flatten_reads(lab1_df.iloc[0]).head(5)"
   ]
  },
  {
   "cell_type": "code",
   "execution_count": 35,
   "metadata": {},
   "outputs": [
    {
     "name": "stdout",
     "output_type": "stream",
     "text": [
      "(405306, 7)\n"
     ]
    },
    {
     "data": {
      "text/html": [
       "<div>\n",
       "<style scoped>\n",
       "    .dataframe tbody tr th:only-of-type {\n",
       "        vertical-align: middle;\n",
       "    }\n",
       "\n",
       "    .dataframe tbody tr th {\n",
       "        vertical-align: top;\n",
       "    }\n",
       "\n",
       "    .dataframe thead th {\n",
       "        text-align: right;\n",
       "    }\n",
       "</style>\n",
       "<table border=\"1\" class=\"dataframe\">\n",
       "  <thead>\n",
       "    <tr style=\"text-align: right;\">\n",
       "      <th></th>\n",
       "      <th>gene_id</th>\n",
       "      <th>transcript_id</th>\n",
       "      <th>position</th>\n",
       "      <th>sequence</th>\n",
       "      <th>reads</th>\n",
       "      <th>mean_reads</th>\n",
       "      <th>label</th>\n",
       "    </tr>\n",
       "  </thead>\n",
       "  <tbody>\n",
       "    <tr>\n",
       "      <th>0</th>\n",
       "      <td>ENSG00000003056</td>\n",
       "      <td>ENST00000000412</td>\n",
       "      <td>2440</td>\n",
       "      <td>TGGACTG</td>\n",
       "      <td>[0.00531, 4.27, 119.0, 0.00764, 9.57, 114.0, 0...</td>\n",
       "      <td>[0.00531, 4.27, 119.0, 0.00764, 9.57, 114.0, 0...</td>\n",
       "      <td>1</td>\n",
       "    </tr>\n",
       "    <tr>\n",
       "      <th>1</th>\n",
       "      <td>ENSG00000003056</td>\n",
       "      <td>ENST00000000412</td>\n",
       "      <td>2440</td>\n",
       "      <td>TGGACTG</td>\n",
       "      <td>[0.00598, 2.26, 115.0, 0.00299, 1.37, 119.0, 0...</td>\n",
       "      <td>[0.00598, 2.26, 115.0, 0.00299, 1.37, 119.0, 0...</td>\n",
       "      <td>1</td>\n",
       "    </tr>\n",
       "    <tr>\n",
       "      <th>2</th>\n",
       "      <td>ENSG00000003056</td>\n",
       "      <td>ENST00000000412</td>\n",
       "      <td>2440</td>\n",
       "      <td>TGGACTG</td>\n",
       "      <td>[0.00564, 2.8, 112.0, 0.00697, 4.08, 118.0, 0....</td>\n",
       "      <td>[0.00564, 2.8, 112.0, 0.00697, 4.08, 118.0, 0....</td>\n",
       "      <td>1</td>\n",
       "    </tr>\n",
       "  </tbody>\n",
       "</table>\n",
       "</div>"
      ],
      "text/plain": [
       "           gene_id    transcript_id  position sequence  \\\n",
       "0  ENSG00000003056  ENST00000000412      2440  TGGACTG   \n",
       "1  ENSG00000003056  ENST00000000412      2440  TGGACTG   \n",
       "2  ENSG00000003056  ENST00000000412      2440  TGGACTG   \n",
       "\n",
       "                                               reads  \\\n",
       "0  [0.00531, 4.27, 119.0, 0.00764, 9.57, 114.0, 0...   \n",
       "1  [0.00598, 2.26, 115.0, 0.00299, 1.37, 119.0, 0...   \n",
       "2  [0.00564, 2.8, 112.0, 0.00697, 4.08, 118.0, 0....   \n",
       "\n",
       "                                          mean_reads  label  \n",
       "0  [0.00531, 4.27, 119.0, 0.00764, 9.57, 114.0, 0...      1  \n",
       "1  [0.00598, 2.26, 115.0, 0.00299, 1.37, 119.0, 0...      1  \n",
       "2  [0.00564, 2.8, 112.0, 0.00697, 4.08, 118.0, 0....      1  "
      ]
     },
     "execution_count": 35,
     "metadata": {},
     "output_type": "execute_result"
    }
   ],
   "source": [
    "# flatten lab1_df\n",
    "lab1_df = lab1_df.apply(flatten_reads, axis=1)\n",
    "lab1_df = pd.concat(lab1_df.values, ignore_index=True)\n",
    "print(lab1_df.shape)\n",
    "lab1_df.head(3)"
   ]
  },
  {
   "cell_type": "code",
   "execution_count": 73,
   "metadata": {},
   "outputs": [
    {
     "name": "stdout",
     "output_type": "stream",
     "text": [
      "(8290665, 7)\n"
     ]
    },
    {
     "data": {
      "text/html": [
       "<div>\n",
       "<style scoped>\n",
       "    .dataframe tbody tr th:only-of-type {\n",
       "        vertical-align: middle;\n",
       "    }\n",
       "\n",
       "    .dataframe tbody tr th {\n",
       "        vertical-align: top;\n",
       "    }\n",
       "\n",
       "    .dataframe thead th {\n",
       "        text-align: right;\n",
       "    }\n",
       "</style>\n",
       "<table border=\"1\" class=\"dataframe\">\n",
       "  <thead>\n",
       "    <tr style=\"text-align: right;\">\n",
       "      <th></th>\n",
       "      <th>gene_id</th>\n",
       "      <th>transcript_id</th>\n",
       "      <th>position</th>\n",
       "      <th>sequence</th>\n",
       "      <th>reads</th>\n",
       "      <th>mean_reads</th>\n",
       "      <th>label</th>\n",
       "    </tr>\n",
       "  </thead>\n",
       "  <tbody>\n",
       "    <tr>\n",
       "      <th>0</th>\n",
       "      <td>ENSG00000003056</td>\n",
       "      <td>ENST00000000412</td>\n",
       "      <td>355</td>\n",
       "      <td>GAAACTA</td>\n",
       "      <td>[0.00232, 2.41, 109.0, 0.0222, 2.85, 111.0, 0....</td>\n",
       "      <td>35.772351</td>\n",
       "      <td>0</td>\n",
       "    </tr>\n",
       "    <tr>\n",
       "      <th>1</th>\n",
       "      <td>ENSG00000003056</td>\n",
       "      <td>ENST00000000412</td>\n",
       "      <td>355</td>\n",
       "      <td>GAAACTA</td>\n",
       "      <td>[0.00365, 1.25, 109.0, 0.00626, 3.18, 107.0, 0...</td>\n",
       "      <td>35.221712</td>\n",
       "      <td>0</td>\n",
       "    </tr>\n",
       "    <tr>\n",
       "      <th>2</th>\n",
       "      <td>ENSG00000003056</td>\n",
       "      <td>ENST00000000412</td>\n",
       "      <td>355</td>\n",
       "      <td>GAAACTA</td>\n",
       "      <td>[0.0091, 1.93, 110.0, 0.011, 2.52, 109.0, 0.00...</td>\n",
       "      <td>35.694862</td>\n",
       "      <td>0</td>\n",
       "    </tr>\n",
       "  </tbody>\n",
       "</table>\n",
       "</div>"
      ],
      "text/plain": [
       "           gene_id    transcript_id  position sequence  \\\n",
       "0  ENSG00000003056  ENST00000000412       355  GAAACTA   \n",
       "1  ENSG00000003056  ENST00000000412       355  GAAACTA   \n",
       "2  ENSG00000003056  ENST00000000412       355  GAAACTA   \n",
       "\n",
       "                                               reads  mean_reads  label  \n",
       "0  [0.00232, 2.41, 109.0, 0.0222, 2.85, 111.0, 0....   35.772351      0  \n",
       "1  [0.00365, 1.25, 109.0, 0.00626, 3.18, 107.0, 0...   35.221712      0  \n",
       "2  [0.0091, 1.93, 110.0, 0.011, 2.52, 109.0, 0.00...   35.694862      0  "
      ]
     },
     "execution_count": 73,
     "metadata": {},
     "output_type": "execute_result"
    }
   ],
   "source": [
    "lab0_df = train_df[train_df['label'] == 0].copy()\n",
    "# Extract mean reads\n",
    "lab0_df = extract_mean_reads(lab0_df)\n",
    "\n",
    "# Flatten lab0_df\n",
    "# lab0_df = lab0_df.apply(flatten_reads, axis=1)\n",
    "# lab0_df = pd.concat(lab0_df.values, ignore_index=True)\n",
    "print(lab0_df.shape)\n",
    "lab0_df.head(3)"
   ]
  },
  {
   "cell_type": "code",
   "execution_count": null,
   "metadata": {},
   "outputs": [],
   "source": [
    "# Combine lab0 and lab1\n",
    "train_df = pd.concat([lab0_df, lab1_df], ignore_index=True)\n",
    "train_df.head(3)"
   ]
  },
  {
   "cell_type": "code",
   "execution_count": 75,
   "metadata": {},
   "outputs": [
    {
     "data": {
      "text/html": [
       "<div>\n",
       "<style scoped>\n",
       "    .dataframe tbody tr th:only-of-type {\n",
       "        vertical-align: middle;\n",
       "    }\n",
       "\n",
       "    .dataframe tbody tr th {\n",
       "        vertical-align: top;\n",
       "    }\n",
       "\n",
       "    .dataframe thead th {\n",
       "        text-align: right;\n",
       "    }\n",
       "</style>\n",
       "<table border=\"1\" class=\"dataframe\">\n",
       "  <thead>\n",
       "    <tr style=\"text-align: right;\">\n",
       "      <th></th>\n",
       "      <th>gene_id</th>\n",
       "      <th>transcript_id</th>\n",
       "      <th>position</th>\n",
       "      <th>sequence</th>\n",
       "      <th>reads</th>\n",
       "      <th>label</th>\n",
       "      <th>mean_reads</th>\n",
       "    </tr>\n",
       "  </thead>\n",
       "  <tbody>\n",
       "    <tr>\n",
       "      <th>0</th>\n",
       "      <td>ENSG00000004059</td>\n",
       "      <td>ENST00000000233</td>\n",
       "      <td>244</td>\n",
       "      <td>AAGACCA</td>\n",
       "      <td>[[0.00299, 2.06, 125.0, 0.0177, 10.4, 122.0, 0...</td>\n",
       "      <td>0</td>\n",
       "      <td>[0.008264378378378385, 4.223783783783786, 123....</td>\n",
       "    </tr>\n",
       "    <tr>\n",
       "      <th>1</th>\n",
       "      <td>ENSG00000004059</td>\n",
       "      <td>ENST00000000233</td>\n",
       "      <td>261</td>\n",
       "      <td>CAAACTG</td>\n",
       "      <td>[[0.0126, 1.95, 111.0, 0.0125, 1.27, 108.0, 0....</td>\n",
       "      <td>0</td>\n",
       "      <td>[0.006609244186046515, 3.2164244186046504, 109...</td>\n",
       "    </tr>\n",
       "    <tr>\n",
       "      <th>2</th>\n",
       "      <td>ENSG00000004059</td>\n",
       "      <td>ENST00000000233</td>\n",
       "      <td>316</td>\n",
       "      <td>GAAACAG</td>\n",
       "      <td>[[0.00432, 2.02, 104.0, 0.00299, 3.56, 99.3, 0...</td>\n",
       "      <td>0</td>\n",
       "      <td>[0.0075699999999999995, 2.94054054054054, 105....</td>\n",
       "    </tr>\n",
       "  </tbody>\n",
       "</table>\n",
       "</div>"
      ],
      "text/plain": [
       "           gene_id    transcript_id  position sequence  \\\n",
       "0  ENSG00000004059  ENST00000000233       244  AAGACCA   \n",
       "1  ENSG00000004059  ENST00000000233       261  CAAACTG   \n",
       "2  ENSG00000004059  ENST00000000233       316  GAAACAG   \n",
       "\n",
       "                                               reads  label  \\\n",
       "0  [[0.00299, 2.06, 125.0, 0.0177, 10.4, 122.0, 0...      0   \n",
       "1  [[0.0126, 1.95, 111.0, 0.0125, 1.27, 108.0, 0....      0   \n",
       "2  [[0.00432, 2.02, 104.0, 0.00299, 3.56, 99.3, 0...      0   \n",
       "\n",
       "                                          mean_reads  \n",
       "0  [0.008264378378378385, 4.223783783783786, 123....  \n",
       "1  [0.006609244186046515, 3.2164244186046504, 109...  \n",
       "2  [0.0075699999999999995, 2.94054054054054, 105....  "
      ]
     },
     "execution_count": 75,
     "metadata": {},
     "output_type": "execute_result"
    }
   ],
   "source": [
    "test_df = extract_mean_reads(test_df)\n",
    "test_df.head(3)"
   ]
  },
  {
   "cell_type": "markdown",
   "metadata": {},
   "source": [
    "Scale mean reads"
   ]
  },
  {
   "cell_type": "code",
   "execution_count": 76,
   "metadata": {},
   "outputs": [
    {
     "ename": "ValueError",
     "evalue": "all the input array dimensions except for the concatenation axis must match exactly, but along dimension 1, the array at index 0 has size 1 and the array at index 8290665 has size 9",
     "output_type": "error",
     "traceback": [
      "\u001b[1;31m---------------------------------------------------------------------------\u001b[0m",
      "\u001b[1;31mValueError\u001b[0m                                Traceback (most recent call last)",
      "Cell \u001b[1;32mIn[76], line 2\u001b[0m\n\u001b[0;32m      1\u001b[0m \u001b[38;5;66;03m# Scale mean reads of train data first, then use the fitted scaler to scale test data\u001b[39;00m\n\u001b[1;32m----> 2\u001b[0m scaler, scaled_train_df \u001b[38;5;241m=\u001b[39m \u001b[43mscale_mean_reads\u001b[49m\u001b[43m(\u001b[49m\u001b[43mtrain_df\u001b[49m\u001b[43m)\u001b[49m\n\u001b[0;32m      3\u001b[0m scaler, scaled_test_df \u001b[38;5;241m=\u001b[39m scale_mean_reads(test_df, scaler\u001b[38;5;241m=\u001b[39mscaler)\n\u001b[0;32m      5\u001b[0m display(scaled_train_df\u001b[38;5;241m.\u001b[39mhead(\u001b[38;5;241m3\u001b[39m))\n",
      "File \u001b[1;32mc:\\Users\\hongl\\OneDrive - National University of Singapore\\Mods\\Y4S1\\DSA4262\\m6A Prediction Model\\src\\helper_functions.py:128\u001b[0m, in \u001b[0;36mscale_mean_reads\u001b[1;34m(df, scaler, scaler_path)\u001b[0m\n\u001b[0;32m    126\u001b[0m \u001b[38;5;28;01mif\u001b[39;00m scaler \u001b[38;5;129;01mis\u001b[39;00m \u001b[38;5;28;01mNone\u001b[39;00m: \u001b[38;5;66;03m# If no scaler is provided, fit a new one and save it\u001b[39;00m\n\u001b[0;32m    127\u001b[0m     scaler \u001b[38;5;241m=\u001b[39m StandardScaler()\n\u001b[1;32m--> 128\u001b[0m     scaled_mean_reads \u001b[38;5;241m=\u001b[39m scaler\u001b[38;5;241m.\u001b[39mfit_transform(\u001b[43mnp\u001b[49m\u001b[38;5;241;43m.\u001b[39;49m\u001b[43mvstack\u001b[49m\u001b[43m(\u001b[49m\u001b[43mdf\u001b[49m\u001b[43m[\u001b[49m\u001b[38;5;124;43m'\u001b[39;49m\u001b[38;5;124;43mmean_reads\u001b[39;49m\u001b[38;5;124;43m'\u001b[39;49m\u001b[43m]\u001b[49m\u001b[38;5;241;43m.\u001b[39;49m\u001b[43mvalues\u001b[49m\u001b[43m)\u001b[49m)\n\u001b[0;32m    129\u001b[0m     joblib\u001b[38;5;241m.\u001b[39mdump(scaler, scaler_path)\n\u001b[0;32m    130\u001b[0m     \u001b[38;5;28mprint\u001b[39m(\u001b[38;5;124m'\u001b[39m\u001b[38;5;124mScaler saved to\u001b[39m\u001b[38;5;124m'\u001b[39m, scaler_path)\n",
      "File \u001b[1;32mc:\\Users\\hongl\\AppData\\Local\\Programs\\Python\\Python310\\lib\\site-packages\\numpy\\core\\shape_base.py:289\u001b[0m, in \u001b[0;36mvstack\u001b[1;34m(tup, dtype, casting)\u001b[0m\n\u001b[0;32m    287\u001b[0m \u001b[38;5;28;01mif\u001b[39;00m \u001b[38;5;129;01mnot\u001b[39;00m \u001b[38;5;28misinstance\u001b[39m(arrs, \u001b[38;5;28mlist\u001b[39m):\n\u001b[0;32m    288\u001b[0m     arrs \u001b[38;5;241m=\u001b[39m [arrs]\n\u001b[1;32m--> 289\u001b[0m \u001b[38;5;28;01mreturn\u001b[39;00m \u001b[43m_nx\u001b[49m\u001b[38;5;241;43m.\u001b[39;49m\u001b[43mconcatenate\u001b[49m\u001b[43m(\u001b[49m\u001b[43marrs\u001b[49m\u001b[43m,\u001b[49m\u001b[43m \u001b[49m\u001b[38;5;241;43m0\u001b[39;49m\u001b[43m,\u001b[49m\u001b[43m \u001b[49m\u001b[43mdtype\u001b[49m\u001b[38;5;241;43m=\u001b[39;49m\u001b[43mdtype\u001b[49m\u001b[43m,\u001b[49m\u001b[43m \u001b[49m\u001b[43mcasting\u001b[49m\u001b[38;5;241;43m=\u001b[39;49m\u001b[43mcasting\u001b[49m\u001b[43m)\u001b[49m\n",
      "\u001b[1;31mValueError\u001b[0m: all the input array dimensions except for the concatenation axis must match exactly, but along dimension 1, the array at index 0 has size 1 and the array at index 8290665 has size 9"
     ]
    }
   ],
   "source": [
    "# Scale mean reads of train data first, then use the fitted scaler to scale test data\n",
    "scaler, scaled_train_df = scale_mean_reads(train_df)\n",
    "scaler, scaled_test_df = scale_mean_reads(test_df, scaler=scaler)\n",
    "\n",
    "display(scaled_train_df.head(3))\n",
    "display(scaled_test_df.head(3))"
   ]
  },
  {
   "cell_type": "markdown",
   "metadata": {},
   "source": [
    "Extract middle sequence"
   ]
  },
  {
   "cell_type": "code",
   "execution_count": null,
   "metadata": {},
   "outputs": [
    {
     "data": {
      "text/html": [
       "<div>\n",
       "<style scoped>\n",
       "    .dataframe tbody tr th:only-of-type {\n",
       "        vertical-align: middle;\n",
       "    }\n",
       "\n",
       "    .dataframe tbody tr th {\n",
       "        vertical-align: top;\n",
       "    }\n",
       "\n",
       "    .dataframe thead th {\n",
       "        text-align: right;\n",
       "    }\n",
       "</style>\n",
       "<table border=\"1\" class=\"dataframe\">\n",
       "  <thead>\n",
       "    <tr style=\"text-align: right;\">\n",
       "      <th></th>\n",
       "      <th>gene_id</th>\n",
       "      <th>transcript_id</th>\n",
       "      <th>position</th>\n",
       "      <th>sequence</th>\n",
       "      <th>reads</th>\n",
       "      <th>mean_reads</th>\n",
       "      <th>label</th>\n",
       "      <th>scaled_mean_reads</th>\n",
       "      <th>middle_sequence</th>\n",
       "    </tr>\n",
       "  </thead>\n",
       "  <tbody>\n",
       "    <tr>\n",
       "      <th>0</th>\n",
       "      <td>ENSG00000003056</td>\n",
       "      <td>ENST00000000412</td>\n",
       "      <td>355</td>\n",
       "      <td>GAAACTA</td>\n",
       "      <td>[0.00232, 2.41, 109.0, 0.0222, 2.85, 111.0, 0....</td>\n",
       "      <td>[0.00232, 2.41, 109.0, 0.0222, 2.85, 111.0, 0....</td>\n",
       "      <td>0</td>\n",
       "      <td>[-1.0693612703704736, -0.7541725813545678, -0....</td>\n",
       "      <td>AAACT</td>\n",
       "    </tr>\n",
       "    <tr>\n",
       "      <th>1</th>\n",
       "      <td>ENSG00000003056</td>\n",
       "      <td>ENST00000000412</td>\n",
       "      <td>355</td>\n",
       "      <td>GAAACTA</td>\n",
       "      <td>[0.00365, 1.25, 109.0, 0.00626, 3.18, 107.0, 0...</td>\n",
       "      <td>[0.00365, 1.25, 109.0, 0.00626, 3.18, 107.0, 0...</td>\n",
       "      <td>0</td>\n",
       "      <td>[-0.823526526149904, -1.2046370087100522, -0.1...</td>\n",
       "      <td>AAACT</td>\n",
       "    </tr>\n",
       "    <tr>\n",
       "      <th>2</th>\n",
       "      <td>ENSG00000003056</td>\n",
       "      <td>ENST00000000412</td>\n",
       "      <td>355</td>\n",
       "      <td>GAAACTA</td>\n",
       "      <td>[0.0091, 1.93, 110.0, 0.011, 2.52, 109.0, 0.00...</td>\n",
       "      <td>[0.0091, 1.93, 110.0, 0.011, 2.52, 109.0, 0.00...</td>\n",
       "      <td>0</td>\n",
       "      <td>[0.18384141069378343, -0.9405716547430442, -0....</td>\n",
       "      <td>AAACT</td>\n",
       "    </tr>\n",
       "  </tbody>\n",
       "</table>\n",
       "</div>"
      ],
      "text/plain": [
       "           gene_id    transcript_id  position sequence  \\\n",
       "0  ENSG00000003056  ENST00000000412       355  GAAACTA   \n",
       "1  ENSG00000003056  ENST00000000412       355  GAAACTA   \n",
       "2  ENSG00000003056  ENST00000000412       355  GAAACTA   \n",
       "\n",
       "                                               reads  \\\n",
       "0  [0.00232, 2.41, 109.0, 0.0222, 2.85, 111.0, 0....   \n",
       "1  [0.00365, 1.25, 109.0, 0.00626, 3.18, 107.0, 0...   \n",
       "2  [0.0091, 1.93, 110.0, 0.011, 2.52, 109.0, 0.00...   \n",
       "\n",
       "                                          mean_reads  label  \\\n",
       "0  [0.00232, 2.41, 109.0, 0.0222, 2.85, 111.0, 0....      0   \n",
       "1  [0.00365, 1.25, 109.0, 0.00626, 3.18, 107.0, 0...      0   \n",
       "2  [0.0091, 1.93, 110.0, 0.011, 2.52, 109.0, 0.00...      0   \n",
       "\n",
       "                                   scaled_mean_reads middle_sequence  \n",
       "0  [-1.0693612703704736, -0.7541725813545678, -0....           AAACT  \n",
       "1  [-0.823526526149904, -1.2046370087100522, -0.1...           AAACT  \n",
       "2  [0.18384141069378343, -0.9405716547430442, -0....           AAACT  "
      ]
     },
     "metadata": {},
     "output_type": "display_data"
    },
    {
     "data": {
      "text/html": [
       "<div>\n",
       "<style scoped>\n",
       "    .dataframe tbody tr th:only-of-type {\n",
       "        vertical-align: middle;\n",
       "    }\n",
       "\n",
       "    .dataframe tbody tr th {\n",
       "        vertical-align: top;\n",
       "    }\n",
       "\n",
       "    .dataframe thead th {\n",
       "        text-align: right;\n",
       "    }\n",
       "</style>\n",
       "<table border=\"1\" class=\"dataframe\">\n",
       "  <thead>\n",
       "    <tr style=\"text-align: right;\">\n",
       "      <th></th>\n",
       "      <th>gene_id</th>\n",
       "      <th>transcript_id</th>\n",
       "      <th>position</th>\n",
       "      <th>sequence</th>\n",
       "      <th>reads</th>\n",
       "      <th>label</th>\n",
       "      <th>mean_reads</th>\n",
       "      <th>scaled_mean_reads</th>\n",
       "      <th>middle_sequence</th>\n",
       "    </tr>\n",
       "  </thead>\n",
       "  <tbody>\n",
       "    <tr>\n",
       "      <th>0</th>\n",
       "      <td>ENSG00000004059</td>\n",
       "      <td>ENST00000000233</td>\n",
       "      <td>244</td>\n",
       "      <td>AAGACCA</td>\n",
       "      <td>[[0.00299, 2.06, 125.0, 0.0177, 10.4, 122.0, 0...</td>\n",
       "      <td>0</td>\n",
       "      <td>[0.008264378378378385, 4.223783783783786, 123....</td>\n",
       "      <td>[0.0293866530873719, -0.04982338005385481, 1.0...</td>\n",
       "      <td>AGACC</td>\n",
       "    </tr>\n",
       "    <tr>\n",
       "      <th>1</th>\n",
       "      <td>ENSG00000004059</td>\n",
       "      <td>ENST00000000233</td>\n",
       "      <td>261</td>\n",
       "      <td>CAAACTG</td>\n",
       "      <td>[[0.0126, 1.95, 111.0, 0.0125, 1.27, 108.0, 0....</td>\n",
       "      <td>0</td>\n",
       "      <td>[0.006609244186046515, 3.2164244186046504, 109...</td>\n",
       "      <td>[-0.27654529489956364, -0.441012655550927, -0....</td>\n",
       "      <td>AAACT</td>\n",
       "    </tr>\n",
       "    <tr>\n",
       "      <th>2</th>\n",
       "      <td>ENSG00000004059</td>\n",
       "      <td>ENST00000000233</td>\n",
       "      <td>316</td>\n",
       "      <td>GAAACAG</td>\n",
       "      <td>[[0.00432, 2.02, 104.0, 0.00299, 3.56, 99.3, 0...</td>\n",
       "      <td>0</td>\n",
       "      <td>[0.0075699999999999995, 2.94054054054054, 105....</td>\n",
       "      <td>[-0.0989609642366464, -0.5481470289550303, -0....</td>\n",
       "      <td>AAACA</td>\n",
       "    </tr>\n",
       "  </tbody>\n",
       "</table>\n",
       "</div>"
      ],
      "text/plain": [
       "           gene_id    transcript_id  position sequence  \\\n",
       "0  ENSG00000004059  ENST00000000233       244  AAGACCA   \n",
       "1  ENSG00000004059  ENST00000000233       261  CAAACTG   \n",
       "2  ENSG00000004059  ENST00000000233       316  GAAACAG   \n",
       "\n",
       "                                               reads  label  \\\n",
       "0  [[0.00299, 2.06, 125.0, 0.0177, 10.4, 122.0, 0...      0   \n",
       "1  [[0.0126, 1.95, 111.0, 0.0125, 1.27, 108.0, 0....      0   \n",
       "2  [[0.00432, 2.02, 104.0, 0.00299, 3.56, 99.3, 0...      0   \n",
       "\n",
       "                                          mean_reads  \\\n",
       "0  [0.008264378378378385, 4.223783783783786, 123....   \n",
       "1  [0.006609244186046515, 3.2164244186046504, 109...   \n",
       "2  [0.0075699999999999995, 2.94054054054054, 105....   \n",
       "\n",
       "                                   scaled_mean_reads middle_sequence  \n",
       "0  [0.0293866530873719, -0.04982338005385481, 1.0...           AGACC  \n",
       "1  [-0.27654529489956364, -0.441012655550927, -0....           AAACT  \n",
       "2  [-0.0989609642366464, -0.5481470289550303, -0....           AAACA  "
      ]
     },
     "metadata": {},
     "output_type": "display_data"
    }
   ],
   "source": [
    "scaled_train_df_w_middle_seq = extract_middle_sequence(scaled_train_df)\n",
    "scaled_test_df_w_middle_seq = extract_middle_sequence(scaled_test_df)\n",
    "\n",
    "display(scaled_train_df_w_middle_seq.head(3))\n",
    "display(scaled_test_df_w_middle_seq.head(3))"
   ]
  },
  {
   "cell_type": "markdown",
   "metadata": {},
   "source": [
    "One hot encode middle sequence (DRACH motif)"
   ]
  },
  {
   "cell_type": "code",
   "execution_count": null,
   "metadata": {},
   "outputs": [
    {
     "name": "stdout",
     "output_type": "stream",
     "text": [
      "DRACH Encoder saved to ../artifacts/drach_encoder.pkl\n"
     ]
    },
    {
     "data": {
      "text/html": [
       "<div>\n",
       "<style scoped>\n",
       "    .dataframe tbody tr th:only-of-type {\n",
       "        vertical-align: middle;\n",
       "    }\n",
       "\n",
       "    .dataframe tbody tr th {\n",
       "        vertical-align: top;\n",
       "    }\n",
       "\n",
       "    .dataframe thead th {\n",
       "        text-align: right;\n",
       "    }\n",
       "</style>\n",
       "<table border=\"1\" class=\"dataframe\">\n",
       "  <thead>\n",
       "    <tr style=\"text-align: right;\">\n",
       "      <th></th>\n",
       "      <th>gene_id</th>\n",
       "      <th>transcript_id</th>\n",
       "      <th>position</th>\n",
       "      <th>sequence</th>\n",
       "      <th>reads</th>\n",
       "      <th>mean_reads</th>\n",
       "      <th>label</th>\n",
       "      <th>scaled_mean_reads</th>\n",
       "      <th>middle_sequence</th>\n",
       "      <th>middle_sequence_OHE</th>\n",
       "    </tr>\n",
       "  </thead>\n",
       "  <tbody>\n",
       "    <tr>\n",
       "      <th>0</th>\n",
       "      <td>ENSG00000003056</td>\n",
       "      <td>ENST00000000412</td>\n",
       "      <td>355</td>\n",
       "      <td>GAAACTA</td>\n",
       "      <td>[0.00232, 2.41, 109.0, 0.0222, 2.85, 111.0, 0....</td>\n",
       "      <td>[0.00232, 2.41, 109.0, 0.0222, 2.85, 111.0, 0....</td>\n",
       "      <td>0</td>\n",
       "      <td>[-1.0693612703704736, -0.7541725813545678, -0....</td>\n",
       "      <td>AAACT</td>\n",
       "      <td>[0.0, 0.0, 1.0, 0.0, 0.0, 0.0, 0.0, 0.0, 0.0, ...</td>\n",
       "    </tr>\n",
       "    <tr>\n",
       "      <th>1</th>\n",
       "      <td>ENSG00000003056</td>\n",
       "      <td>ENST00000000412</td>\n",
       "      <td>355</td>\n",
       "      <td>GAAACTA</td>\n",
       "      <td>[0.00365, 1.25, 109.0, 0.00626, 3.18, 107.0, 0...</td>\n",
       "      <td>[0.00365, 1.25, 109.0, 0.00626, 3.18, 107.0, 0...</td>\n",
       "      <td>0</td>\n",
       "      <td>[-0.823526526149904, -1.2046370087100522, -0.1...</td>\n",
       "      <td>AAACT</td>\n",
       "      <td>[0.0, 0.0, 1.0, 0.0, 0.0, 0.0, 0.0, 0.0, 0.0, ...</td>\n",
       "    </tr>\n",
       "    <tr>\n",
       "      <th>2</th>\n",
       "      <td>ENSG00000003056</td>\n",
       "      <td>ENST00000000412</td>\n",
       "      <td>355</td>\n",
       "      <td>GAAACTA</td>\n",
       "      <td>[0.0091, 1.93, 110.0, 0.011, 2.52, 109.0, 0.00...</td>\n",
       "      <td>[0.0091, 1.93, 110.0, 0.011, 2.52, 109.0, 0.00...</td>\n",
       "      <td>0</td>\n",
       "      <td>[0.18384141069378343, -0.9405716547430442, -0....</td>\n",
       "      <td>AAACT</td>\n",
       "      <td>[0.0, 0.0, 1.0, 0.0, 0.0, 0.0, 0.0, 0.0, 0.0, ...</td>\n",
       "    </tr>\n",
       "  </tbody>\n",
       "</table>\n",
       "</div>"
      ],
      "text/plain": [
       "           gene_id    transcript_id  position sequence  \\\n",
       "0  ENSG00000003056  ENST00000000412       355  GAAACTA   \n",
       "1  ENSG00000003056  ENST00000000412       355  GAAACTA   \n",
       "2  ENSG00000003056  ENST00000000412       355  GAAACTA   \n",
       "\n",
       "                                               reads  \\\n",
       "0  [0.00232, 2.41, 109.0, 0.0222, 2.85, 111.0, 0....   \n",
       "1  [0.00365, 1.25, 109.0, 0.00626, 3.18, 107.0, 0...   \n",
       "2  [0.0091, 1.93, 110.0, 0.011, 2.52, 109.0, 0.00...   \n",
       "\n",
       "                                          mean_reads  label  \\\n",
       "0  [0.00232, 2.41, 109.0, 0.0222, 2.85, 111.0, 0....      0   \n",
       "1  [0.00365, 1.25, 109.0, 0.00626, 3.18, 107.0, 0...      0   \n",
       "2  [0.0091, 1.93, 110.0, 0.011, 2.52, 109.0, 0.00...      0   \n",
       "\n",
       "                                   scaled_mean_reads middle_sequence  \\\n",
       "0  [-1.0693612703704736, -0.7541725813545678, -0....           AAACT   \n",
       "1  [-0.823526526149904, -1.2046370087100522, -0.1...           AAACT   \n",
       "2  [0.18384141069378343, -0.9405716547430442, -0....           AAACT   \n",
       "\n",
       "                                 middle_sequence_OHE  \n",
       "0  [0.0, 0.0, 1.0, 0.0, 0.0, 0.0, 0.0, 0.0, 0.0, ...  \n",
       "1  [0.0, 0.0, 1.0, 0.0, 0.0, 0.0, 0.0, 0.0, 0.0, ...  \n",
       "2  [0.0, 0.0, 1.0, 0.0, 0.0, 0.0, 0.0, 0.0, 0.0, ...  "
      ]
     },
     "metadata": {},
     "output_type": "display_data"
    },
    {
     "data": {
      "text/html": [
       "<div>\n",
       "<style scoped>\n",
       "    .dataframe tbody tr th:only-of-type {\n",
       "        vertical-align: middle;\n",
       "    }\n",
       "\n",
       "    .dataframe tbody tr th {\n",
       "        vertical-align: top;\n",
       "    }\n",
       "\n",
       "    .dataframe thead th {\n",
       "        text-align: right;\n",
       "    }\n",
       "</style>\n",
       "<table border=\"1\" class=\"dataframe\">\n",
       "  <thead>\n",
       "    <tr style=\"text-align: right;\">\n",
       "      <th></th>\n",
       "      <th>gene_id</th>\n",
       "      <th>transcript_id</th>\n",
       "      <th>position</th>\n",
       "      <th>sequence</th>\n",
       "      <th>reads</th>\n",
       "      <th>label</th>\n",
       "      <th>mean_reads</th>\n",
       "      <th>scaled_mean_reads</th>\n",
       "      <th>middle_sequence</th>\n",
       "      <th>middle_sequence_OHE</th>\n",
       "    </tr>\n",
       "  </thead>\n",
       "  <tbody>\n",
       "    <tr>\n",
       "      <th>0</th>\n",
       "      <td>ENSG00000004059</td>\n",
       "      <td>ENST00000000233</td>\n",
       "      <td>244</td>\n",
       "      <td>AAGACCA</td>\n",
       "      <td>[[0.00299, 2.06, 125.0, 0.0177, 10.4, 122.0, 0...</td>\n",
       "      <td>0</td>\n",
       "      <td>[0.008264378378378385, 4.223783783783786, 123....</td>\n",
       "      <td>[0.0293866530873719, -0.04982338005385481, 1.0...</td>\n",
       "      <td>AGACC</td>\n",
       "      <td>[0.0, 0.0, 0.0, 0.0, 1.0, 0.0, 0.0, 0.0, 0.0, ...</td>\n",
       "    </tr>\n",
       "    <tr>\n",
       "      <th>1</th>\n",
       "      <td>ENSG00000004059</td>\n",
       "      <td>ENST00000000233</td>\n",
       "      <td>261</td>\n",
       "      <td>CAAACTG</td>\n",
       "      <td>[[0.0126, 1.95, 111.0, 0.0125, 1.27, 108.0, 0....</td>\n",
       "      <td>0</td>\n",
       "      <td>[0.006609244186046515, 3.2164244186046504, 109...</td>\n",
       "      <td>[-0.27654529489956364, -0.441012655550927, -0....</td>\n",
       "      <td>AAACT</td>\n",
       "      <td>[0.0, 0.0, 1.0, 0.0, 0.0, 0.0, 0.0, 0.0, 0.0, ...</td>\n",
       "    </tr>\n",
       "    <tr>\n",
       "      <th>2</th>\n",
       "      <td>ENSG00000004059</td>\n",
       "      <td>ENST00000000233</td>\n",
       "      <td>316</td>\n",
       "      <td>GAAACAG</td>\n",
       "      <td>[[0.00432, 2.02, 104.0, 0.00299, 3.56, 99.3, 0...</td>\n",
       "      <td>0</td>\n",
       "      <td>[0.0075699999999999995, 2.94054054054054, 105....</td>\n",
       "      <td>[-0.0989609642366464, -0.5481470289550303, -0....</td>\n",
       "      <td>AAACA</td>\n",
       "      <td>[1.0, 0.0, 0.0, 0.0, 0.0, 0.0, 0.0, 0.0, 0.0, ...</td>\n",
       "    </tr>\n",
       "  </tbody>\n",
       "</table>\n",
       "</div>"
      ],
      "text/plain": [
       "           gene_id    transcript_id  position sequence  \\\n",
       "0  ENSG00000004059  ENST00000000233       244  AAGACCA   \n",
       "1  ENSG00000004059  ENST00000000233       261  CAAACTG   \n",
       "2  ENSG00000004059  ENST00000000233       316  GAAACAG   \n",
       "\n",
       "                                               reads  label  \\\n",
       "0  [[0.00299, 2.06, 125.0, 0.0177, 10.4, 122.0, 0...      0   \n",
       "1  [[0.0126, 1.95, 111.0, 0.0125, 1.27, 108.0, 0....      0   \n",
       "2  [[0.00432, 2.02, 104.0, 0.00299, 3.56, 99.3, 0...      0   \n",
       "\n",
       "                                          mean_reads  \\\n",
       "0  [0.008264378378378385, 4.223783783783786, 123....   \n",
       "1  [0.006609244186046515, 3.2164244186046504, 109...   \n",
       "2  [0.0075699999999999995, 2.94054054054054, 105....   \n",
       "\n",
       "                                   scaled_mean_reads middle_sequence  \\\n",
       "0  [0.0293866530873719, -0.04982338005385481, 1.0...           AGACC   \n",
       "1  [-0.27654529489956364, -0.441012655550927, -0....           AAACT   \n",
       "2  [-0.0989609642366464, -0.5481470289550303, -0....           AAACA   \n",
       "\n",
       "                                 middle_sequence_OHE  \n",
       "0  [0.0, 0.0, 0.0, 0.0, 1.0, 0.0, 0.0, 0.0, 0.0, ...  \n",
       "1  [0.0, 0.0, 1.0, 0.0, 0.0, 0.0, 0.0, 0.0, 0.0, ...  \n",
       "2  [1.0, 0.0, 0.0, 0.0, 0.0, 0.0, 0.0, 0.0, 0.0, ...  "
      ]
     },
     "metadata": {},
     "output_type": "display_data"
    }
   ],
   "source": [
    "# Encode train data first, then use the fitted encoder to transform test data\n",
    "encoder, ohe_train_df = one_hot_encode_DRACH(scaled_train_df_w_middle_seq)\n",
    "encoder, ohe_test_df = one_hot_encode_DRACH(scaled_test_df_w_middle_seq, encoder=encoder)\n",
    "\n",
    "display(ohe_train_df.head(3))\n",
    "display(ohe_test_df.head(3))"
   ]
  },
  {
   "cell_type": "markdown",
   "metadata": {},
   "source": [
    "### SMOTE"
   ]
  },
  {
   "cell_type": "markdown",
   "metadata": {},
   "source": [
    "Check label imbalance (FOR SMOTE)"
   ]
  },
  {
   "cell_type": "code",
   "execution_count": null,
   "metadata": {},
   "outputs": [
    {
     "data": {
      "text/plain": [
       "0.04660848110004047"
      ]
     },
     "execution_count": 58,
     "metadata": {},
     "output_type": "execute_result"
    }
   ],
   "source": [
    "# Proportion of positive labels in the training set\n",
    "np.mean(ohe_train_df['label'])"
   ]
  },
  {
   "cell_type": "markdown",
   "metadata": {},
   "source": [
    "#### By GENE_ID"
   ]
  },
  {
   "cell_type": "code",
   "execution_count": null,
   "metadata": {},
   "outputs": [
    {
     "name": "stdout",
     "output_type": "stream",
     "text": [
      "Number of gene_id with no postive labels:  1885\n",
      "Proportion of gene_id with no positive labels:  0.6118143459915611\n"
     ]
    }
   ],
   "source": [
    "# Proportion of positive labels by gene_id\n",
    "prop_gene = ohe_train_df.groupby('gene_id')['label'].mean()\n",
    "\n",
    "# Number of zeros\n",
    "num_zeros = len(prop_gene[prop_gene == 0])\n",
    "print('Number of gene_id with no postive labels: ', num_zeros)\n",
    "print('Proportion of gene_id with no positive labels: ', num_zeros / len(prop_gene))"
   ]
  },
  {
   "cell_type": "code",
   "execution_count": null,
   "metadata": {},
   "outputs": [],
   "source": [
    "from imblearn.over_sampling import SMOTE\n",
    "import numpy as np\n",
    "import pandas as pd\n",
    "\n",
    "# Get the scaled mean reads and one-hot encoded middle sequence columns as dataframe\n",
    "X_resampled_list = [] \n",
    "y_resampled_list = []\n",
    "gene_id_list = []\n",
    "\n",
    "for g_id, group in ohe_train_df.groupby('gene_id'):\n",
    "    X = np.vstack(group['scaled_mean_reads'].values)\n",
    "    y = group['label'].values\n",
    "    \n",
    "    if sum(y) < 10 or sum(y - 1) < 10:  # Skip resampling if the number of positive or negative labels is less than 10\n",
    "        X_resampled_list.append(X)\n",
    "        y_resampled_list.append(y)\n",
    "        gene_id_list.extend([g_id] * len(y))  # Use g_id for the gene_id\n",
    "        continue\n",
    "\n",
    "    # Apply SMOTE to the scaled mean reads and labels\n",
    "    smote = SMOTE(random_state=4262)\n",
    "    X_resampled, y_resampled = smote.fit_resample(X, y)\n",
    "\n",
    "    # Append resampled data to lists\n",
    "    X_resampled_list.append(X_resampled)\n",
    "    y_resampled_list.append(y_resampled)\n",
    "    gene_id_list.extend([g_id] * len(y_resampled))  # Use g_id for the gene_id\n",
    "\n",
    "# Combine all resampled data into final arrays\n",
    "X_resampled_gene = np.vstack(X_resampled_list)\n",
    "y_resampled_gene = np.concatenate(y_resampled_list)\n",
    "\n",
    "# Combine into a final DataFrame if needed\n",
    "resampled_gene_df = pd.DataFrame({\n",
    "    'scaled_mean_reads': list(X_resampled_gene),\n",
    "    'gene_id': gene_id_list,\n",
    "    'label': y_resampled_gene\n",
    "})"
   ]
  },
  {
   "cell_type": "code",
   "execution_count": null,
   "metadata": {},
   "outputs": [
    {
     "name": "stdout",
     "output_type": "stream",
     "text": [
      "Proportion of positive labels in the resampled data: 0.04660848110004047\n",
      "Number of gene_id with no postive labels:  1885\n",
      "Proportion of gene_id with no positive labels:  0.6118143459915611\n"
     ]
    }
   ],
   "source": [
    "# Proportion of positive labels in the resampled data\n",
    "print('Proportion of positive labels in the resampled data:', np.mean(resampled_gene_df['label']))\n",
    "\n",
    "# Proportion of positive labels by gene_id\n",
    "prop_gene = resampled_gene_df.groupby('gene_id')['label'].mean()\n",
    "\n",
    "# Number of zeros\n",
    "num_zeros = len(prop_gene[prop_gene == 0])\n",
    "print('Number of gene_id with no postive labels: ', num_zeros)\n",
    "print('Proportion of gene_id with no positive labels: ', num_zeros / len(prop_gene))"
   ]
  },
  {
   "cell_type": "markdown",
   "metadata": {},
   "source": [
    "#### By MIDDLE_SEQUENCE (DRACH)"
   ]
  },
  {
   "cell_type": "code",
   "execution_count": null,
   "metadata": {},
   "outputs": [
    {
     "name": "stdout",
     "output_type": "stream",
     "text": [
      "Number of DRACH motifs with no postive labels:  0\n",
      "Proportion of DRACH motifs with no positive labels:  0.0\n"
     ]
    }
   ],
   "source": [
    "# Proportion of positive labels by middle_sequence\n",
    "prop_drach = ohe_train_df.groupby('middle_sequence')['label'].mean()\n",
    "\n",
    "# Number of zeros\n",
    "num_zeros = len(prop_drach[prop_drach == 0])\n",
    "print('Number of DRACH motifs with no postive labels: ', num_zeros)\n",
    "print('Proportion of DRACH motifs with no positive labels: ', num_zeros / len(prop_drach))"
   ]
  },
  {
   "cell_type": "code",
   "execution_count": null,
   "metadata": {},
   "outputs": [
    {
     "data": {
      "text/plain": [
       "middle_sequence\n",
       "TAACA       288\n",
       "TAACC       499\n",
       "AAACC       807\n",
       "AGACC      4747\n",
       "TAACT      5229\n",
       "AAACA      5758\n",
       "TGACA      8191\n",
       "AGACA      9055\n",
       "GAACC     11106\n",
       "TGACC     11196\n",
       "GAACA     11884\n",
       "AAACT     19086\n",
       "GGACC     32979\n",
       "TGACT     34091\n",
       "GGACA     41956\n",
       "AGACT     42712\n",
       "GAACT     54691\n",
       "GGACT    111031\n",
       "Name: label, dtype: int64"
      ]
     },
     "execution_count": 63,
     "metadata": {},
     "output_type": "execute_result"
    }
   ],
   "source": [
    "# Number of positive labels by middle_sequence\n",
    "ohe_train_df[ohe_train_df['label'] == 1].groupby('middle_sequence')['label'].count().sort_values()"
   ]
  },
  {
   "cell_type": "code",
   "execution_count": null,
   "metadata": {},
   "outputs": [
    {
     "data": {
      "text/plain": [
       "middle_sequence\n",
       "TAACA    0.000906\n",
       "AAACC    0.001746\n",
       "TAACC    0.002274\n",
       "AAACA    0.008102\n",
       "AGACC    0.009139\n",
       "TGACA    0.014103\n",
       "TAACT    0.017617\n",
       "AGACA    0.017665\n",
       "TGACC    0.020061\n",
       "GAACA    0.020153\n",
       "GAACC    0.026848\n",
       "AAACT    0.030940\n",
       "GGACC    0.064225\n",
       "TGACT    0.067482\n",
       "GGACA    0.081284\n",
       "AGACT    0.096119\n",
       "GAACT    0.117386\n",
       "GGACT    0.245299\n",
       "Name: label, dtype: float64"
      ]
     },
     "execution_count": 64,
     "metadata": {},
     "output_type": "execute_result"
    }
   ],
   "source": [
    "# Proportion of positive labels by middle_sequence\n",
    "prop_drach.sort_values()"
   ]
  },
  {
   "cell_type": "markdown",
   "metadata": {},
   "source": [
    "Apply SMOTE to each group of DRACH motif"
   ]
  },
  {
   "cell_type": "code",
   "execution_count": null,
   "metadata": {},
   "outputs": [],
   "source": [
    "from imblearn.over_sampling import SMOTE\n",
    "\n",
    "# Get the scaled mean reads and one-hot encoded middle sequence columns as dataframe\n",
    "X_resampled_list = [] \n",
    "y_resampled_list = []\n",
    "middle_sequence_list = []\n",
    "\n",
    "for middle_seq, group in ohe_train_df.groupby('middle_sequence'):\n",
    "    X = np.vstack(group['scaled_mean_reads'].values)\n",
    "    y = group['label'].values\n",
    "    \n",
    "    if sum(y) < 10: # Skip if the number of positive labels is less than 10\n",
    "        X_resampled_list.append(X)\n",
    "        y_resampled_list.append(y)\n",
    "        middle_sequence_list.extend([middle_seq] * len(y))\n",
    "        continue\n",
    "\n",
    "    # Apply SMOTE to the scaled mean reads and labels\n",
    "    smote = SMOTE(random_state=4262)\n",
    "    X_resampled, y_resampled = smote.fit_resample(X, y)\n",
    "\n",
    "    # Append resampled data and one-hot encoding to lists\n",
    "    X_resampled_list.append(X_resampled)\n",
    "    y_resampled_list.append(y_resampled)\n",
    "    middle_sequence_list.extend([middle_seq] * len(y_resampled))\n",
    "\n",
    "# Combine all resampled data into final arrays\n",
    "X_resampled = np.vstack(X_resampled_list)\n",
    "y_resampled = np.concatenate(y_resampled_list)\n",
    "\n",
    "# Combine into a final DataFrame if needed\n",
    "resampled_drach_df = pd.DataFrame({\n",
    "    'scaled_mean_reads': list(X_resampled),\n",
    "    'middle_sequence': middle_sequence_list,\n",
    "    'label': y_resampled\n",
    "})"
   ]
  },
  {
   "cell_type": "code",
   "execution_count": 77,
   "metadata": {},
   "outputs": [
    {
     "name": "stdout",
     "output_type": "stream",
     "text": [
      "Proportion of positive labels in the resampled data:  0.5\n"
     ]
    },
    {
     "data": {
      "text/plain": [
       "middle_sequence\n",
       "AAACA    0.5\n",
       "AAACC    0.5\n",
       "AAACT    0.5\n",
       "AGACA    0.5\n",
       "AGACC    0.5\n",
       "AGACT    0.5\n",
       "GAACA    0.5\n",
       "GAACC    0.5\n",
       "GAACT    0.5\n",
       "GGACA    0.5\n",
       "GGACC    0.5\n",
       "GGACT    0.5\n",
       "TAACA    0.5\n",
       "TAACC    0.5\n",
       "TAACT    0.5\n",
       "TGACA    0.5\n",
       "TGACC    0.5\n",
       "TGACT    0.5\n",
       "Name: label, dtype: float64"
      ]
     },
     "execution_count": 77,
     "metadata": {},
     "output_type": "execute_result"
    }
   ],
   "source": [
    "# Proportion of positive labels in the resampled data\n",
    "print('Proportion of positive labels in the resampled data: ', np.mean(resampled_drach_df['label']))\n",
    "\n",
    "# Proportion of positive labels by middle_sequence\n",
    "prop_drach_resampled = resampled_drach_df.groupby('middle_sequence')['label'].mean()\n",
    "prop_drach_resampled"
   ]
  },
  {
   "cell_type": "markdown",
   "metadata": {},
   "source": [
    "One hot encode DRACH motifs"
   ]
  },
  {
   "cell_type": "code",
   "execution_count": 78,
   "metadata": {},
   "outputs": [
    {
     "ename": "MemoryError",
     "evalue": "Unable to allocate 2.22 GiB for an array with shape (16581330, 18) and data type float64",
     "output_type": "error",
     "traceback": [
      "\u001b[1;31m---------------------------------------------------------------------------\u001b[0m",
      "\u001b[1;31mMemoryError\u001b[0m                               Traceback (most recent call last)",
      "Cell \u001b[1;32mIn[78], line 1\u001b[0m\n\u001b[1;32m----> 1\u001b[0m encoder, resampled_drach_df \u001b[38;5;241m=\u001b[39m \u001b[43mone_hot_encode_DRACH\u001b[49m\u001b[43m(\u001b[49m\u001b[43mresampled_drach_df\u001b[49m\u001b[43m,\u001b[49m\u001b[43m \u001b[49m\u001b[43mencoder\u001b[49m\u001b[43m)\u001b[49m\n\u001b[0;32m      2\u001b[0m resampled_drach_df\u001b[38;5;241m.\u001b[39mhead(\u001b[38;5;241m3\u001b[39m)\n",
      "File \u001b[1;32mc:\\Users\\hongl\\OneDrive - National University of Singapore\\Mods\\Y4S1\\DSA4262\\m6A Prediction Model\\src\\helper_functions.py:198\u001b[0m, in \u001b[0;36mone_hot_encode_DRACH\u001b[1;34m(df, encoder, encoder_path)\u001b[0m\n\u001b[0;32m    196\u001b[0m \u001b[38;5;28;01melse\u001b[39;00m:\n\u001b[0;32m    197\u001b[0m     one_hot_matrix \u001b[38;5;241m=\u001b[39m encoder\u001b[38;5;241m.\u001b[39mtransform(df[[\u001b[38;5;124m'\u001b[39m\u001b[38;5;124mmiddle_sequence\u001b[39m\u001b[38;5;124m'\u001b[39m]])\n\u001b[1;32m--> 198\u001b[0m df[\u001b[38;5;124m'\u001b[39m\u001b[38;5;124mmiddle_sequence_OHE\u001b[39m\u001b[38;5;124m'\u001b[39m] \u001b[38;5;241m=\u001b[39m \u001b[38;5;28mlist\u001b[39m(\u001b[43mone_hot_matrix\u001b[49m\u001b[38;5;241;43m.\u001b[39;49m\u001b[43mtoarray\u001b[49m\u001b[43m(\u001b[49m\u001b[43m)\u001b[49m)\n\u001b[0;32m    199\u001b[0m \u001b[38;5;28;01mreturn\u001b[39;00m encoder, df\n",
      "File \u001b[1;32mc:\\Users\\hongl\\AppData\\Local\\Programs\\Python\\Python310\\lib\\site-packages\\scipy\\sparse\\_compressed.py:1181\u001b[0m, in \u001b[0;36m_cs_matrix.toarray\u001b[1;34m(self, order, out)\u001b[0m\n\u001b[0;32m   1179\u001b[0m \u001b[38;5;28;01mif\u001b[39;00m out \u001b[38;5;129;01mis\u001b[39;00m \u001b[38;5;28;01mNone\u001b[39;00m \u001b[38;5;129;01mand\u001b[39;00m order \u001b[38;5;129;01mis\u001b[39;00m \u001b[38;5;28;01mNone\u001b[39;00m:\n\u001b[0;32m   1180\u001b[0m     order \u001b[38;5;241m=\u001b[39m \u001b[38;5;28mself\u001b[39m\u001b[38;5;241m.\u001b[39m_swap(\u001b[38;5;124m'\u001b[39m\u001b[38;5;124mcf\u001b[39m\u001b[38;5;124m'\u001b[39m)[\u001b[38;5;241m0\u001b[39m]\n\u001b[1;32m-> 1181\u001b[0m out \u001b[38;5;241m=\u001b[39m \u001b[38;5;28;43mself\u001b[39;49m\u001b[38;5;241;43m.\u001b[39;49m\u001b[43m_process_toarray_args\u001b[49m\u001b[43m(\u001b[49m\u001b[43morder\u001b[49m\u001b[43m,\u001b[49m\u001b[43m \u001b[49m\u001b[43mout\u001b[49m\u001b[43m)\u001b[49m\n\u001b[0;32m   1182\u001b[0m \u001b[38;5;28;01mif\u001b[39;00m \u001b[38;5;129;01mnot\u001b[39;00m (out\u001b[38;5;241m.\u001b[39mflags\u001b[38;5;241m.\u001b[39mc_contiguous \u001b[38;5;129;01mor\u001b[39;00m out\u001b[38;5;241m.\u001b[39mflags\u001b[38;5;241m.\u001b[39mf_contiguous):\n\u001b[0;32m   1183\u001b[0m     \u001b[38;5;28;01mraise\u001b[39;00m \u001b[38;5;167;01mValueError\u001b[39;00m(\u001b[38;5;124m'\u001b[39m\u001b[38;5;124mOutput array must be C or F contiguous\u001b[39m\u001b[38;5;124m'\u001b[39m)\n",
      "File \u001b[1;32mc:\\Users\\hongl\\AppData\\Local\\Programs\\Python\\Python310\\lib\\site-packages\\scipy\\sparse\\_base.py:1301\u001b[0m, in \u001b[0;36m_spbase._process_toarray_args\u001b[1;34m(self, order, out)\u001b[0m\n\u001b[0;32m   1299\u001b[0m     \u001b[38;5;28;01mreturn\u001b[39;00m out\n\u001b[0;32m   1300\u001b[0m \u001b[38;5;28;01melse\u001b[39;00m:\n\u001b[1;32m-> 1301\u001b[0m     \u001b[38;5;28;01mreturn\u001b[39;00m \u001b[43mnp\u001b[49m\u001b[38;5;241;43m.\u001b[39;49m\u001b[43mzeros\u001b[49m\u001b[43m(\u001b[49m\u001b[38;5;28;43mself\u001b[39;49m\u001b[38;5;241;43m.\u001b[39;49m\u001b[43mshape\u001b[49m\u001b[43m,\u001b[49m\u001b[43m \u001b[49m\u001b[43mdtype\u001b[49m\u001b[38;5;241;43m=\u001b[39;49m\u001b[38;5;28;43mself\u001b[39;49m\u001b[38;5;241;43m.\u001b[39;49m\u001b[43mdtype\u001b[49m\u001b[43m,\u001b[49m\u001b[43m \u001b[49m\u001b[43morder\u001b[49m\u001b[38;5;241;43m=\u001b[39;49m\u001b[43morder\u001b[49m\u001b[43m)\u001b[49m\n",
      "\u001b[1;31mMemoryError\u001b[0m: Unable to allocate 2.22 GiB for an array with shape (16581330, 18) and data type float64"
     ]
    }
   ],
   "source": [
    "encoder, resampled_drach_df = one_hot_encode_DRACH(resampled_drach_df, encoder)\n",
    "resampled_drach_df.head(3)"
   ]
  },
  {
   "cell_type": "markdown",
   "metadata": {},
   "source": [
    "### Prepare data for model input"
   ]
  },
  {
   "cell_type": "code",
   "execution_count": 79,
   "metadata": {},
   "outputs": [
    {
     "ename": "MemoryError",
     "evalue": "",
     "output_type": "error",
     "traceback": [
      "\u001b[1;31m---------------------------------------------------------------------------\u001b[0m",
      "\u001b[1;31mMemoryError\u001b[0m                               Traceback (most recent call last)",
      "Cell \u001b[1;32mIn[79], line 2\u001b[0m\n\u001b[0;32m      1\u001b[0m \u001b[38;5;66;03m# SMOTE by middle_sequence\u001b[39;00m\n\u001b[1;32m----> 2\u001b[0m X_resampled_drach \u001b[38;5;241m=\u001b[39m \u001b[43mprepare_for_model\u001b[49m\u001b[43m(\u001b[49m\u001b[43mresampled_drach_df\u001b[49m\u001b[43m)\u001b[49m\n\u001b[0;32m      3\u001b[0m y_resampled_drach \u001b[38;5;241m=\u001b[39m resampled_drach_df[\u001b[38;5;124m'\u001b[39m\u001b[38;5;124mlabel\u001b[39m\u001b[38;5;124m'\u001b[39m]\u001b[38;5;241m.\u001b[39mvalues\n\u001b[0;32m      5\u001b[0m \u001b[38;5;66;03m# Without SMOTE\u001b[39;00m\n",
      "File \u001b[1;32mc:\\Users\\hongl\\OneDrive - National University of Singapore\\Mods\\Y4S1\\DSA4262\\m6A Prediction Model\\src\\helper_functions.py:215\u001b[0m, in \u001b[0;36mprepare_for_model\u001b[1;34m(df)\u001b[0m\n\u001b[0;32m    205\u001b[0m \u001b[38;5;28;01mdef\u001b[39;00m \u001b[38;5;21mprepare_for_model\u001b[39m(df):\n\u001b[0;32m    206\u001b[0m \u001b[38;5;250m    \u001b[39m\u001b[38;5;124;03m\"\"\"\u001b[39;00m\n\u001b[0;32m    207\u001b[0m \u001b[38;5;124;03m    Combine 'scaled_mean_reads' and `middle_sequence_OHE` for model input.\u001b[39;00m\n\u001b[0;32m    208\u001b[0m \u001b[38;5;124;03m    \u001b[39;00m\n\u001b[1;32m   (...)\u001b[0m\n\u001b[0;32m    213\u001b[0m \u001b[38;5;124;03m    - np.ndarray: Combined features for model input.\u001b[39;00m\n\u001b[0;32m    214\u001b[0m \u001b[38;5;124;03m    \"\"\"\u001b[39;00m\n\u001b[1;32m--> 215\u001b[0m     combined_features \u001b[38;5;241m=\u001b[39m np\u001b[38;5;241m.\u001b[39mhstack([\u001b[43mnp\u001b[49m\u001b[38;5;241;43m.\u001b[39;49m\u001b[43mvstack\u001b[49m\u001b[43m(\u001b[49m\u001b[43mdf\u001b[49m\u001b[43m[\u001b[49m\u001b[38;5;124;43m'\u001b[39;49m\u001b[38;5;124;43mscaled_mean_reads\u001b[39;49m\u001b[38;5;124;43m'\u001b[39;49m\u001b[43m]\u001b[49m\u001b[43m)\u001b[49m, np\u001b[38;5;241m.\u001b[39mvstack(df[\u001b[38;5;124m'\u001b[39m\u001b[38;5;124mmiddle_sequence_OHE\u001b[39m\u001b[38;5;124m'\u001b[39m])])\n\u001b[0;32m    216\u001b[0m     \u001b[38;5;28;01mreturn\u001b[39;00m combined_features\n",
      "File \u001b[1;32mc:\\Users\\hongl\\AppData\\Local\\Programs\\Python\\Python310\\lib\\site-packages\\numpy\\core\\shape_base.py:286\u001b[0m, in \u001b[0;36mvstack\u001b[1;34m(tup, dtype, casting)\u001b[0m\n\u001b[0;32m    219\u001b[0m \u001b[38;5;129m@array_function_dispatch\u001b[39m(_vhstack_dispatcher)\n\u001b[0;32m    220\u001b[0m \u001b[38;5;28;01mdef\u001b[39;00m \u001b[38;5;21mvstack\u001b[39m(tup, \u001b[38;5;241m*\u001b[39m, dtype\u001b[38;5;241m=\u001b[39m\u001b[38;5;28;01mNone\u001b[39;00m, casting\u001b[38;5;241m=\u001b[39m\u001b[38;5;124m\"\u001b[39m\u001b[38;5;124msame_kind\u001b[39m\u001b[38;5;124m\"\u001b[39m):\n\u001b[0;32m    221\u001b[0m \u001b[38;5;250m    \u001b[39m\u001b[38;5;124;03m\"\"\"\u001b[39;00m\n\u001b[0;32m    222\u001b[0m \u001b[38;5;124;03m    Stack arrays in sequence vertically (row wise).\u001b[39;00m\n\u001b[0;32m    223\u001b[0m \n\u001b[1;32m   (...)\u001b[0m\n\u001b[0;32m    284\u001b[0m \n\u001b[0;32m    285\u001b[0m \u001b[38;5;124;03m    \"\"\"\u001b[39;00m\n\u001b[1;32m--> 286\u001b[0m     arrs \u001b[38;5;241m=\u001b[39m \u001b[43matleast_2d\u001b[49m\u001b[43m(\u001b[49m\u001b[38;5;241;43m*\u001b[39;49m\u001b[43mtup\u001b[49m\u001b[43m)\u001b[49m\n\u001b[0;32m    287\u001b[0m     \u001b[38;5;28;01mif\u001b[39;00m \u001b[38;5;129;01mnot\u001b[39;00m \u001b[38;5;28misinstance\u001b[39m(arrs, \u001b[38;5;28mlist\u001b[39m):\n\u001b[0;32m    288\u001b[0m         arrs \u001b[38;5;241m=\u001b[39m [arrs]\n",
      "File \u001b[1;32mc:\\Users\\hongl\\AppData\\Local\\Programs\\Python\\Python310\\lib\\site-packages\\numpy\\core\\shape_base.py:128\u001b[0m, in \u001b[0;36matleast_2d\u001b[1;34m(*arys)\u001b[0m\n\u001b[0;32m    126\u001b[0m     \u001b[38;5;28;01melse\u001b[39;00m:\n\u001b[0;32m    127\u001b[0m         result \u001b[38;5;241m=\u001b[39m ary\n\u001b[1;32m--> 128\u001b[0m     \u001b[43mres\u001b[49m\u001b[38;5;241;43m.\u001b[39;49m\u001b[43mappend\u001b[49m\u001b[43m(\u001b[49m\u001b[43mresult\u001b[49m\u001b[43m)\u001b[49m\n\u001b[0;32m    129\u001b[0m \u001b[38;5;28;01mif\u001b[39;00m \u001b[38;5;28mlen\u001b[39m(res) \u001b[38;5;241m==\u001b[39m \u001b[38;5;241m1\u001b[39m:\n\u001b[0;32m    130\u001b[0m     \u001b[38;5;28;01mreturn\u001b[39;00m res[\u001b[38;5;241m0\u001b[39m]\n",
      "\u001b[1;31mMemoryError\u001b[0m: "
     ]
    }
   ],
   "source": [
    "# SMOTE by middle_sequence\n",
    "X_resampled_drach = prepare_for_model(resampled_drach_df)\n",
    "y_resampled_drach = resampled_drach_df['label'].values\n",
    "\n",
    "# Without SMOTE\n",
    "X_train = prepare_for_model(ohe_train_df)\n",
    "y_train = ohe_train_df['label'].values\n",
    "\n",
    "# Prepare test data\n",
    "X_test = prepare_for_model(ohe_test_df)\n",
    "y_test = ohe_test_df['label'].values"
   ]
  },
  {
   "cell_type": "code",
   "execution_count": 69,
   "metadata": {},
   "outputs": [
    {
     "name": "stdout",
     "output_type": "stream",
     "text": [
      "X_resampled_drach shape: (16581330, 27)\n",
      "y_resampled_drach shape: (16581330,)\n",
      "X_train shape: (8695971, 27)\n",
      "y_train shape: (8695971,)\n",
      "X_test shape: (24765, 27)\n",
      "y_test shape: (24765,)\n"
     ]
    }
   ],
   "source": [
    "# print the shapes\n",
    "print('X_resampled_drach shape:', X_resampled_drach.shape)\n",
    "print('y_resampled_drach shape:', y_resampled_drach.shape)\n",
    "print('X_train shape:', X_train.shape)\n",
    "print('y_train shape:', y_train.shape)\n",
    "print('X_test shape:', X_test.shape)\n",
    "print('y_test shape:', y_test.shape)"
   ]
  },
  {
   "cell_type": "markdown",
   "metadata": {},
   "source": [
    "### NN model"
   ]
  },
  {
   "cell_type": "code",
   "execution_count": 70,
   "metadata": {},
   "outputs": [],
   "source": [
    "from tensorflow.keras.models import Sequential\n",
    "from tensorflow.keras.layers import Input, Dense, Dropout\n",
    "from tensorflow.keras.callbacks import ModelCheckpoint\n",
    "from tensorflow.keras.metrics import AUC\n",
    "\n",
    "def build_model(input_shape):\n",
    "    \"\"\"\n",
    "    Define and compile neural network model.\n",
    "    \"\"\"\n",
    "    model = Sequential([\n",
    "        Input(shape=(input_shape,)),\n",
    "        Dense(150, activation='relu'),\n",
    "        Dropout(0.2),  # Dropout layer for regularization\n",
    "        Dense(32, activation='relu'),\n",
    "        Dropout(0.2),  # Another dropout layer\n",
    "        Dense(1, activation='sigmoid')\n",
    "    ])\n",
    "    # Keep track of AUC-PR and AUC-ROC during training\n",
    "    model.compile(\n",
    "        optimizer='adam',\n",
    "        loss='binary_crossentropy',\n",
    "        metrics=[\n",
    "            AUC(curve='PR', name='auc_pr'),  # AUC-PR\n",
    "            AUC(curve='ROC', name='auc_roc')  # AUC-ROC\n",
    "        ]\n",
    "    )\n",
    "    return model"
   ]
  },
  {
   "cell_type": "markdown",
   "metadata": {},
   "source": [
    "#### Train model with and without SMOTE"
   ]
  },
  {
   "cell_type": "code",
   "execution_count": null,
   "metadata": {},
   "outputs": [],
   "source": [
    "from sklearn.model_selection import KFold\n",
    "from tensorflow.keras.callbacks import ModelCheckpoint\n",
    "\n",
    "# Set up 5-fold cross-validation\n",
    "kf = KFold(n_splits=5, shuffle=True, random_state=4262)\n",
    "best_val_auc_pr_smote = 0\n",
    "best_val_auc_pr_no_smote = 0\n",
    "BEST_MODEL_PATH_SMOTE = \"../artifacts/best_model_with_smote.keras\"\n",
    "BEST_MODEL_PATH_NO_SMOTE = \"../artifacts/best_model_without_smote.keras\"\n",
    "\n",
    "# Set checkpoint to save the best model (based on validation AUC-PR)\n",
    "checkpoint_smote = ModelCheckpoint(\n",
    "        BEST_MODEL_PATH_SMOTE,\n",
    "        save_best_only=True,\n",
    "        monitor='val_auc_pr',\n",
    "        mode='max'\n",
    "    )\n",
    "\n",
    "checkpoint_no_smote = ModelCheckpoint(\n",
    "        BEST_MODEL_PATH_NO_SMOTE,\n",
    "        save_best_only=True,\n",
    "        monitor='val_auc_pr',\n",
    "        mode='max'\n",
    "    )"
   ]
  },
  {
   "cell_type": "markdown",
   "metadata": {},
   "source": [
    "SMOTE model"
   ]
  },
  {
   "cell_type": "code",
   "execution_count": 72,
   "metadata": {},
   "outputs": [
    {
     "name": "stdout",
     "output_type": "stream",
     "text": [
      "Training fold 1 with SMOTE\n"
     ]
    },
    {
     "ename": "MemoryError",
     "evalue": "Unable to allocate 2.67 GiB for an array with shape (13265064, 27) and data type float64",
     "output_type": "error",
     "traceback": [
      "\u001b[1;31m---------------------------------------------------------------------------\u001b[0m",
      "\u001b[1;31mMemoryError\u001b[0m                               Traceback (most recent call last)",
      "Cell \u001b[1;32mIn[72], line 6\u001b[0m\n\u001b[0;32m      3\u001b[0m \u001b[38;5;28mprint\u001b[39m(\u001b[38;5;124mf\u001b[39m\u001b[38;5;124m\"\u001b[39m\u001b[38;5;124mTraining fold \u001b[39m\u001b[38;5;132;01m{\u001b[39;00mfold\u001b[38;5;250m \u001b[39m\u001b[38;5;241m+\u001b[39m\u001b[38;5;250m \u001b[39m\u001b[38;5;241m1\u001b[39m\u001b[38;5;132;01m}\u001b[39;00m\u001b[38;5;124m with SMOTE\u001b[39m\u001b[38;5;124m\"\u001b[39m)\n\u001b[0;32m      5\u001b[0m \u001b[38;5;66;03m# Split the data with SMOTE for this fold\u001b[39;00m\n\u001b[1;32m----> 6\u001b[0m X_train_smote, X_val_smote \u001b[38;5;241m=\u001b[39m \u001b[43mX_resampled_drach\u001b[49m\u001b[43m[\u001b[49m\u001b[43mtrain_idx\u001b[49m\u001b[43m]\u001b[49m\u001b[38;5;241;43m.\u001b[39;49m\u001b[43mcopy\u001b[49m\u001b[43m(\u001b[49m\u001b[43m)\u001b[49m, X_resampled_drach[val_idx]\u001b[38;5;241m.\u001b[39mcopy()\n\u001b[0;32m      7\u001b[0m y_train_smote, y_val_smote \u001b[38;5;241m=\u001b[39m y_resampled_drach[train_idx]\u001b[38;5;241m.\u001b[39mcopy(), y_resampled_drach[val_idx]\u001b[38;5;241m.\u001b[39mcopy()\n\u001b[0;32m      9\u001b[0m \u001b[38;5;66;03m# Initialize and compile the model\u001b[39;00m\n",
      "\u001b[1;31mMemoryError\u001b[0m: Unable to allocate 2.67 GiB for an array with shape (13265064, 27) and data type float64"
     ]
    }
   ],
   "source": [
    "# Cross-validation with SMOTE\n",
    "for fold, (train_idx, val_idx) in enumerate(kf.split(X_resampled_drach)):\n",
    "    print(f\"Training fold {fold + 1} with SMOTE\")\n",
    "\n",
    "    # Split the data with SMOTE for this fold\n",
    "    X_train_smote, X_val_smote = X_resampled_drach[train_idx].copy(), X_resampled_drach[val_idx].copy()\n",
    "    y_train_smote, y_val_smote = y_resampled_drach[train_idx].copy(), y_resampled_drach[val_idx].copy()\n",
    "\n",
    "    # Initialize and compile the model\n",
    "    model_smote = build_model(X_train_smote.shape[1])\n",
    "\n",
    "    # Train the model on this fold with SMOTE data\n",
    "    history_smote = model_smote.fit(\n",
    "        X_train_smote, y_train_smote,\n",
    "        epochs=5,\n",
    "        batch_size=32,\n",
    "        validation_data=(X_val_smote, y_val_smote),\n",
    "        callbacks=[checkpoint_smote]\n",
    "    )\n",
    "\n",
    "    # Track the best validation AUC-PR across folds with SMOTE\n",
    "    fold_best_auc_pr_smote = max(history_smote.history['val_auc_pr'])\n",
    "    if fold_best_auc_pr_smote > best_val_auc_pr_smote:\n",
    "        best_val_auc_pr_smote = fold_best_auc_pr_smote"
   ]
  },
  {
   "cell_type": "markdown",
   "metadata": {},
   "source": [
    "No SMOTE Model"
   ]
  },
  {
   "cell_type": "code",
   "execution_count": null,
   "metadata": {},
   "outputs": [
    {
     "name": "stdout",
     "output_type": "stream",
     "text": [
      "Training fold 1 without SMOTE\n",
      "Epoch 1/5\n",
      "\u001b[1m2427/2427\u001b[0m \u001b[32m━━━━━━━━━━━━━━━━━━━━\u001b[0m\u001b[37m\u001b[0m \u001b[1m3s\u001b[0m 839us/step - auc_pr: 0.1642 - auc_roc: 0.7672 - loss: 0.1731 - val_auc_pr: 0.3650 - val_auc_roc: 0.8621 - val_loss: 0.1364\n",
      "Epoch 2/5\n",
      "\u001b[1m2427/2427\u001b[0m \u001b[32m━━━━━━━━━━━━━━━━━━━━\u001b[0m\u001b[37m\u001b[0m \u001b[1m2s\u001b[0m 722us/step - auc_pr: 0.3477 - auc_roc: 0.8534 - loss: 0.1344 - val_auc_pr: 0.4009 - val_auc_roc: 0.8751 - val_loss: 0.1281\n",
      "Epoch 3/5\n",
      "\u001b[1m2427/2427\u001b[0m \u001b[32m━━━━━━━━━━━━━━━━━━━━\u001b[0m\u001b[37m\u001b[0m \u001b[1m2s\u001b[0m 732us/step - auc_pr: 0.3889 - auc_roc: 0.8633 - loss: 0.1291 - val_auc_pr: 0.4176 - val_auc_roc: 0.8788 - val_loss: 0.1287\n",
      "Epoch 4/5\n",
      "\u001b[1m2427/2427\u001b[0m \u001b[32m━━━━━━━━━━━━━━━━━━━━\u001b[0m\u001b[37m\u001b[0m \u001b[1m2s\u001b[0m 783us/step - auc_pr: 0.4021 - auc_roc: 0.8667 - loss: 0.1330 - val_auc_pr: 0.4190 - val_auc_roc: 0.8826 - val_loss: 0.1249\n",
      "Epoch 5/5\n",
      "\u001b[1m2427/2427\u001b[0m \u001b[32m━━━━━━━━━━━━━━━━━━━━\u001b[0m\u001b[37m\u001b[0m \u001b[1m2s\u001b[0m 810us/step - auc_pr: 0.4155 - auc_roc: 0.8730 - loss: 0.1289 - val_auc_pr: 0.4249 - val_auc_roc: 0.8801 - val_loss: 0.1247\n",
      "Training fold 2 without SMOTE\n",
      "Epoch 1/5\n",
      "\u001b[1m2427/2427\u001b[0m \u001b[32m━━━━━━━━━━━━━━━━━━━━\u001b[0m\u001b[37m\u001b[0m \u001b[1m3s\u001b[0m 831us/step - auc_pr: 0.2011 - auc_roc: 0.7830 - loss: 0.1607 - val_auc_pr: 0.3776 - val_auc_roc: 0.8648 - val_loss: 0.1324\n",
      "Epoch 2/5\n",
      "\u001b[1m2427/2427\u001b[0m \u001b[32m━━━━━━━━━━━━━━━━━━━━\u001b[0m\u001b[37m\u001b[0m \u001b[1m2s\u001b[0m 734us/step - auc_pr: 0.3627 - auc_roc: 0.8596 - loss: 0.1333 - val_auc_pr: 0.4055 - val_auc_roc: 0.8745 - val_loss: 0.1285\n",
      "Epoch 3/5\n",
      "\u001b[1m2427/2427\u001b[0m \u001b[32m━━━━━━━━━━━━━━━━━━━━\u001b[0m\u001b[37m\u001b[0m \u001b[1m2s\u001b[0m 734us/step - auc_pr: 0.3995 - auc_roc: 0.8688 - loss: 0.1314 - val_auc_pr: 0.4208 - val_auc_roc: 0.8718 - val_loss: 0.1277\n",
      "Epoch 4/5\n",
      "\u001b[1m2427/2427\u001b[0m \u001b[32m━━━━━━━━━━━━━━━━━━━━\u001b[0m\u001b[37m\u001b[0m \u001b[1m2s\u001b[0m 765us/step - auc_pr: 0.4154 - auc_roc: 0.8740 - loss: 0.1289 - val_auc_pr: 0.4289 - val_auc_roc: 0.8795 - val_loss: 0.1263\n",
      "Epoch 5/5\n",
      "\u001b[1m2427/2427\u001b[0m \u001b[32m━━━━━━━━━━━━━━━━━━━━\u001b[0m\u001b[37m\u001b[0m \u001b[1m2s\u001b[0m 752us/step - auc_pr: 0.4112 - auc_roc: 0.8775 - loss: 0.1265 - val_auc_pr: 0.4368 - val_auc_roc: 0.8802 - val_loss: 0.1247\n",
      "Training fold 3 without SMOTE\n",
      "Epoch 1/5\n",
      "\u001b[1m2427/2427\u001b[0m \u001b[32m━━━━━━━━━━━━━━━━━━━━\u001b[0m\u001b[37m\u001b[0m \u001b[1m3s\u001b[0m 838us/step - auc_pr: 0.1706 - auc_roc: 0.7654 - loss: 0.1741 - val_auc_pr: 0.3750 - val_auc_roc: 0.8729 - val_loss: 0.1269\n",
      "Epoch 2/5\n",
      "\u001b[1m2427/2427\u001b[0m \u001b[32m━━━━━━━━━━━━━━━━━━━━\u001b[0m\u001b[37m\u001b[0m \u001b[1m2s\u001b[0m 738us/step - auc_pr: 0.3728 - auc_roc: 0.8572 - loss: 0.1393 - val_auc_pr: 0.3947 - val_auc_roc: 0.8772 - val_loss: 0.1246\n",
      "Epoch 3/5\n",
      "\u001b[1m2427/2427\u001b[0m \u001b[32m━━━━━━━━━━━━━━━━━━━━\u001b[0m\u001b[37m\u001b[0m \u001b[1m2s\u001b[0m 738us/step - auc_pr: 0.3885 - auc_roc: 0.8640 - loss: 0.1322 - val_auc_pr: 0.4146 - val_auc_roc: 0.8818 - val_loss: 0.1217\n",
      "Epoch 4/5\n",
      "\u001b[1m2427/2427\u001b[0m \u001b[32m━━━━━━━━━━━━━━━━━━━━\u001b[0m\u001b[37m\u001b[0m \u001b[1m2s\u001b[0m 778us/step - auc_pr: 0.4005 - auc_roc: 0.8673 - loss: 0.1307 - val_auc_pr: 0.4073 - val_auc_roc: 0.8794 - val_loss: 0.1226\n",
      "Epoch 5/5\n",
      "\u001b[1m2427/2427\u001b[0m \u001b[32m━━━━━━━━━━━━━━━━━━━━\u001b[0m\u001b[37m\u001b[0m \u001b[1m2s\u001b[0m 859us/step - auc_pr: 0.4104 - auc_roc: 0.8759 - loss: 0.1262 - val_auc_pr: 0.3985 - val_auc_roc: 0.8792 - val_loss: 0.1249\n",
      "Training fold 4 without SMOTE\n",
      "Epoch 1/5\n",
      "\u001b[1m2427/2427\u001b[0m \u001b[32m━━━━━━━━━━━━━━━━━━━━\u001b[0m\u001b[37m\u001b[0m \u001b[1m3s\u001b[0m 845us/step - auc_pr: 0.1822 - auc_roc: 0.7657 - loss: 0.1667 - val_auc_pr: 0.3530 - val_auc_roc: 0.8683 - val_loss: 0.1297\n",
      "Epoch 2/5\n",
      "\u001b[1m2427/2427\u001b[0m \u001b[32m━━━━━━━━━━━━━━━━━━━━\u001b[0m\u001b[37m\u001b[0m \u001b[1m2s\u001b[0m 716us/step - auc_pr: 0.3763 - auc_roc: 0.8593 - loss: 0.1326 - val_auc_pr: 0.3770 - val_auc_roc: 0.8810 - val_loss: 0.1252\n",
      "Epoch 3/5\n",
      "\u001b[1m2427/2427\u001b[0m \u001b[32m━━━━━━━━━━━━━━━━━━━━\u001b[0m\u001b[37m\u001b[0m \u001b[1m2s\u001b[0m 715us/step - auc_pr: 0.3924 - auc_roc: 0.8697 - loss: 0.1291 - val_auc_pr: 0.3917 - val_auc_roc: 0.8879 - val_loss: 0.1227\n",
      "Epoch 4/5\n",
      "\u001b[1m2427/2427\u001b[0m \u001b[32m━━━━━━━━━━━━━━━━━━━━\u001b[0m\u001b[37m\u001b[0m \u001b[1m2s\u001b[0m 705us/step - auc_pr: 0.3977 - auc_roc: 0.8715 - loss: 0.1301 - val_auc_pr: 0.3864 - val_auc_roc: 0.8819 - val_loss: 0.1244\n",
      "Epoch 5/5\n",
      "\u001b[1m2427/2427\u001b[0m \u001b[32m━━━━━━━━━━━━━━━━━━━━\u001b[0m\u001b[37m\u001b[0m \u001b[1m2s\u001b[0m 741us/step - auc_pr: 0.4170 - auc_roc: 0.8736 - loss: 0.1266 - val_auc_pr: 0.3961 - val_auc_roc: 0.8874 - val_loss: 0.1225\n",
      "Training fold 5 without SMOTE\n",
      "Epoch 1/5\n",
      "\u001b[1m2427/2427\u001b[0m \u001b[32m━━━━━━━━━━━━━━━━━━━━\u001b[0m\u001b[37m\u001b[0m \u001b[1m3s\u001b[0m 825us/step - auc_pr: 0.1706 - auc_roc: 0.7631 - loss: 0.1742 - val_auc_pr: 0.3946 - val_auc_roc: 0.8658 - val_loss: 0.1378\n",
      "Epoch 2/5\n",
      "\u001b[1m2427/2427\u001b[0m \u001b[32m━━━━━━━━━━━━━━━━━━━━\u001b[0m\u001b[37m\u001b[0m \u001b[1m2s\u001b[0m 888us/step - auc_pr: 0.3583 - auc_roc: 0.8558 - loss: 0.1327 - val_auc_pr: 0.4103 - val_auc_roc: 0.8771 - val_loss: 0.1331\n",
      "Epoch 3/5\n",
      "\u001b[1m2427/2427\u001b[0m \u001b[32m━━━━━━━━━━━━━━━━━━━━\u001b[0m\u001b[37m\u001b[0m \u001b[1m2s\u001b[0m 827us/step - auc_pr: 0.3730 - auc_roc: 0.8655 - loss: 0.1271 - val_auc_pr: 0.4238 - val_auc_roc: 0.8802 - val_loss: 0.1316\n",
      "Epoch 4/5\n",
      "\u001b[1m2427/2427\u001b[0m \u001b[32m━━━━━━━━━━━━━━━━━━━━\u001b[0m\u001b[37m\u001b[0m \u001b[1m2s\u001b[0m 802us/step - auc_pr: 0.3913 - auc_roc: 0.8682 - loss: 0.1296 - val_auc_pr: 0.4321 - val_auc_roc: 0.8825 - val_loss: 0.1313\n",
      "Epoch 5/5\n",
      "\u001b[1m2427/2427\u001b[0m \u001b[32m━━━━━━━━━━━━━━━━━━━━\u001b[0m\u001b[37m\u001b[0m \u001b[1m2s\u001b[0m 790us/step - auc_pr: 0.4142 - auc_roc: 0.8757 - loss: 0.1246 - val_auc_pr: 0.4333 - val_auc_roc: 0.8827 - val_loss: 0.1311\n"
     ]
    }
   ],
   "source": [
    "# Cross-validation without SMOTE\n",
    "for fold, (train_idx, val_idx) in enumerate(kf.split(X_train)):\n",
    "    print(f\"Training fold {fold + 1} without SMOTE\")\n",
    "\n",
    "    # Split the data without SMOTE for this fold\n",
    "    X_train_no_smote, X_val_no_smote = X_train[train_idx].copy(), X_train[val_idx].copy()\n",
    "    y_train_no_smote, y_val_no_smote = y_train[train_idx].copy(), y_train[val_idx].copy()\n",
    "\n",
    "    # Initialize and compile the model\n",
    "    model_no_smote = build_model(X_train_no_smote.shape[1])\n",
    "\n",
    "    # Train the model on this fold without SMOTE data\n",
    "    history_no_smote = model_no_smote.fit(\n",
    "        X_train_no_smote, y_train_no_smote,\n",
    "        epochs=5,\n",
    "        batch_size=32,\n",
    "        validation_data=(X_val_no_smote, y_val_no_smote),\n",
    "        callbacks=[checkpoint_no_smote]\n",
    "    )\n",
    "\n",
    "    # Track the best validation AUC-PR across folds without SMOTE\n",
    "    fold_best_auc_pr_no_smote = max(history_no_smote.history['val_auc_pr'])\n",
    "    if fold_best_auc_pr_no_smote > best_val_auc_pr_no_smote:\n",
    "        best_val_auc_pr_no_smote = fold_best_auc_pr_no_smote"
   ]
  },
  {
   "cell_type": "markdown",
   "metadata": {},
   "source": [
    "Get the metrics"
   ]
  },
  {
   "cell_type": "code",
   "execution_count": null,
   "metadata": {},
   "outputs": [
    {
     "name": "stdout",
     "output_type": "stream",
     "text": [
      "\u001b[1m774/774\u001b[0m \u001b[32m━━━━━━━━━━━━━━━━━━━━\u001b[0m\u001b[37m\u001b[0m \u001b[1m0s\u001b[0m 350us/step\n",
      "\u001b[1m774/774\u001b[0m \u001b[32m━━━━━━━━━━━━━━━━━━━━\u001b[0m\u001b[37m\u001b[0m \u001b[1m0s\u001b[0m 334us/step\n",
      "\u001b[1m774/774\u001b[0m \u001b[32m━━━━━━━━━━━━━━━━━━━━\u001b[0m\u001b[37m\u001b[0m \u001b[1m0s\u001b[0m 356us/step\n",
      "\u001b[1m774/774\u001b[0m \u001b[32m━━━━━━━━━━━━━━━━━━━━\u001b[0m\u001b[37m\u001b[0m \u001b[1m0s\u001b[0m 336us/step\n",
      "Metrics Comparison on Test Data:\n",
      "\n",
      "With SMOTE:\n",
      "AUC-ROC: 0.8528\n",
      "AUC-PR: 0.3488\n",
      "Accuracy: 0.9580\n",
      "Average Precision Score: 0.3493\n",
      "\n",
      "Without SMOTE:\n",
      "AUC-ROC: 0.8949\n",
      "AUC-PR: 0.4714\n",
      "Accuracy: 0.9561\n",
      "Average Precision Score: 0.4718\n"
     ]
    }
   ],
   "source": [
    "from sklearn.metrics import roc_auc_score, accuracy_score, precision_recall_curve, auc, average_precision_score\n",
    "from tensorflow.keras.models import load_model\n",
    "\n",
    "# Load the best model for both SMOTE and no-SMOTE versions\n",
    "best_model_smote = load_model(BEST_MODEL_PATH_SMOTE)\n",
    "best_model_no_smote = load_model(BEST_MODEL_PATH_NO_SMOTE)\n",
    "\n",
    "# Generate predictions and probabilities for both models on the test data\n",
    "threshold = 0.9 # Threshold for binary predictions\n",
    "\n",
    "y_pred_smote = (best_model_smote.predict(X_test) > threshold).astype(\"int32\").flatten()  # Binary predictions\n",
    "y_proba_smote = best_model_smote.predict(X_test).flatten()  # Probabilities\n",
    "\n",
    "y_pred_no_smote = (best_model_no_smote.predict(X_test) > threshold).astype(\"int32\").flatten()  # Binary predictions\n",
    "y_proba_no_smote = best_model_no_smote.predict(X_test).flatten()  # Probabilities\n",
    "\n",
    "# Calculate metrics for SMOTE model\n",
    "precision, recall, thresholds = precision_recall_curve(y_test, y_proba_smote)\n",
    "roc_auc_smote = roc_auc_score(y_test, y_proba_smote)\n",
    "pr_auc_smote = auc(recall, precision)\n",
    "accuracy_smote = accuracy_score(y_test, y_pred_smote)\n",
    "average_precision_smote = average_precision_score(y_test, y_proba_smote)\n",
    "\n",
    "# Calculate metrics for No-SMOTE model\n",
    "precision, recall, thresholds = precision_recall_curve(y_test, y_proba_no_smote)\n",
    "roc_auc_no_smote = roc_auc_score(y_test, y_proba_no_smote)\n",
    "pr_auc_no_smote = auc(recall, precision)\n",
    "accuracy_no_smote = accuracy_score(y_test, y_pred_no_smote)\n",
    "average_precision_no_smote = average_precision_score(y_test, y_proba_no_smote)\n",
    "\n",
    "# Print comparison results\n",
    "print(\"Metrics Comparison on Test Data:\")\n",
    "print(\"\\nWith SMOTE:\")\n",
    "print(f\"AUC-ROC: {roc_auc_smote:.4f}\")\n",
    "print(f\"AUC-PR: {pr_auc_smote:.4f}\")\n",
    "print(f\"Accuracy: {accuracy_smote:.4f}\")\n",
    "print(f\"Average Precision Score: {average_precision_smote:.4f}\")\n",
    "\n",
    "print(\"\\nWithout SMOTE:\")\n",
    "print(f\"AUC-ROC: {roc_auc_no_smote:.4f}\")\n",
    "print(f\"AUC-PR: {pr_auc_no_smote:.4f}\")\n",
    "print(f\"Accuracy: {accuracy_no_smote:.4f}\")\n",
    "print(f\"Average Precision Score: {average_precision_no_smote:.4f}\")"
   ]
  },
  {
   "cell_type": "markdown",
   "metadata": {},
   "source": [
    "### Improving Model "
   ]
  },
  {
   "cell_type": "markdown",
   "metadata": {},
   "source": [
    "SMOTE seems to be overfitting the data: try regularisers"
   ]
  },
  {
   "cell_type": "code",
   "execution_count": null,
   "metadata": {},
   "outputs": [],
   "source": []
  }
 ],
 "metadata": {
  "kernelspec": {
   "display_name": "Python 3",
   "language": "python",
   "name": "python3"
  },
  "language_info": {
   "codemirror_mode": {
    "name": "ipython",
    "version": 3
   },
   "file_extension": ".py",
   "mimetype": "text/x-python",
   "name": "python",
   "nbconvert_exporter": "python",
   "pygments_lexer": "ipython3",
   "version": "3.10.6"
  }
 },
 "nbformat": 4,
 "nbformat_minor": 2
}
