{
 "cells": [
  {
   "cell_type": "markdown",
   "metadata": {},
   "source": [
    "### Helper Functions For Preprocessing Data"
   ]
  },
  {
   "cell_type": "code",
   "execution_count": 1,
   "metadata": {},
   "outputs": [],
   "source": [
    "from helper_functions import *"
   ]
  },
  {
   "cell_type": "markdown",
   "metadata": {},
   "source": [
    "### Preprocessing"
   ]
  },
  {
   "cell_type": "markdown",
   "metadata": {},
   "source": [
    "Load Data"
   ]
  },
  {
   "cell_type": "code",
   "execution_count": 14,
   "metadata": {},
   "outputs": [
    {
     "data": {
      "text/html": [
       "<div>\n",
       "<style scoped>\n",
       "    .dataframe tbody tr th:only-of-type {\n",
       "        vertical-align: middle;\n",
       "    }\n",
       "\n",
       "    .dataframe tbody tr th {\n",
       "        vertical-align: top;\n",
       "    }\n",
       "\n",
       "    .dataframe thead th {\n",
       "        text-align: right;\n",
       "    }\n",
       "</style>\n",
       "<table border=\"1\" class=\"dataframe\">\n",
       "  <thead>\n",
       "    <tr style=\"text-align: right;\">\n",
       "      <th></th>\n",
       "      <th>gene_id</th>\n",
       "      <th>transcript_id</th>\n",
       "      <th>transcript_position</th>\n",
       "      <th>label</th>\n",
       "    </tr>\n",
       "  </thead>\n",
       "  <tbody>\n",
       "    <tr>\n",
       "      <th>0</th>\n",
       "      <td>ENSG00000004059</td>\n",
       "      <td>ENST00000000233</td>\n",
       "      <td>244</td>\n",
       "      <td>0</td>\n",
       "    </tr>\n",
       "    <tr>\n",
       "      <th>1</th>\n",
       "      <td>ENSG00000004059</td>\n",
       "      <td>ENST00000000233</td>\n",
       "      <td>261</td>\n",
       "      <td>0</td>\n",
       "    </tr>\n",
       "    <tr>\n",
       "      <th>2</th>\n",
       "      <td>ENSG00000004059</td>\n",
       "      <td>ENST00000000233</td>\n",
       "      <td>316</td>\n",
       "      <td>0</td>\n",
       "    </tr>\n",
       "  </tbody>\n",
       "</table>\n",
       "</div>"
      ],
      "text/plain": [
       "           gene_id    transcript_id  transcript_position  label\n",
       "0  ENSG00000004059  ENST00000000233                  244      0\n",
       "1  ENSG00000004059  ENST00000000233                  261      0\n",
       "2  ENSG00000004059  ENST00000000233                  316      0"
      ]
     },
     "execution_count": 14,
     "metadata": {},
     "output_type": "execute_result"
    }
   ],
   "source": [
    "labels = pd.read_csv('data.info.labelled')\n",
    "labels.head(3)"
   ]
  },
  {
   "cell_type": "code",
   "execution_count": null,
   "metadata": {},
   "outputs": [],
   "source": [
    "df = load_data_to_dataframe('dataset0.json.gz')\n",
    "df.head(3)"
   ]
  },
  {
   "cell_type": "markdown",
   "metadata": {},
   "source": [
    "Assign labels to the data"
   ]
  },
  {
   "cell_type": "code",
   "execution_count": 16,
   "metadata": {},
   "outputs": [
    {
     "data": {
      "text/html": [
       "<div>\n",
       "<style scoped>\n",
       "    .dataframe tbody tr th:only-of-type {\n",
       "        vertical-align: middle;\n",
       "    }\n",
       "\n",
       "    .dataframe tbody tr th {\n",
       "        vertical-align: top;\n",
       "    }\n",
       "\n",
       "    .dataframe thead th {\n",
       "        text-align: right;\n",
       "    }\n",
       "</style>\n",
       "<table border=\"1\" class=\"dataframe\">\n",
       "  <thead>\n",
       "    <tr style=\"text-align: right;\">\n",
       "      <th></th>\n",
       "      <th>gene_id</th>\n",
       "      <th>transcript_id</th>\n",
       "      <th>position</th>\n",
       "      <th>sequence</th>\n",
       "      <th>reads</th>\n",
       "      <th>label</th>\n",
       "    </tr>\n",
       "  </thead>\n",
       "  <tbody>\n",
       "    <tr>\n",
       "      <th>0</th>\n",
       "      <td>ENSG00000004059</td>\n",
       "      <td>ENST00000000233</td>\n",
       "      <td>244</td>\n",
       "      <td>AAGACCA</td>\n",
       "      <td>[[0.00299, 2.06, 125.0, 0.0177, 10.4, 122.0, 0...</td>\n",
       "      <td>0</td>\n",
       "    </tr>\n",
       "    <tr>\n",
       "      <th>1</th>\n",
       "      <td>ENSG00000004059</td>\n",
       "      <td>ENST00000000233</td>\n",
       "      <td>261</td>\n",
       "      <td>CAAACTG</td>\n",
       "      <td>[[0.0126, 1.95, 111.0, 0.0125, 1.27, 108.0, 0....</td>\n",
       "      <td>0</td>\n",
       "    </tr>\n",
       "    <tr>\n",
       "      <th>2</th>\n",
       "      <td>ENSG00000004059</td>\n",
       "      <td>ENST00000000233</td>\n",
       "      <td>316</td>\n",
       "      <td>GAAACAG</td>\n",
       "      <td>[[0.00432, 2.02, 104.0, 0.00299, 3.56, 99.3, 0...</td>\n",
       "      <td>0</td>\n",
       "    </tr>\n",
       "  </tbody>\n",
       "</table>\n",
       "</div>"
      ],
      "text/plain": [
       "           gene_id    transcript_id  position sequence  \\\n",
       "0  ENSG00000004059  ENST00000000233       244  AAGACCA   \n",
       "1  ENSG00000004059  ENST00000000233       261  CAAACTG   \n",
       "2  ENSG00000004059  ENST00000000233       316  GAAACAG   \n",
       "\n",
       "                                               reads  label  \n",
       "0  [[0.00299, 2.06, 125.0, 0.0177, 10.4, 122.0, 0...      0  \n",
       "1  [[0.0126, 1.95, 111.0, 0.0125, 1.27, 108.0, 0....      0  \n",
       "2  [[0.00432, 2.02, 104.0, 0.00299, 3.56, 99.3, 0...      0  "
      ]
     },
     "execution_count": 16,
     "metadata": {},
     "output_type": "execute_result"
    }
   ],
   "source": [
    "df = combine_data(df, labels)\n",
    "df.head(3)"
   ]
  },
  {
   "cell_type": "markdown",
   "metadata": {},
   "source": [
    "Extract mean reads"
   ]
  },
  {
   "cell_type": "code",
   "execution_count": 5,
   "metadata": {},
   "outputs": [
    {
     "data": {
      "text/html": [
       "<div>\n",
       "<style scoped>\n",
       "    .dataframe tbody tr th:only-of-type {\n",
       "        vertical-align: middle;\n",
       "    }\n",
       "\n",
       "    .dataframe tbody tr th {\n",
       "        vertical-align: top;\n",
       "    }\n",
       "\n",
       "    .dataframe thead th {\n",
       "        text-align: right;\n",
       "    }\n",
       "</style>\n",
       "<table border=\"1\" class=\"dataframe\">\n",
       "  <thead>\n",
       "    <tr style=\"text-align: right;\">\n",
       "      <th></th>\n",
       "      <th>gene_id</th>\n",
       "      <th>transcript_id</th>\n",
       "      <th>position</th>\n",
       "      <th>sequence</th>\n",
       "      <th>reads</th>\n",
       "      <th>label</th>\n",
       "      <th>mean_reads</th>\n",
       "    </tr>\n",
       "  </thead>\n",
       "  <tbody>\n",
       "    <tr>\n",
       "      <th>0</th>\n",
       "      <td>ENSG00000004059</td>\n",
       "      <td>ENST00000000233</td>\n",
       "      <td>244</td>\n",
       "      <td>AAGACCA</td>\n",
       "      <td>[[0.00299, 2.06, 125.0, 0.0177, 10.4, 122.0, 0...</td>\n",
       "      <td>0</td>\n",
       "      <td>[0.008264378378378385, 4.223783783783786, 123....</td>\n",
       "    </tr>\n",
       "    <tr>\n",
       "      <th>1</th>\n",
       "      <td>ENSG00000004059</td>\n",
       "      <td>ENST00000000233</td>\n",
       "      <td>261</td>\n",
       "      <td>CAAACTG</td>\n",
       "      <td>[[0.0126, 1.95, 111.0, 0.0125, 1.27, 108.0, 0....</td>\n",
       "      <td>0</td>\n",
       "      <td>[0.006609244186046515, 3.2164244186046504, 109...</td>\n",
       "    </tr>\n",
       "    <tr>\n",
       "      <th>2</th>\n",
       "      <td>ENSG00000004059</td>\n",
       "      <td>ENST00000000233</td>\n",
       "      <td>316</td>\n",
       "      <td>GAAACAG</td>\n",
       "      <td>[[0.00432, 2.02, 104.0, 0.00299, 3.56, 99.3, 0...</td>\n",
       "      <td>0</td>\n",
       "      <td>[0.0075699999999999995, 2.94054054054054, 105....</td>\n",
       "    </tr>\n",
       "  </tbody>\n",
       "</table>\n",
       "</div>"
      ],
      "text/plain": [
       "           gene_id    transcript_id  position sequence  \\\n",
       "0  ENSG00000004059  ENST00000000233       244  AAGACCA   \n",
       "1  ENSG00000004059  ENST00000000233       261  CAAACTG   \n",
       "2  ENSG00000004059  ENST00000000233       316  GAAACAG   \n",
       "\n",
       "                                               reads  label  \\\n",
       "0  [[0.00299, 2.06, 125.0, 0.0177, 10.4, 122.0, 0...      0   \n",
       "1  [[0.0126, 1.95, 111.0, 0.0125, 1.27, 108.0, 0....      0   \n",
       "2  [[0.00432, 2.02, 104.0, 0.00299, 3.56, 99.3, 0...      0   \n",
       "\n",
       "                                          mean_reads  \n",
       "0  [0.008264378378378385, 4.223783783783786, 123....  \n",
       "1  [0.006609244186046515, 3.2164244186046504, 109...  \n",
       "2  [0.0075699999999999995, 2.94054054054054, 105....  "
      ]
     },
     "execution_count": 5,
     "metadata": {},
     "output_type": "execute_result"
    }
   ],
   "source": [
    "df = extract_mean_reads(df)\n",
    "df.head(3)"
   ]
  },
  {
   "cell_type": "markdown",
   "metadata": {},
   "source": [
    "Train test split by gene_id"
   ]
  },
  {
   "cell_type": "code",
   "execution_count": 6,
   "metadata": {},
   "outputs": [],
   "source": [
    "# Train test split by gene id\n",
    "from sklearn.model_selection import train_test_split\n",
    "train_gene_ids, test_gene_ids = train_test_split(df['gene_id'].unique(), test_size=0.2, random_state=4262)\n",
    "\n",
    "train_df = df[df['gene_id'].isin(train_gene_ids)].copy()\n",
    "test_df = df[df['gene_id'].isin(test_gene_ids)].copy()"
   ]
  },
  {
   "cell_type": "markdown",
   "metadata": {},
   "source": [
    "Scale mean reads"
   ]
  },
  {
   "cell_type": "code",
   "execution_count": 7,
   "metadata": {},
   "outputs": [
    {
     "name": "stdout",
     "output_type": "stream",
     "text": [
      "Scaler saved to mean_reads_scaler.pkl\n"
     ]
    },
    {
     "data": {
      "text/html": [
       "<div>\n",
       "<style scoped>\n",
       "    .dataframe tbody tr th:only-of-type {\n",
       "        vertical-align: middle;\n",
       "    }\n",
       "\n",
       "    .dataframe tbody tr th {\n",
       "        vertical-align: top;\n",
       "    }\n",
       "\n",
       "    .dataframe thead th {\n",
       "        text-align: right;\n",
       "    }\n",
       "</style>\n",
       "<table border=\"1\" class=\"dataframe\">\n",
       "  <thead>\n",
       "    <tr style=\"text-align: right;\">\n",
       "      <th></th>\n",
       "      <th>gene_id</th>\n",
       "      <th>transcript_id</th>\n",
       "      <th>position</th>\n",
       "      <th>sequence</th>\n",
       "      <th>reads</th>\n",
       "      <th>label</th>\n",
       "      <th>mean_reads</th>\n",
       "      <th>scaled_mean_reads</th>\n",
       "    </tr>\n",
       "  </thead>\n",
       "  <tbody>\n",
       "    <tr>\n",
       "      <th>18</th>\n",
       "      <td>ENSG00000003056</td>\n",
       "      <td>ENST00000000412</td>\n",
       "      <td>355</td>\n",
       "      <td>GAAACTA</td>\n",
       "      <td>[[0.00232, 2.41, 109.0, 0.0222, 2.85, 111.0, 0...</td>\n",
       "      <td>0</td>\n",
       "      <td>[0.007340399999999998, 2.9771799999999997, 108...</td>\n",
       "      <td>[-0.43079389735504386, -0.7090163040809951, -0...</td>\n",
       "    </tr>\n",
       "    <tr>\n",
       "      <th>19</th>\n",
       "      <td>ENSG00000003056</td>\n",
       "      <td>ENST00000000412</td>\n",
       "      <td>367</td>\n",
       "      <td>GGGACCG</td>\n",
       "      <td>[[0.00232, 1.32, 117.0, 0.0073, 7.89, 120.0, 0...</td>\n",
       "      <td>0</td>\n",
       "      <td>[0.00898787234042553, 3.961489361702128, 118.6...</td>\n",
       "      <td>[0.49106279705280276, -0.1994143266757514, 0.6...</td>\n",
       "    </tr>\n",
       "    <tr>\n",
       "      <th>20</th>\n",
       "      <td>ENSG00000003056</td>\n",
       "      <td>ENST00000000412</td>\n",
       "      <td>496</td>\n",
       "      <td>AGGACTG</td>\n",
       "      <td>[[0.00398, 2.46, 111.0, 0.016, 3.36, 125.0, 0....</td>\n",
       "      <td>0</td>\n",
       "      <td>[0.011064705882352935, 7.299607843137254, 115....</td>\n",
       "      <td>[1.6531720821786586, 1.5288144651450055, 0.418...</td>\n",
       "    </tr>\n",
       "  </tbody>\n",
       "</table>\n",
       "</div>"
      ],
      "text/plain": [
       "            gene_id    transcript_id  position sequence  \\\n",
       "18  ENSG00000003056  ENST00000000412       355  GAAACTA   \n",
       "19  ENSG00000003056  ENST00000000412       367  GGGACCG   \n",
       "20  ENSG00000003056  ENST00000000412       496  AGGACTG   \n",
       "\n",
       "                                                reads  label  \\\n",
       "18  [[0.00232, 2.41, 109.0, 0.0222, 2.85, 111.0, 0...      0   \n",
       "19  [[0.00232, 1.32, 117.0, 0.0073, 7.89, 120.0, 0...      0   \n",
       "20  [[0.00398, 2.46, 111.0, 0.016, 3.36, 125.0, 0....      0   \n",
       "\n",
       "                                           mean_reads  \\\n",
       "18  [0.007340399999999998, 2.9771799999999997, 108...   \n",
       "19  [0.00898787234042553, 3.961489361702128, 118.6...   \n",
       "20  [0.011064705882352935, 7.299607843137254, 115....   \n",
       "\n",
       "                                    scaled_mean_reads  \n",
       "18  [-0.43079389735504386, -0.7090163040809951, -0...  \n",
       "19  [0.49106279705280276, -0.1994143266757514, 0.6...  \n",
       "20  [1.6531720821786586, 1.5288144651450055, 0.418...  "
      ]
     },
     "execution_count": 7,
     "metadata": {},
     "output_type": "execute_result"
    }
   ],
   "source": [
    "# Scale mean reads of train data first\n",
    "train_df = scale_mean_reads(train_df)\n",
    "train_df.head(3)"
   ]
  },
  {
   "cell_type": "code",
   "execution_count": 8,
   "metadata": {},
   "outputs": [],
   "source": [
    "# Load the saved scaler to transform the test data\n",
    "scaler = load_scaler()\n",
    "test_df = scale_mean_reads(test_df, scaler=scaler)"
   ]
  },
  {
   "cell_type": "markdown",
   "metadata": {},
   "source": [
    "Extract middle sequence"
   ]
  },
  {
   "cell_type": "code",
   "execution_count": 9,
   "metadata": {},
   "outputs": [
    {
     "data": {
      "text/html": [
       "<div>\n",
       "<style scoped>\n",
       "    .dataframe tbody tr th:only-of-type {\n",
       "        vertical-align: middle;\n",
       "    }\n",
       "\n",
       "    .dataframe tbody tr th {\n",
       "        vertical-align: top;\n",
       "    }\n",
       "\n",
       "    .dataframe thead th {\n",
       "        text-align: right;\n",
       "    }\n",
       "</style>\n",
       "<table border=\"1\" class=\"dataframe\">\n",
       "  <thead>\n",
       "    <tr style=\"text-align: right;\">\n",
       "      <th></th>\n",
       "      <th>gene_id</th>\n",
       "      <th>transcript_id</th>\n",
       "      <th>position</th>\n",
       "      <th>sequence</th>\n",
       "      <th>reads</th>\n",
       "      <th>label</th>\n",
       "      <th>mean_reads</th>\n",
       "      <th>scaled_mean_reads</th>\n",
       "      <th>middle_sequence</th>\n",
       "    </tr>\n",
       "  </thead>\n",
       "  <tbody>\n",
       "    <tr>\n",
       "      <th>18</th>\n",
       "      <td>ENSG00000003056</td>\n",
       "      <td>ENST00000000412</td>\n",
       "      <td>355</td>\n",
       "      <td>GAAACTA</td>\n",
       "      <td>[[0.00232, 2.41, 109.0, 0.0222, 2.85, 111.0, 0...</td>\n",
       "      <td>0</td>\n",
       "      <td>[0.007340399999999998, 2.9771799999999997, 108...</td>\n",
       "      <td>[-0.43079389735504386, -0.7090163040809951, -0...</td>\n",
       "      <td>AAACT</td>\n",
       "    </tr>\n",
       "    <tr>\n",
       "      <th>19</th>\n",
       "      <td>ENSG00000003056</td>\n",
       "      <td>ENST00000000412</td>\n",
       "      <td>367</td>\n",
       "      <td>GGGACCG</td>\n",
       "      <td>[[0.00232, 1.32, 117.0, 0.0073, 7.89, 120.0, 0...</td>\n",
       "      <td>0</td>\n",
       "      <td>[0.00898787234042553, 3.961489361702128, 118.6...</td>\n",
       "      <td>[0.49106279705280276, -0.1994143266757514, 0.6...</td>\n",
       "      <td>GGACC</td>\n",
       "    </tr>\n",
       "    <tr>\n",
       "      <th>20</th>\n",
       "      <td>ENSG00000003056</td>\n",
       "      <td>ENST00000000412</td>\n",
       "      <td>496</td>\n",
       "      <td>AGGACTG</td>\n",
       "      <td>[[0.00398, 2.46, 111.0, 0.016, 3.36, 125.0, 0....</td>\n",
       "      <td>0</td>\n",
       "      <td>[0.011064705882352935, 7.299607843137254, 115....</td>\n",
       "      <td>[1.6531720821786586, 1.5288144651450055, 0.418...</td>\n",
       "      <td>GGACT</td>\n",
       "    </tr>\n",
       "  </tbody>\n",
       "</table>\n",
       "</div>"
      ],
      "text/plain": [
       "            gene_id    transcript_id  position sequence  \\\n",
       "18  ENSG00000003056  ENST00000000412       355  GAAACTA   \n",
       "19  ENSG00000003056  ENST00000000412       367  GGGACCG   \n",
       "20  ENSG00000003056  ENST00000000412       496  AGGACTG   \n",
       "\n",
       "                                                reads  label  \\\n",
       "18  [[0.00232, 2.41, 109.0, 0.0222, 2.85, 111.0, 0...      0   \n",
       "19  [[0.00232, 1.32, 117.0, 0.0073, 7.89, 120.0, 0...      0   \n",
       "20  [[0.00398, 2.46, 111.0, 0.016, 3.36, 125.0, 0....      0   \n",
       "\n",
       "                                           mean_reads  \\\n",
       "18  [0.007340399999999998, 2.9771799999999997, 108...   \n",
       "19  [0.00898787234042553, 3.961489361702128, 118.6...   \n",
       "20  [0.011064705882352935, 7.299607843137254, 115....   \n",
       "\n",
       "                                    scaled_mean_reads middle_sequence  \n",
       "18  [-0.43079389735504386, -0.7090163040809951, -0...           AAACT  \n",
       "19  [0.49106279705280276, -0.1994143266757514, 0.6...           GGACC  \n",
       "20  [1.6531720821786586, 1.5288144651450055, 0.418...           GGACT  "
      ]
     },
     "execution_count": 9,
     "metadata": {},
     "output_type": "execute_result"
    }
   ],
   "source": [
    "train_df = extract_middle_sequence(train_df)\n",
    "train_df.head(3)"
   ]
  },
  {
   "cell_type": "code",
   "execution_count": 10,
   "metadata": {},
   "outputs": [],
   "source": [
    "test_df = extract_middle_sequence(test_df)"
   ]
  },
  {
   "cell_type": "markdown",
   "metadata": {},
   "source": [
    "One hot encode middle sequence (DRACH motif)"
   ]
  },
  {
   "cell_type": "code",
   "execution_count": 11,
   "metadata": {},
   "outputs": [
    {
     "name": "stdout",
     "output_type": "stream",
     "text": [
      "DRACH Encoder saved to drach_encoder.pkl\n"
     ]
    },
    {
     "data": {
      "text/html": [
       "<div>\n",
       "<style scoped>\n",
       "    .dataframe tbody tr th:only-of-type {\n",
       "        vertical-align: middle;\n",
       "    }\n",
       "\n",
       "    .dataframe tbody tr th {\n",
       "        vertical-align: top;\n",
       "    }\n",
       "\n",
       "    .dataframe thead th {\n",
       "        text-align: right;\n",
       "    }\n",
       "</style>\n",
       "<table border=\"1\" class=\"dataframe\">\n",
       "  <thead>\n",
       "    <tr style=\"text-align: right;\">\n",
       "      <th></th>\n",
       "      <th>gene_id</th>\n",
       "      <th>transcript_id</th>\n",
       "      <th>position</th>\n",
       "      <th>sequence</th>\n",
       "      <th>reads</th>\n",
       "      <th>label</th>\n",
       "      <th>mean_reads</th>\n",
       "      <th>scaled_mean_reads</th>\n",
       "      <th>middle_sequence</th>\n",
       "      <th>middle_sequence_OHE</th>\n",
       "    </tr>\n",
       "  </thead>\n",
       "  <tbody>\n",
       "    <tr>\n",
       "      <th>18</th>\n",
       "      <td>ENSG00000003056</td>\n",
       "      <td>ENST00000000412</td>\n",
       "      <td>355</td>\n",
       "      <td>GAAACTA</td>\n",
       "      <td>[[0.00232, 2.41, 109.0, 0.0222, 2.85, 111.0, 0...</td>\n",
       "      <td>0</td>\n",
       "      <td>[0.007340399999999998, 2.9771799999999997, 108...</td>\n",
       "      <td>[-0.43079389735504386, -0.7090163040809951, -0...</td>\n",
       "      <td>AAACT</td>\n",
       "      <td>[0.0, 0.0, 1.0, 0.0, 0.0, 0.0, 0.0, 0.0, 0.0, ...</td>\n",
       "    </tr>\n",
       "    <tr>\n",
       "      <th>19</th>\n",
       "      <td>ENSG00000003056</td>\n",
       "      <td>ENST00000000412</td>\n",
       "      <td>367</td>\n",
       "      <td>GGGACCG</td>\n",
       "      <td>[[0.00232, 1.32, 117.0, 0.0073, 7.89, 120.0, 0...</td>\n",
       "      <td>0</td>\n",
       "      <td>[0.00898787234042553, 3.961489361702128, 118.6...</td>\n",
       "      <td>[0.49106279705280276, -0.1994143266757514, 0.6...</td>\n",
       "      <td>GGACC</td>\n",
       "      <td>[0.0, 0.0, 0.0, 0.0, 0.0, 0.0, 0.0, 0.0, 0.0, ...</td>\n",
       "    </tr>\n",
       "    <tr>\n",
       "      <th>20</th>\n",
       "      <td>ENSG00000003056</td>\n",
       "      <td>ENST00000000412</td>\n",
       "      <td>496</td>\n",
       "      <td>AGGACTG</td>\n",
       "      <td>[[0.00398, 2.46, 111.0, 0.016, 3.36, 125.0, 0....</td>\n",
       "      <td>0</td>\n",
       "      <td>[0.011064705882352935, 7.299607843137254, 115....</td>\n",
       "      <td>[1.6531720821786586, 1.5288144651450055, 0.418...</td>\n",
       "      <td>GGACT</td>\n",
       "      <td>[0.0, 0.0, 0.0, 0.0, 0.0, 0.0, 0.0, 0.0, 0.0, ...</td>\n",
       "    </tr>\n",
       "  </tbody>\n",
       "</table>\n",
       "</div>"
      ],
      "text/plain": [
       "            gene_id    transcript_id  position sequence  \\\n",
       "18  ENSG00000003056  ENST00000000412       355  GAAACTA   \n",
       "19  ENSG00000003056  ENST00000000412       367  GGGACCG   \n",
       "20  ENSG00000003056  ENST00000000412       496  AGGACTG   \n",
       "\n",
       "                                                reads  label  \\\n",
       "18  [[0.00232, 2.41, 109.0, 0.0222, 2.85, 111.0, 0...      0   \n",
       "19  [[0.00232, 1.32, 117.0, 0.0073, 7.89, 120.0, 0...      0   \n",
       "20  [[0.00398, 2.46, 111.0, 0.016, 3.36, 125.0, 0....      0   \n",
       "\n",
       "                                           mean_reads  \\\n",
       "18  [0.007340399999999998, 2.9771799999999997, 108...   \n",
       "19  [0.00898787234042553, 3.961489361702128, 118.6...   \n",
       "20  [0.011064705882352935, 7.299607843137254, 115....   \n",
       "\n",
       "                                    scaled_mean_reads middle_sequence  \\\n",
       "18  [-0.43079389735504386, -0.7090163040809951, -0...           AAACT   \n",
       "19  [0.49106279705280276, -0.1994143266757514, 0.6...           GGACC   \n",
       "20  [1.6531720821786586, 1.5288144651450055, 0.418...           GGACT   \n",
       "\n",
       "                                  middle_sequence_OHE  \n",
       "18  [0.0, 0.0, 1.0, 0.0, 0.0, 0.0, 0.0, 0.0, 0.0, ...  \n",
       "19  [0.0, 0.0, 0.0, 0.0, 0.0, 0.0, 0.0, 0.0, 0.0, ...  \n",
       "20  [0.0, 0.0, 0.0, 0.0, 0.0, 0.0, 0.0, 0.0, 0.0, ...  "
      ]
     },
     "execution_count": 11,
     "metadata": {},
     "output_type": "execute_result"
    }
   ],
   "source": [
    "train_df = one_hot_encode_DRACH(train_df)\n",
    "train_df.head(3)"
   ]
  },
  {
   "cell_type": "code",
   "execution_count": 12,
   "metadata": {},
   "outputs": [],
   "source": [
    "# Load the saved DRACH encoder to transform the test data\n",
    "encoder = load_DRACH_encoder()\n",
    "test_df = one_hot_encode_DRACH(test_df, encoder=encoder)"
   ]
  },
  {
   "cell_type": "markdown",
   "metadata": {},
   "source": [
    "### SMOTE"
   ]
  },
  {
   "cell_type": "markdown",
   "metadata": {},
   "source": [
    "Check label imbalance (FOR SMOTE)"
   ]
  },
  {
   "cell_type": "code",
   "execution_count": 30,
   "metadata": {},
   "outputs": [
    {
     "data": {
      "text/plain": [
       "0.04520309457830705"
      ]
     },
     "execution_count": 30,
     "metadata": {},
     "output_type": "execute_result"
    }
   ],
   "source": [
    "# Proportion of positive labels in the training set\n",
    "np.mean(train_df['label'])"
   ]
  },
  {
   "cell_type": "markdown",
   "metadata": {},
   "source": [
    "#### By GENE_ID"
   ]
  },
  {
   "cell_type": "code",
   "execution_count": 31,
   "metadata": {},
   "outputs": [
    {
     "name": "stdout",
     "output_type": "stream",
     "text": [
      "Number of gene_id with no postive labels:  1885\n",
      "Proportion of gene_id with no positive labels:  0.6118143459915611\n"
     ]
    }
   ],
   "source": [
    "# Proportion of positive labels by gene_id\n",
    "prop_gene = train_df.groupby('gene_id')['label'].mean()\n",
    "\n",
    "# Number of zeros\n",
    "num_zeros = len(prop_gene[prop_gene == 0])\n",
    "print('Number of gene_id with no postive labels: ', num_zeros)\n",
    "print('Proportion of gene_id with no positive labels: ', num_zeros / len(prop_gene))"
   ]
  },
  {
   "cell_type": "code",
   "execution_count": 32,
   "metadata": {},
   "outputs": [],
   "source": [
    "from imblearn.over_sampling import SMOTE\n",
    "import numpy as np\n",
    "import pandas as pd\n",
    "\n",
    "# Get the scaled mean reads and one-hot encoded middle sequence columns as dataframe\n",
    "X_resampled_list = [] \n",
    "y_resampled_list = []\n",
    "gene_id_list = []\n",
    "\n",
    "for g_id, group in train_df.groupby('gene_id'):\n",
    "    X = np.vstack(group['scaled_mean_reads'].values)\n",
    "    y = group['label'].values\n",
    "    \n",
    "    if sum(y) < 10 or sum(y - 1) < 10:  # Skip resampling if the number of positive or negative labels is less than 10\n",
    "        X_resampled_list.append(X)\n",
    "        y_resampled_list.append(y)\n",
    "        gene_id_list.extend([g_id] * len(y))  # Use g_id for the gene_id\n",
    "        continue\n",
    "\n",
    "    # Apply SMOTE to the scaled mean reads and labels\n",
    "    smote = SMOTE(random_state=4262)\n",
    "    X_resampled, y_resampled = smote.fit_resample(X, y)\n",
    "\n",
    "    # Append resampled data to lists\n",
    "    X_resampled_list.append(X_resampled)\n",
    "    y_resampled_list.append(y_resampled)\n",
    "    gene_id_list.extend([g_id] * len(y_resampled))  # Use g_id for the gene_id\n",
    "\n",
    "# Combine all resampled data into final arrays\n",
    "X_resampled_gene = np.vstack(X_resampled_list)\n",
    "y_resampled_gene = np.concatenate(y_resampled_list)\n",
    "\n",
    "# Combine into a final DataFrame if needed\n",
    "resampled_gene_df = pd.DataFrame({\n",
    "    'scaled_mean_reads': list(X_resampled_gene),\n",
    "    'gene_id': gene_id_list,\n",
    "    'label': y_resampled_gene\n",
    "})\n"
   ]
  },
  {
   "cell_type": "code",
   "execution_count": 33,
   "metadata": {},
   "outputs": [
    {
     "name": "stdout",
     "output_type": "stream",
     "text": [
      "Proportion of positive labels in the resampled data: 0.04520309457830705\n",
      "Number of gene_id with no postive labels:  1885\n",
      "Proportion of gene_id with no positive labels:  0.6118143459915611\n"
     ]
    }
   ],
   "source": [
    "# Proportion of positive labels in the resampled data\n",
    "print('Proportion of positive labels in the resampled data:', np.mean(resampled_gene_df['label']))\n",
    "\n",
    "# Proportion of positive labels by gene_id\n",
    "prop_gene = resampled_gene_df.groupby('gene_id')['label'].mean()\n",
    "\n",
    "# Number of zeros\n",
    "num_zeros = len(prop_gene[prop_gene == 0])\n",
    "print('Number of gene_id with no postive labels: ', num_zeros)\n",
    "print('Proportion of gene_id with no positive labels: ', num_zeros / len(prop_gene))"
   ]
  },
  {
   "cell_type": "markdown",
   "metadata": {},
   "source": [
    "#### By MIDDLE_SEQUENCE (DRACH)"
   ]
  },
  {
   "cell_type": "code",
   "execution_count": 34,
   "metadata": {},
   "outputs": [
    {
     "name": "stdout",
     "output_type": "stream",
     "text": [
      "Number of DRACH motifs with no postive labels:  0\n",
      "Proportion of DRACH motifs with no positive labels:  0.0\n"
     ]
    }
   ],
   "source": [
    "# Proportion of positive labels by middle_sequence\n",
    "prop_drach = train_df.groupby('middle_sequence')['label'].mean()\n",
    "\n",
    "# Number of zeros\n",
    "num_zeros = len(prop_drach[prop_drach == 0])\n",
    "print('Number of DRACH motifs with no postive labels: ', num_zeros)\n",
    "print('Proportion of DRACH motifs with no positive labels: ', num_zeros / len(prop_drach))"
   ]
  },
  {
   "cell_type": "code",
   "execution_count": null,
   "metadata": {},
   "outputs": [
    {
     "data": {
      "text/plain": [
       "middle_sequence\n",
       "TAACA       1\n",
       "TAACC       2\n",
       "AAACC      10\n",
       "AAACA      32\n",
       "AGACC      51\n",
       "TAACT      53\n",
       "TGACA      59\n",
       "TGACC      79\n",
       "GAACC      95\n",
       "AGACA     111\n",
       "GAACA     136\n",
       "AAACT     209\n",
       "TGACT     355\n",
       "GGACC     417\n",
       "AGACT     429\n",
       "GGACA     550\n",
       "GAACT     653\n",
       "GGACT    1146\n",
       "Name: label, dtype: int64"
      ]
     },
     "execution_count": 35,
     "metadata": {},
     "output_type": "execute_result"
    }
   ],
   "source": [
    "# Number of positive labels by middle_sequence\n",
    "train_df[train_df['label'] == 1].groupby('middle_sequence')['label'].count().sort_values()"
   ]
  },
  {
   "cell_type": "code",
   "execution_count": 75,
   "metadata": {},
   "outputs": [
    {
     "data": {
      "text/plain": [
       "middle_sequence\n",
       "AAACC      1\n",
       "AAACA      6\n",
       "AGACC      9\n",
       "TGACA      9\n",
       "TGACC     11\n",
       "TAACT     18\n",
       "GAACC     29\n",
       "AGACA     36\n",
       "AAACT     46\n",
       "GAACA     51\n",
       "TGACT     75\n",
       "AGACT     96\n",
       "GAACT    130\n",
       "GGACC    135\n",
       "GGACA    141\n",
       "GGACT    294\n",
       "Name: label, dtype: int64"
      ]
     },
     "execution_count": 75,
     "metadata": {},
     "output_type": "execute_result"
    }
   ],
   "source": [
    "test_df[test_df['label'] == 1].groupby('middle_sequence')['label'].count().sort_values()"
   ]
  },
  {
   "cell_type": "markdown",
   "metadata": {},
   "source": [
    "Apply SMOTE to each group of DRACH motif"
   ]
  },
  {
   "cell_type": "code",
   "execution_count": 36,
   "metadata": {},
   "outputs": [],
   "source": [
    "from imblearn.over_sampling import SMOTE\n",
    "\n",
    "# Get the scaled mean reads and one-hot encoded middle sequence columns as dataframe\n",
    "X_resampled_list = [] \n",
    "y_resampled_list = []\n",
    "middle_sequence_list = []\n",
    "\n",
    "for middle_seq, group in train_df.groupby('middle_sequence'):\n",
    "    X = np.vstack(group['scaled_mean_reads'].values)\n",
    "    y = group['label'].values\n",
    "    \n",
    "    if sum(y) < 10: # Skip if the number of positive labels is less than 10\n",
    "        X_resampled_list.append(X)\n",
    "        y_resampled_list.append(y)\n",
    "        middle_sequence_list.extend([middle_seq] * len(y))\n",
    "        continue\n",
    "\n",
    "    # Apply SMOTE to the scaled mean reads and labels\n",
    "    smote = SMOTE(random_state=4262)\n",
    "    X_resampled, y_resampled = smote.fit_resample(X, y)\n",
    "\n",
    "    # Append resampled data and one-hot encoding to lists\n",
    "    X_resampled_list.append(X_resampled)\n",
    "    y_resampled_list.append(y_resampled)\n",
    "    middle_sequence_list.extend([middle_seq] * len(y_resampled))\n",
    "\n",
    "# Combine all resampled data into final arrays\n",
    "X_resampled = np.vstack(X_resampled_list)\n",
    "y_resampled = np.concatenate(y_resampled_list)\n",
    "\n",
    "# Combine into a final DataFrame if needed\n",
    "resampled_drach_df = pd.DataFrame({\n",
    "    'scaled_mean_reads': list(X_resampled),\n",
    "    'middle_sequence': middle_sequence_list,\n",
    "    'label': y_resampled\n",
    "})"
   ]
  },
  {
   "cell_type": "code",
   "execution_count": 37,
   "metadata": {},
   "outputs": [
    {
     "name": "stdout",
     "output_type": "stream",
     "text": [
      "Proportion of positive labels in the resampled data:  0.483202765619337\n"
     ]
    },
    {
     "data": {
      "text/plain": [
       "middle_sequence\n",
       "AAACA    0.500000\n",
       "AAACC    0.500000\n",
       "AAACT    0.500000\n",
       "AGACA    0.500000\n",
       "AGACC    0.500000\n",
       "AGACT    0.500000\n",
       "GAACA    0.500000\n",
       "GAACC    0.500000\n",
       "GAACT    0.500000\n",
       "GGACA    0.500000\n",
       "GGACC    0.500000\n",
       "GGACT    0.500000\n",
       "TAACA    0.000271\n",
       "TAACC    0.000856\n",
       "TAACT    0.500000\n",
       "TGACA    0.500000\n",
       "TGACC    0.500000\n",
       "TGACT    0.500000\n",
       "Name: label, dtype: float64"
      ]
     },
     "execution_count": 37,
     "metadata": {},
     "output_type": "execute_result"
    }
   ],
   "source": [
    "# Proportion of positive labels in the resampled data\n",
    "print('Proportion of positive labels in the resampled data: ', np.mean(resampled_drach_df['label']))\n",
    "\n",
    "# Proportion of positive labels by middle_sequence\n",
    "prop_drach_resampled = resampled_drach_df.groupby('middle_sequence')['label'].mean()\n",
    "prop_drach_resampled"
   ]
  },
  {
   "cell_type": "markdown",
   "metadata": {},
   "source": [
    "One hot encode DRACH motifs"
   ]
  },
  {
   "cell_type": "code",
   "execution_count": 40,
   "metadata": {},
   "outputs": [
    {
     "data": {
      "text/html": [
       "<div>\n",
       "<style scoped>\n",
       "    .dataframe tbody tr th:only-of-type {\n",
       "        vertical-align: middle;\n",
       "    }\n",
       "\n",
       "    .dataframe tbody tr th {\n",
       "        vertical-align: top;\n",
       "    }\n",
       "\n",
       "    .dataframe thead th {\n",
       "        text-align: right;\n",
       "    }\n",
       "</style>\n",
       "<table border=\"1\" class=\"dataframe\">\n",
       "  <thead>\n",
       "    <tr style=\"text-align: right;\">\n",
       "      <th></th>\n",
       "      <th>scaled_mean_reads</th>\n",
       "      <th>middle_sequence</th>\n",
       "      <th>label</th>\n",
       "      <th>middle_sequence_OHE</th>\n",
       "    </tr>\n",
       "  </thead>\n",
       "  <tbody>\n",
       "    <tr>\n",
       "      <th>0</th>\n",
       "      <td>[2.5249757619759317, -0.7835678231993425, -0.2...</td>\n",
       "      <td>AAACA</td>\n",
       "      <td>0</td>\n",
       "      <td>[1.0, 0.0, 0.0, 0.0, 0.0, 0.0, 0.0, 0.0, 0.0, ...</td>\n",
       "    </tr>\n",
       "    <tr>\n",
       "      <th>1</th>\n",
       "      <td>[0.6928199968356539, -1.1676038905620205, -0.7...</td>\n",
       "      <td>AAACA</td>\n",
       "      <td>0</td>\n",
       "      <td>[1.0, 0.0, 0.0, 0.0, 0.0, 0.0, 0.0, 0.0, 0.0, ...</td>\n",
       "    </tr>\n",
       "    <tr>\n",
       "      <th>2</th>\n",
       "      <td>[0.3732826597732115, -0.8372266235169966, -0.2...</td>\n",
       "      <td>AAACA</td>\n",
       "      <td>0</td>\n",
       "      <td>[1.0, 0.0, 0.0, 0.0, 0.0, 0.0, 0.0, 0.0, 0.0, ...</td>\n",
       "    </tr>\n",
       "  </tbody>\n",
       "</table>\n",
       "</div>"
      ],
      "text/plain": [
       "                                   scaled_mean_reads middle_sequence  label  \\\n",
       "0  [2.5249757619759317, -0.7835678231993425, -0.2...           AAACA      0   \n",
       "1  [0.6928199968356539, -1.1676038905620205, -0.7...           AAACA      0   \n",
       "2  [0.3732826597732115, -0.8372266235169966, -0.2...           AAACA      0   \n",
       "\n",
       "                                 middle_sequence_OHE  \n",
       "0  [1.0, 0.0, 0.0, 0.0, 0.0, 0.0, 0.0, 0.0, 0.0, ...  \n",
       "1  [1.0, 0.0, 0.0, 0.0, 0.0, 0.0, 0.0, 0.0, 0.0, ...  \n",
       "2  [1.0, 0.0, 0.0, 0.0, 0.0, 0.0, 0.0, 0.0, 0.0, ...  "
      ]
     },
     "execution_count": 40,
     "metadata": {},
     "output_type": "execute_result"
    }
   ],
   "source": [
    "resampled_drach_df = one_hot_encode_DRACH(resampled_drach_df, encoder)\n",
    "resampled_drach_df.head(3)"
   ]
  },
  {
   "cell_type": "markdown",
   "metadata": {},
   "source": [
    "### Prepare data for model input"
   ]
  },
  {
   "cell_type": "code",
   "execution_count": 63,
   "metadata": {},
   "outputs": [],
   "source": [
    "# SMOTE by middle_sequence\n",
    "X_resampled_drach = prepare_for_model(resampled_drach_df)\n",
    "y_resampled_drach = resampled_drach_df['label'].values\n",
    "\n",
    "# Without SMOTE\n",
    "X_train = prepare_for_model(train_df)\n",
    "y_train = train_df['label'].values\n",
    "\n",
    "# Prepare test data\n",
    "X_test = prepare_for_model(test_df)\n",
    "y_test = test_df['label'].values"
   ]
  },
  {
   "cell_type": "code",
   "execution_count": 68,
   "metadata": {},
   "outputs": [
    {
     "name": "stdout",
     "output_type": "stream",
     "text": [
      "X_resampled_drach shape: (179345, 27)\n",
      "y_resampled_drach shape: (179345,)\n",
      "X_train shape: (97073, 27)\n",
      "y_train shape: (97073,)\n",
      "X_test shape: (24765, 27)\n",
      "y_test shape: (24765,)\n"
     ]
    }
   ],
   "source": [
    "# print the shapes\n",
    "print('X_resampled_drach shape:', X_resampled_drach.shape)\n",
    "print('y_resampled_drach shape:', y_resampled_drach.shape)\n",
    "print('X_train shape:', X_train.shape)\n",
    "print('y_train shape:', y_train.shape)\n",
    "print('X_test shape:', X_test.shape)\n",
    "print('y_test shape:', y_test.shape)"
   ]
  },
  {
   "cell_type": "markdown",
   "metadata": {},
   "source": [
    "### NN model"
   ]
  },
  {
   "cell_type": "code",
   "execution_count": 49,
   "metadata": {},
   "outputs": [],
   "source": [
    "from tensorflow.keras.models import Sequential\n",
    "from tensorflow.keras.layers import Input, Dense, Dropout\n",
    "from tensorflow.keras.callbacks import ModelCheckpoint\n",
    "from tensorflow.keras.metrics import AUC\n",
    "\n",
    "def build_model(input_shape):\n",
    "    \"\"\"\n",
    "    Define and compile neural network model.\n",
    "    \"\"\"\n",
    "    model = Sequential([\n",
    "        Input(shape=(input_shape,)),\n",
    "        Dense(150, activation='relu'),\n",
    "        Dropout(0.2),  # Dropout layer for regularization\n",
    "        Dense(32, activation='relu'),\n",
    "        Dropout(0.2),  # Another dropout layer\n",
    "        Dense(1, activation='sigmoid')\n",
    "    ])\n",
    "    # Keep track of AUC-PR and AUC-ROC during training\n",
    "    model.compile(\n",
    "        optimizer='adam',\n",
    "        loss='binary_crossentropy',\n",
    "        metrics=[\n",
    "            AUC(curve='PR', name='auc_pr'),  # AUC-PR\n",
    "            AUC(curve='ROC', name='auc_roc')  # AUC-ROC\n",
    "        ]\n",
    "    )\n",
    "    return model"
   ]
  },
  {
   "cell_type": "markdown",
   "metadata": {},
   "source": [
    "#### Train model with and without SMOTE"
   ]
  },
  {
   "cell_type": "code",
   "execution_count": 50,
   "metadata": {},
   "outputs": [],
   "source": [
    "from sklearn.model_selection import KFold\n",
    "from tensorflow.keras.callbacks import ModelCheckpoint\n",
    "\n",
    "# Set up 5-fold cross-validation\n",
    "kf = KFold(n_splits=5, shuffle=True, random_state=4262)\n",
    "best_val_auc_pr_smote = 0\n",
    "best_val_auc_pr_no_smote = 0\n",
    "best_model_path_smote = 'best_model_with_smote.keras'\n",
    "best_model_path_no_smote = 'best_model_without_smote.keras'\n",
    "\n",
    "# Set checkpoint to save the best model (based on validation AUC-PR)\n",
    "checkpoint_smote = ModelCheckpoint(\n",
    "        best_model_path_smote,\n",
    "        save_best_only=True,\n",
    "        monitor='val_auc_pr',\n",
    "        mode='max'\n",
    "    )\n",
    "\n",
    "checkpoint_no_smote = ModelCheckpoint(\n",
    "        best_model_path_no_smote,\n",
    "        save_best_only=True,\n",
    "        monitor='val_auc_pr',\n",
    "        mode='max'\n",
    "    )"
   ]
  },
  {
   "cell_type": "markdown",
   "metadata": {},
   "source": [
    "SMOTE model"
   ]
  },
  {
   "cell_type": "code",
   "execution_count": 69,
   "metadata": {},
   "outputs": [
    {
     "name": "stdout",
     "output_type": "stream",
     "text": [
      "Training fold 1 with SMOTE\n",
      "Epoch 1/5\n",
      "\u001b[1m4484/4484\u001b[0m \u001b[32m━━━━━━━━━━━━━━━━━━━━\u001b[0m\u001b[37m\u001b[0m \u001b[1m11s\u001b[0m 2ms/step - auc_pr: 0.7265 - auc_roc: 0.7499 - loss: 0.5798 - val_auc_pr: 0.8480 - val_auc_roc: 0.8624 - val_loss: 0.4625\n",
      "Epoch 2/5\n",
      "\u001b[1m4484/4484\u001b[0m \u001b[32m━━━━━━━━━━━━━━━━━━━━\u001b[0m\u001b[37m\u001b[0m \u001b[1m9s\u001b[0m 2ms/step - auc_pr: 0.8422 - auc_roc: 0.8565 - loss: 0.4675 - val_auc_pr: 0.8802 - val_auc_roc: 0.8922 - val_loss: 0.4161\n",
      "Epoch 3/5\n",
      "\u001b[1m4484/4484\u001b[0m \u001b[32m━━━━━━━━━━━━━━━━━━━━\u001b[0m\u001b[37m\u001b[0m \u001b[1m9s\u001b[0m 2ms/step - auc_pr: 0.8672 - auc_roc: 0.8820 - loss: 0.4284 - val_auc_pr: 0.8922 - val_auc_roc: 0.9059 - val_loss: 0.3912\n",
      "Epoch 4/5\n",
      "\u001b[1m4484/4484\u001b[0m \u001b[32m━━━━━━━━━━━━━━━━━━━━\u001b[0m\u001b[37m\u001b[0m \u001b[1m9s\u001b[0m 2ms/step - auc_pr: 0.8800 - auc_roc: 0.8939 - loss: 0.4080 - val_auc_pr: 0.9040 - val_auc_roc: 0.9129 - val_loss: 0.3751\n",
      "Epoch 5/5\n",
      "\u001b[1m4484/4484\u001b[0m \u001b[32m━━━━━━━━━━━━━━━━━━━━\u001b[0m\u001b[37m\u001b[0m \u001b[1m11s\u001b[0m 3ms/step - auc_pr: 0.8890 - auc_roc: 0.9034 - loss: 0.3908 - val_auc_pr: 0.9105 - val_auc_roc: 0.9244 - val_loss: 0.3506\n",
      "Training fold 2 with SMOTE\n",
      "Epoch 1/5\n",
      "\u001b[1m4484/4484\u001b[0m \u001b[32m━━━━━━━━━━━━━━━━━━━━\u001b[0m\u001b[37m\u001b[0m \u001b[1m10s\u001b[0m 2ms/step - auc_pr: 0.7334 - auc_roc: 0.7551 - loss: 0.5757 - val_auc_pr: 0.8489 - val_auc_roc: 0.8598 - val_loss: 0.4627\n",
      "Epoch 2/5\n",
      "\u001b[1m4484/4484\u001b[0m \u001b[32m━━━━━━━━━━━━━━━━━━━━\u001b[0m\u001b[37m\u001b[0m \u001b[1m9s\u001b[0m 2ms/step - auc_pr: 0.8432 - auc_roc: 0.8576 - loss: 0.4658 - val_auc_pr: 0.8810 - val_auc_roc: 0.8927 - val_loss: 0.4181\n",
      "Epoch 3/5\n",
      "\u001b[1m4484/4484\u001b[0m \u001b[32m━━━━━━━━━━━━━━━━━━━━\u001b[0m\u001b[37m\u001b[0m \u001b[1m10s\u001b[0m 2ms/step - auc_pr: 0.8670 - auc_roc: 0.8807 - loss: 0.4305 - val_auc_pr: 0.8968 - val_auc_roc: 0.9081 - val_loss: 0.3866\n",
      "Epoch 4/5\n",
      "\u001b[1m4484/4484\u001b[0m \u001b[32m━━━━━━━━━━━━━━━━━━━━\u001b[0m\u001b[37m\u001b[0m \u001b[1m9s\u001b[0m 2ms/step - auc_pr: 0.8791 - auc_roc: 0.8932 - loss: 0.4096 - val_auc_pr: 0.9078 - val_auc_roc: 0.9187 - val_loss: 0.3651\n",
      "Epoch 5/5\n",
      "\u001b[1m4484/4484\u001b[0m \u001b[32m━━━━━━━━━━━━━━━━━━━━\u001b[0m\u001b[37m\u001b[0m \u001b[1m10s\u001b[0m 2ms/step - auc_pr: 0.8879 - auc_roc: 0.9010 - loss: 0.3952 - val_auc_pr: 0.9152 - val_auc_roc: 0.9263 - val_loss: 0.3494\n",
      "Training fold 3 with SMOTE\n",
      "Epoch 1/5\n",
      "\u001b[1m4484/4484\u001b[0m \u001b[32m━━━━━━━━━━━━━━━━━━━━\u001b[0m\u001b[37m\u001b[0m \u001b[1m11s\u001b[0m 2ms/step - auc_pr: 0.7311 - auc_roc: 0.7532 - loss: 0.5778 - val_auc_pr: 0.8475 - val_auc_roc: 0.8635 - val_loss: 0.4602\n",
      "Epoch 2/5\n",
      "\u001b[1m4484/4484\u001b[0m \u001b[32m━━━━━━━━━━━━━━━━━━━━\u001b[0m\u001b[37m\u001b[0m \u001b[1m9s\u001b[0m 2ms/step - auc_pr: 0.8439 - auc_roc: 0.8586 - loss: 0.4662 - val_auc_pr: 0.8795 - val_auc_roc: 0.8950 - val_loss: 0.4100\n",
      "Epoch 3/5\n",
      "\u001b[1m4484/4484\u001b[0m \u001b[32m━━━━━━━━━━━━━━━━━━━━\u001b[0m\u001b[37m\u001b[0m \u001b[1m9s\u001b[0m 2ms/step - auc_pr: 0.8674 - auc_roc: 0.8816 - loss: 0.4296 - val_auc_pr: 0.8921 - val_auc_roc: 0.9086 - val_loss: 0.3821\n",
      "Epoch 4/5\n",
      "\u001b[1m4484/4484\u001b[0m \u001b[32m━━━━━━━━━━━━━━━━━━━━\u001b[0m\u001b[37m\u001b[0m \u001b[1m9s\u001b[0m 2ms/step - auc_pr: 0.8781 - auc_roc: 0.8929 - loss: 0.4100 - val_auc_pr: 0.9042 - val_auc_roc: 0.9191 - val_loss: 0.3657\n",
      "Epoch 5/5\n",
      "\u001b[1m4484/4484\u001b[0m \u001b[32m━━━━━━━━━━━━━━━━━━━━\u001b[0m\u001b[37m\u001b[0m \u001b[1m9s\u001b[0m 2ms/step - auc_pr: 0.8875 - auc_roc: 0.9009 - loss: 0.3949 - val_auc_pr: 0.9112 - val_auc_roc: 0.9248 - val_loss: 0.3517\n",
      "Training fold 4 with SMOTE\n",
      "Epoch 1/5\n",
      "\u001b[1m4484/4484\u001b[0m \u001b[32m━━━━━━━━━━━━━━━━━━━━\u001b[0m\u001b[37m\u001b[0m \u001b[1m12s\u001b[0m 2ms/step - auc_pr: 0.7282 - auc_roc: 0.7522 - loss: 0.5777 - val_auc_pr: 0.8511 - val_auc_roc: 0.8666 - val_loss: 0.4569\n",
      "Epoch 2/5\n",
      "\u001b[1m4484/4484\u001b[0m \u001b[32m━━━━━━━━━━━━━━━━━━━━\u001b[0m\u001b[37m\u001b[0m \u001b[1m10s\u001b[0m 2ms/step - auc_pr: 0.8442 - auc_roc: 0.8590 - loss: 0.4642 - val_auc_pr: 0.8773 - val_auc_roc: 0.8934 - val_loss: 0.4106\n",
      "Epoch 3/5\n",
      "\u001b[1m4484/4484\u001b[0m \u001b[32m━━━━━━━━━━━━━━━━━━━━\u001b[0m\u001b[37m\u001b[0m \u001b[1m10s\u001b[0m 2ms/step - auc_pr: 0.8695 - auc_roc: 0.8816 - loss: 0.4288 - val_auc_pr: 0.8938 - val_auc_roc: 0.9081 - val_loss: 0.3881\n",
      "Epoch 4/5\n",
      "\u001b[1m4484/4484\u001b[0m \u001b[32m━━━━━━━━━━━━━━━━━━━━\u001b[0m\u001b[37m\u001b[0m \u001b[1m10s\u001b[0m 2ms/step - auc_pr: 0.8800 - auc_roc: 0.8936 - loss: 0.4080 - val_auc_pr: 0.9061 - val_auc_roc: 0.9202 - val_loss: 0.3632\n",
      "Epoch 5/5\n",
      "\u001b[1m4484/4484\u001b[0m \u001b[32m━━━━━━━━━━━━━━━━━━━━\u001b[0m\u001b[37m\u001b[0m \u001b[1m10s\u001b[0m 2ms/step - auc_pr: 0.8894 - auc_roc: 0.9030 - loss: 0.3905 - val_auc_pr: 0.9125 - val_auc_roc: 0.9253 - val_loss: 0.3508\n",
      "Training fold 5 with SMOTE\n",
      "Epoch 1/5\n",
      "\u001b[1m4484/4484\u001b[0m \u001b[32m━━━━━━━━━━━━━━━━━━━━\u001b[0m\u001b[37m\u001b[0m \u001b[1m11s\u001b[0m 2ms/step - auc_pr: 0.7198 - auc_roc: 0.7479 - loss: 0.5810 - val_auc_pr: 0.8567 - val_auc_roc: 0.8719 - val_loss: 0.4563\n",
      "Epoch 2/5\n",
      "\u001b[1m4484/4484\u001b[0m \u001b[32m━━━━━━━━━━━━━━━━━━━━\u001b[0m\u001b[37m\u001b[0m \u001b[1m10s\u001b[0m 2ms/step - auc_pr: 0.8402 - auc_roc: 0.8585 - loss: 0.4649 - val_auc_pr: 0.8826 - val_auc_roc: 0.8965 - val_loss: 0.4090\n",
      "Epoch 3/5\n",
      "\u001b[1m4484/4484\u001b[0m \u001b[32m━━━━━━━━━━━━━━━━━━━━\u001b[0m\u001b[37m\u001b[0m \u001b[1m10s\u001b[0m 2ms/step - auc_pr: 0.8584 - auc_roc: 0.8776 - loss: 0.4355 - val_auc_pr: 0.8965 - val_auc_roc: 0.9100 - val_loss: 0.3882\n",
      "Epoch 4/5\n",
      "\u001b[1m4484/4484\u001b[0m \u001b[32m━━━━━━━━━━━━━━━━━━━━\u001b[0m\u001b[37m\u001b[0m \u001b[1m10s\u001b[0m 2ms/step - auc_pr: 0.8737 - auc_roc: 0.8907 - loss: 0.4132 - val_auc_pr: 0.9040 - val_auc_roc: 0.9176 - val_loss: 0.3669\n",
      "Epoch 5/5\n",
      "\u001b[1m4484/4484\u001b[0m \u001b[32m━━━━━━━━━━━━━━━━━━━━\u001b[0m\u001b[37m\u001b[0m \u001b[1m10s\u001b[0m 2ms/step - auc_pr: 0.8838 - auc_roc: 0.9004 - loss: 0.3956 - val_auc_pr: 0.9143 - val_auc_roc: 0.9273 - val_loss: 0.3512\n"
     ]
    }
   ],
   "source": [
    "# Cross-validation with SMOTE\n",
    "for fold, (train_idx, val_idx) in enumerate(kf.split(X_resampled_drach)):\n",
    "    print(f\"Training fold {fold + 1} with SMOTE\")\n",
    "\n",
    "    # Split the data with SMOTE for this fold\n",
    "    X_train_smote, X_val_smote = X_resampled_drach[train_idx].copy(), X_resampled_drach[val_idx].copy()\n",
    "    y_train_smote, y_val_smote = y_resampled_drach[train_idx].copy(), y_resampled_drach[val_idx].copy()\n",
    "\n",
    "    # Initialize and compile the model\n",
    "    model_smote = build_model(X_train_smote.shape[1])\n",
    "\n",
    "    # Train the model on this fold with SMOTE data\n",
    "    history_smote = model_smote.fit(\n",
    "        X_train_smote, y_train_smote,\n",
    "        epochs=5,\n",
    "        batch_size=32,\n",
    "        validation_data=(X_val_smote, y_val_smote),\n",
    "        callbacks=[checkpoint_smote]\n",
    "    )\n",
    "\n",
    "    # Track the best validation AUC-PR across folds with SMOTE\n",
    "    fold_best_auc_pr_smote = max(history_smote.history['val_auc_pr'])\n",
    "    if fold_best_auc_pr_smote > best_val_auc_pr_smote:\n",
    "        best_val_auc_pr_smote = fold_best_auc_pr_smote"
   ]
  },
  {
   "cell_type": "markdown",
   "metadata": {},
   "source": [
    "No SMOTE Model"
   ]
  },
  {
   "cell_type": "code",
   "execution_count": 52,
   "metadata": {},
   "outputs": [
    {
     "name": "stdout",
     "output_type": "stream",
     "text": [
      "Training fold 1 without SMOTE\n",
      "Epoch 1/5\n",
      "\u001b[1m2427/2427\u001b[0m \u001b[32m━━━━━━━━━━━━━━━━━━━━\u001b[0m\u001b[37m\u001b[0m \u001b[1m6s\u001b[0m 2ms/step - auc_pr: 0.1864 - auc_roc: 0.7835 - loss: 0.1675 - val_auc_pr: 0.3838 - val_auc_roc: 0.8717 - val_loss: 0.1318\n",
      "Epoch 2/5\n",
      "\u001b[1m2427/2427\u001b[0m \u001b[32m━━━━━━━━━━━━━━━━━━━━\u001b[0m\u001b[37m\u001b[0m \u001b[1m5s\u001b[0m 2ms/step - auc_pr: 0.3674 - auc_roc: 0.8603 - loss: 0.1317 - val_auc_pr: 0.4032 - val_auc_roc: 0.8769 - val_loss: 0.1284\n",
      "Epoch 3/5\n",
      "\u001b[1m2427/2427\u001b[0m \u001b[32m━━━━━━━━━━━━━━━━━━━━\u001b[0m\u001b[37m\u001b[0m \u001b[1m5s\u001b[0m 2ms/step - auc_pr: 0.4045 - auc_roc: 0.8737 - loss: 0.1288 - val_auc_pr: 0.4157 - val_auc_roc: 0.8763 - val_loss: 0.1271\n",
      "Epoch 4/5\n",
      "\u001b[1m2427/2427\u001b[0m \u001b[32m━━━━━━━━━━━━━━━━━━━━\u001b[0m\u001b[37m\u001b[0m \u001b[1m5s\u001b[0m 2ms/step - auc_pr: 0.4038 - auc_roc: 0.8688 - loss: 0.1294 - val_auc_pr: 0.4259 - val_auc_roc: 0.8803 - val_loss: 0.1246\n",
      "Epoch 5/5\n",
      "\u001b[1m2427/2427\u001b[0m \u001b[32m━━━━━━━━━━━━━━━━━━━━\u001b[0m\u001b[37m\u001b[0m \u001b[1m5s\u001b[0m 2ms/step - auc_pr: 0.4236 - auc_roc: 0.8805 - loss: 0.1265 - val_auc_pr: 0.4343 - val_auc_roc: 0.8835 - val_loss: 0.1236\n",
      "Training fold 2 without SMOTE\n",
      "Epoch 1/5\n",
      "\u001b[1m2427/2427\u001b[0m \u001b[32m━━━━━━━━━━━━━━━━━━━━\u001b[0m\u001b[37m\u001b[0m \u001b[1m6s\u001b[0m 2ms/step - auc_pr: 0.1528 - auc_roc: 0.7667 - loss: 0.1816 - val_auc_pr: 0.3758 - val_auc_roc: 0.8640 - val_loss: 0.1336\n",
      "Epoch 2/5\n",
      "\u001b[1m2427/2427\u001b[0m \u001b[32m━━━━━━━━━━━━━━━━━━━━\u001b[0m\u001b[37m\u001b[0m \u001b[1m5s\u001b[0m 2ms/step - auc_pr: 0.3835 - auc_roc: 0.8643 - loss: 0.1329 - val_auc_pr: 0.4003 - val_auc_roc: 0.8725 - val_loss: 0.1299\n",
      "Epoch 3/5\n",
      "\u001b[1m2427/2427\u001b[0m \u001b[32m━━━━━━━━━━━━━━━━━━━━\u001b[0m\u001b[37m\u001b[0m \u001b[1m5s\u001b[0m 2ms/step - auc_pr: 0.4035 - auc_roc: 0.8697 - loss: 0.1302 - val_auc_pr: 0.4104 - val_auc_roc: 0.8743 - val_loss: 0.1294\n",
      "Epoch 4/5\n",
      "\u001b[1m2427/2427\u001b[0m \u001b[32m━━━━━━━━━━━━━━━━━━━━\u001b[0m\u001b[37m\u001b[0m \u001b[1m5s\u001b[0m 2ms/step - auc_pr: 0.3860 - auc_roc: 0.8652 - loss: 0.1306 - val_auc_pr: 0.4032 - val_auc_roc: 0.8681 - val_loss: 0.1319\n",
      "Epoch 5/5\n",
      "\u001b[1m2427/2427\u001b[0m \u001b[32m━━━━━━━━━━━━━━━━━━━━\u001b[0m\u001b[37m\u001b[0m \u001b[1m5s\u001b[0m 2ms/step - auc_pr: 0.4051 - auc_roc: 0.8763 - loss: 0.1267 - val_auc_pr: 0.4227 - val_auc_roc: 0.8771 - val_loss: 0.1276\n",
      "Training fold 3 without SMOTE\n",
      "Epoch 1/5\n",
      "\u001b[1m2427/2427\u001b[0m \u001b[32m━━━━━━━━━━━━━━━━━━━━\u001b[0m\u001b[37m\u001b[0m \u001b[1m6s\u001b[0m 2ms/step - auc_pr: 0.1463 - auc_roc: 0.7649 - loss: 0.1834 - val_auc_pr: 0.3619 - val_auc_roc: 0.8717 - val_loss: 0.1274\n",
      "Epoch 2/5\n",
      "\u001b[1m2427/2427\u001b[0m \u001b[32m━━━━━━━━━━━━━━━━━━━━\u001b[0m\u001b[37m\u001b[0m \u001b[1m5s\u001b[0m 2ms/step - auc_pr: 0.3629 - auc_roc: 0.8520 - loss: 0.1352 - val_auc_pr: 0.3874 - val_auc_roc: 0.8769 - val_loss: 0.1248\n",
      "Epoch 3/5\n",
      "\u001b[1m2427/2427\u001b[0m \u001b[32m━━━━━━━━━━━━━━━━━━━━\u001b[0m\u001b[37m\u001b[0m \u001b[1m5s\u001b[0m 2ms/step - auc_pr: 0.3963 - auc_roc: 0.8655 - loss: 0.1330 - val_auc_pr: 0.4084 - val_auc_roc: 0.8780 - val_loss: 0.1237\n",
      "Epoch 4/5\n",
      "\u001b[1m2427/2427\u001b[0m \u001b[32m━━━━━━━━━━━━━━━━━━━━\u001b[0m\u001b[37m\u001b[0m \u001b[1m5s\u001b[0m 2ms/step - auc_pr: 0.3940 - auc_roc: 0.8699 - loss: 0.1305 - val_auc_pr: 0.4169 - val_auc_roc: 0.8775 - val_loss: 0.1225\n",
      "Epoch 5/5\n",
      "\u001b[1m2427/2427\u001b[0m \u001b[32m━━━━━━━━━━━━━━━━━━━━\u001b[0m\u001b[37m\u001b[0m \u001b[1m5s\u001b[0m 2ms/step - auc_pr: 0.4075 - auc_roc: 0.8730 - loss: 0.1275 - val_auc_pr: 0.4207 - val_auc_roc: 0.8857 - val_loss: 0.1204\n",
      "Training fold 4 without SMOTE\n",
      "Epoch 1/5\n",
      "\u001b[1m2427/2427\u001b[0m \u001b[32m━━━━━━━━━━━━━━━━━━━━\u001b[0m\u001b[37m\u001b[0m \u001b[1m6s\u001b[0m 2ms/step - auc_pr: 0.1832 - auc_roc: 0.7729 - loss: 0.1695 - val_auc_pr: 0.3667 - val_auc_roc: 0.8741 - val_loss: 0.1279\n",
      "Epoch 2/5\n",
      "\u001b[1m2427/2427\u001b[0m \u001b[32m━━━━━━━━━━━━━━━━━━━━\u001b[0m\u001b[37m\u001b[0m \u001b[1m5s\u001b[0m 2ms/step - auc_pr: 0.3613 - auc_roc: 0.8584 - loss: 0.1321 - val_auc_pr: 0.3798 - val_auc_roc: 0.8792 - val_loss: 0.1255\n",
      "Epoch 3/5\n",
      "\u001b[1m2427/2427\u001b[0m \u001b[32m━━━━━━━━━━━━━━━━━━━━\u001b[0m\u001b[37m\u001b[0m \u001b[1m5s\u001b[0m 2ms/step - auc_pr: 0.3930 - auc_roc: 0.8681 - loss: 0.1310 - val_auc_pr: 0.3888 - val_auc_roc: 0.8876 - val_loss: 0.1234\n",
      "Epoch 4/5\n",
      "\u001b[1m2427/2427\u001b[0m \u001b[32m━━━━━━━━━━━━━━━━━━━━\u001b[0m\u001b[37m\u001b[0m \u001b[1m5s\u001b[0m 2ms/step - auc_pr: 0.4127 - auc_roc: 0.8684 - loss: 0.1306 - val_auc_pr: 0.3870 - val_auc_roc: 0.8870 - val_loss: 0.1254\n",
      "Epoch 5/5\n",
      "\u001b[1m2427/2427\u001b[0m \u001b[32m━━━━━━━━━━━━━━━━━━━━\u001b[0m\u001b[37m\u001b[0m \u001b[1m5s\u001b[0m 2ms/step - auc_pr: 0.4184 - auc_roc: 0.8743 - loss: 0.1282 - val_auc_pr: 0.3958 - val_auc_roc: 0.8897 - val_loss: 0.1225\n",
      "Training fold 5 without SMOTE\n",
      "Epoch 1/5\n",
      "\u001b[1m2427/2427\u001b[0m \u001b[32m━━━━━━━━━━━━━━━━━━━━\u001b[0m\u001b[37m\u001b[0m \u001b[1m6s\u001b[0m 2ms/step - auc_pr: 0.1851 - auc_roc: 0.7881 - loss: 0.1590 - val_auc_pr: 0.3965 - val_auc_roc: 0.8698 - val_loss: 0.1369\n",
      "Epoch 2/5\n",
      "\u001b[1m2427/2427\u001b[0m \u001b[32m━━━━━━━━━━━━━━━━━━━━\u001b[0m\u001b[37m\u001b[0m \u001b[1m5s\u001b[0m 2ms/step - auc_pr: 0.3587 - auc_roc: 0.8603 - loss: 0.1328 - val_auc_pr: 0.4233 - val_auc_roc: 0.8757 - val_loss: 0.1327\n",
      "Epoch 3/5\n",
      "\u001b[1m2427/2427\u001b[0m \u001b[32m━━━━━━━━━━━━━━━━━━━━\u001b[0m\u001b[37m\u001b[0m \u001b[1m5s\u001b[0m 2ms/step - auc_pr: 0.3918 - auc_roc: 0.8678 - loss: 0.1276 - val_auc_pr: 0.4223 - val_auc_roc: 0.8783 - val_loss: 0.1348\n",
      "Epoch 4/5\n",
      "\u001b[1m2427/2427\u001b[0m \u001b[32m━━━━━━━━━━━━━━━━━━━━\u001b[0m\u001b[37m\u001b[0m \u001b[1m5s\u001b[0m 2ms/step - auc_pr: 0.4140 - auc_roc: 0.8762 - loss: 0.1280 - val_auc_pr: 0.4355 - val_auc_roc: 0.8838 - val_loss: 0.1304\n",
      "Epoch 5/5\n",
      "\u001b[1m2427/2427\u001b[0m \u001b[32m━━━━━━━━━━━━━━━━━━━━\u001b[0m\u001b[37m\u001b[0m \u001b[1m5s\u001b[0m 2ms/step - auc_pr: 0.4013 - auc_roc: 0.8773 - loss: 0.1253 - val_auc_pr: 0.4357 - val_auc_roc: 0.8855 - val_loss: 0.1294\n"
     ]
    }
   ],
   "source": [
    "# Cross-validation without SMOTE\n",
    "for fold, (train_idx, val_idx) in enumerate(kf.split(X_train)):\n",
    "    print(f\"Training fold {fold + 1} without SMOTE\")\n",
    "\n",
    "    # Split the data without SMOTE for this fold\n",
    "    X_train_no_smote, X_val_no_smote = X_train[train_idx].copy(), X_train[val_idx].copy()\n",
    "    y_train_no_smote, y_val_no_smote = y_train[train_idx].copy(), y_train[val_idx].copy()\n",
    "\n",
    "    # Initialize and compile the model\n",
    "    model_no_smote = build_model(X_train_no_smote.shape[1])\n",
    "\n",
    "    # Train the model on this fold without SMOTE data\n",
    "    history_no_smote = model_no_smote.fit(\n",
    "        X_train_no_smote, y_train_no_smote,\n",
    "        epochs=5,\n",
    "        batch_size=32,\n",
    "        validation_data=(X_val_no_smote, y_val_no_smote),\n",
    "        callbacks=[checkpoint_no_smote]\n",
    "    )\n",
    "\n",
    "    # Track the best validation AUC-PR across folds without SMOTE\n",
    "    fold_best_auc_pr_no_smote = max(history_no_smote.history['val_auc_pr'])\n",
    "    if fold_best_auc_pr_no_smote > best_val_auc_pr_no_smote:\n",
    "        best_val_auc_pr_no_smote = fold_best_auc_pr_no_smote"
   ]
  },
  {
   "cell_type": "markdown",
   "metadata": {},
   "source": [
    "Get the metrics"
   ]
  },
  {
   "cell_type": "code",
   "execution_count": 71,
   "metadata": {},
   "outputs": [
    {
     "name": "stdout",
     "output_type": "stream",
     "text": [
      "\u001b[1m774/774\u001b[0m \u001b[32m━━━━━━━━━━━━━━━━━━━━\u001b[0m\u001b[37m\u001b[0m \u001b[1m1s\u001b[0m 1ms/step\n",
      "\u001b[1m774/774\u001b[0m \u001b[32m━━━━━━━━━━━━━━━━━━━━\u001b[0m\u001b[37m\u001b[0m \u001b[1m1s\u001b[0m 1ms/step\n",
      "\u001b[1m774/774\u001b[0m \u001b[32m━━━━━━━━━━━━━━━━━━━━\u001b[0m\u001b[37m\u001b[0m \u001b[1m1s\u001b[0m 1ms/step\n",
      "\u001b[1m774/774\u001b[0m \u001b[32m━━━━━━━━━━━━━━━━━━━━\u001b[0m\u001b[37m\u001b[0m \u001b[1m1s\u001b[0m 1ms/step\n",
      "Metrics Comparison on Test Data:\n",
      "\n",
      "With SMOTE:\n",
      "AUC-ROC: 0.8528\n",
      "AUC-PR: 0.3382\n",
      "Accuracy: 0.9577\n",
      "Average Precision Score: 0.3389\n",
      "\n",
      "Without SMOTE:\n",
      "AUC-ROC: 0.8908\n",
      "AUC-PR: 0.4596\n",
      "Accuracy: 0.9561\n",
      "Average Precision Score: 0.4601\n"
     ]
    }
   ],
   "source": [
    "from sklearn.metrics import roc_auc_score, accuracy_score, precision_recall_curve, auc, average_precision_score\n",
    "from tensorflow.keras.models import load_model\n",
    "\n",
    "# Load the best model for both SMOTE and no-SMOTE versions\n",
    "best_model_smote = load_model(best_model_path_smote)\n",
    "best_model_no_smote = load_model(best_model_path_no_smote)\n",
    "\n",
    "# Generate predictions and probabilities for both models on the test data\n",
    "threshold = 0.9 # Threshold for binary predictions\n",
    "\n",
    "y_pred_smote = (best_model_smote.predict(X_test) > threshold).astype(\"int32\").flatten()  # Binary predictions\n",
    "y_proba_smote = best_model_smote.predict(X_test).flatten()  # Probabilities\n",
    "\n",
    "y_pred_no_smote = (best_model_no_smote.predict(X_test) > threshold).astype(\"int32\").flatten()  # Binary predictions\n",
    "y_proba_no_smote = best_model_no_smote.predict(X_test).flatten()  # Probabilities\n",
    "\n",
    "# Calculate metrics for SMOTE model\n",
    "precision, recall, thresholds = precision_recall_curve(y_test, y_proba_smote)\n",
    "roc_auc_smote = roc_auc_score(y_test, y_proba_smote)\n",
    "pr_auc_smote = auc(recall, precision)\n",
    "accuracy_smote = accuracy_score(y_test, y_pred_smote)\n",
    "average_precision_smote = average_precision_score(y_test, y_proba_smote)\n",
    "\n",
    "# Calculate metrics for No-SMOTE model\n",
    "precision, recall, thresholds = precision_recall_curve(y_test, y_proba_no_smote)\n",
    "roc_auc_no_smote = roc_auc_score(y_test, y_proba_no_smote)\n",
    "pr_auc_no_smote = auc(recall, precision)\n",
    "accuracy_no_smote = accuracy_score(y_test, y_pred_no_smote)\n",
    "average_precision_no_smote = average_precision_score(y_test, y_proba_no_smote)\n",
    "\n",
    "# Print comparison results\n",
    "print(\"Metrics Comparison on Test Data:\")\n",
    "print(\"\\nWith SMOTE:\")\n",
    "print(f\"AUC-ROC: {roc_auc_smote:.4f}\")\n",
    "print(f\"AUC-PR: {pr_auc_smote:.4f}\")\n",
    "print(f\"Accuracy: {accuracy_smote:.4f}\")\n",
    "print(f\"Average Precision Score: {average_precision_smote:.4f}\")\n",
    "\n",
    "print(\"\\nWithout SMOTE:\")\n",
    "print(f\"AUC-ROC: {roc_auc_no_smote:.4f}\")\n",
    "print(f\"AUC-PR: {pr_auc_no_smote:.4f}\")\n",
    "print(f\"Accuracy: {accuracy_no_smote:.4f}\")\n",
    "print(f\"Average Precision Score: {average_precision_no_smote:.4f}\")"
   ]
  },
  {
   "cell_type": "markdown",
   "metadata": {},
   "source": [
    "### Improving Model "
   ]
  },
  {
   "cell_type": "markdown",
   "metadata": {},
   "source": [
    "SMOTE seems to be overfitting the data: try regularisers"
   ]
  },
  {
   "cell_type": "code",
   "execution_count": null,
   "metadata": {},
   "outputs": [],
   "source": []
  }
 ],
 "metadata": {
  "kernelspec": {
   "display_name": "Python 3",
   "language": "python",
   "name": "python3"
  },
  "language_info": {
   "codemirror_mode": {
    "name": "ipython",
    "version": 3
   },
   "file_extension": ".py",
   "mimetype": "text/x-python",
   "name": "python",
   "nbconvert_exporter": "python",
   "pygments_lexer": "ipython3",
   "version": "3.10.6"
  }
 },
 "nbformat": 4,
 "nbformat_minor": 2
}
