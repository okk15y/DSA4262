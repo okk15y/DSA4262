{
 "cells": [
  {
   "cell_type": "markdown",
   "metadata": {},
   "source": [
    "### Helper Functions For Preprocessing Data"
   ]
  },
  {
   "cell_type": "code",
   "execution_count": 1,
   "metadata": {},
   "outputs": [],
   "source": [
    "import gzip\n",
    "import json\n",
    "import joblib\n",
    "import pandas as pd\n",
    "import numpy as np\n",
    "from sklearn.preprocessing import OneHotEncoder, StandardScaler\n",
    "\n",
    "def load_json_gz_to_dataframe(file_path):\n",
    "    \"\"\"\n",
    "    Load gzipped JSON data into a DataFrame.\n",
    "    \"\"\"\n",
    "    data = []\n",
    "    with gzip.open(file_path, 'rt') as f:\n",
    "        for line in f:\n",
    "            json_data = json.loads(line)\n",
    "            for transcript, positions in json_data.items():\n",
    "                for position, sequences in positions.items():\n",
    "                    position = int(position)\n",
    "                    for sequence, reads in sequences.items():\n",
    "                        data.append({\n",
    "                            'transcript_id': transcript,\n",
    "                            'position': position,\n",
    "                            'sequence': sequence,\n",
    "                            'reads': reads\n",
    "                        })\n",
    "    return pd.DataFrame(data)\n",
    "\n",
    "def extract_mean_reads(dataset):\n",
    "    \"\"\"\n",
    "    Compute the mean of 'reads' for each row.\n",
    "    \"\"\"\n",
    "    dataset['mean_reads'] = dataset['reads'].apply(lambda x: np.mean(x, axis=0))\n",
    "    return dataset\n",
    "\n",
    "def scale_mean_reads(dataset, scaler=None, scaler_path='mean_reads_scaler.pkl'):\n",
    "    \"\"\"\n",
    "    Scale the 'mean_reads' column using StandardScaler.\n",
    "    \"\"\"\n",
    "    if scaler is None: # If no scaler is provided, fit a new one and save it\n",
    "        scaler = StandardScaler()\n",
    "        scaled_mean_reads = scaler.fit_transform(np.vstack(dataset['mean_reads'].values))\n",
    "        dataset['scaled_mean_reads'] = list(scaled_mean_reads)\n",
    "        joblib.dump(scaler, scaler_path)\n",
    "        print('Scaler saved to', scaler_path)\n",
    "    else: # Use the provided scaler to transform the data\n",
    "        scaled_mean_reads = scaler.transform(np.vstack(dataset['mean_reads'].values))\n",
    "        dataset['scaled_mean_reads'] = list(scaled_mean_reads)\n",
    "    return dataset\n",
    "\n",
    "def load_scaler(scaler_path='mean_reads_scaler.pkl'):\n",
    "    \"\"\"\n",
    "    Load the saved scaler from the given path.\n",
    "    \"\"\"\n",
    "    return joblib.load(scaler_path)\n",
    "\n",
    "def drach_encoder():\n",
    "    \"\"\"\n",
    "    Return a OneHotEncoder object with predefined DRACH motifs.\n",
    "    \"\"\"\n",
    "    # Define DRACH motifs to be used for one-hot encoding\n",
    "    D, R, A, C, H = ['A', 'G', 'T'], ['A', 'G'], ['A'], ['C'], ['A', 'C', 'T']\n",
    "    drach_motifs = [d + r + a + c + h for d in D for r in R for a in A for c in C for h in H]\n",
    "    encoder = OneHotEncoder(categories=[drach_motifs], handle_unknown='ignore')\n",
    "    return encoder\n",
    "\n",
    "def extract_middle_sequence(dataset):\n",
    "    \"\"\"\n",
    "    Extract the middle 5-mers sequence from the 'sequence' column.\n",
    "    \"\"\"\n",
    "    dataset['middle_sequence'] = dataset['sequence'].apply(lambda x: x[1:-1])\n",
    "    return dataset\n",
    "\n",
    "def one_hot_encode_DRACH(dataset, encoder=None, encoder_path='drach_encoder.pkl'):\n",
    "    \"\"\"\n",
    "    Apply one-hot encoding to the middle 5-mers sequence\n",
    "    \"\"\"\n",
    "    # One-hot encode the middle sequence\n",
    "    if encoder is None: # If no encoder is provided, fit a new one and save it\n",
    "        encoder = drach_encoder()\n",
    "        one_hot_matrix = encoder.fit_transform(dataset[['middle_sequence']])\n",
    "        joblib.dump(encoder, encoder_path)\n",
    "        print('DRACH Encoder saved to', encoder_path)\n",
    "    else:\n",
    "        one_hot_matrix = encoder.transform(dataset[['middle_sequence']])\n",
    "    dataset['middle_sequence_OHE'] = list(one_hot_matrix.toarray())\n",
    "    return dataset\n",
    "\n",
    "def load_DRACH_encoder(encoder_path='drach_encoder.pkl'):\n",
    "    \"\"\"\n",
    "    Load the saved DRACH encoder from the given path.\n",
    "    \"\"\"\n",
    "    return joblib.load(encoder_path)\n",
    "\n",
    "def combine_data(dataset, labels):\n",
    "    \"\"\"\n",
    "    Combine dataset with labels\n",
    "    \"\"\"\n",
    "    # Left join dataset with labels on 'transcript_id' and 'position'\n",
    "    merged_df = pd.merge(dataset, labels,\n",
    "                         left_on=['transcript_id', 'position'],\n",
    "                         right_on=['transcript_id', 'transcript_position'],\n",
    "                         how='left')\n",
    "    # Reorder gene_id to the first column and drop duplicate columns\n",
    "    gene_id = merged_df['gene_id']\n",
    "    merged_df = merged_df.drop(columns=['transcript_position', 'gene_id'])\n",
    "    merged_df.insert(0, 'gene_id', gene_id)\n",
    "    return merged_df\n",
    "\n",
    "def prepare_for_model(dataset):\n",
    "    \"\"\"\n",
    "    Combine 'scaled_mean_reads' and `middle_sequence_OHE` for model input.\n",
    "    \"\"\"\n",
    "    combined_features = np.hstack([np.vstack(dataset['scaled_mean_reads']), np.vstack(dataset['middle_sequence_OHE'])])\n",
    "    return combined_features"
   ]
  },
  {
   "cell_type": "markdown",
   "metadata": {},
   "source": [
    "### Preprocessing"
   ]
  },
  {
   "cell_type": "markdown",
   "metadata": {},
   "source": [
    "Load Data"
   ]
  },
  {
   "cell_type": "code",
   "execution_count": 2,
   "metadata": {},
   "outputs": [
    {
     "data": {
      "text/html": [
       "<div>\n",
       "<style scoped>\n",
       "    .dataframe tbody tr th:only-of-type {\n",
       "        vertical-align: middle;\n",
       "    }\n",
       "\n",
       "    .dataframe tbody tr th {\n",
       "        vertical-align: top;\n",
       "    }\n",
       "\n",
       "    .dataframe thead th {\n",
       "        text-align: right;\n",
       "    }\n",
       "</style>\n",
       "<table border=\"1\" class=\"dataframe\">\n",
       "  <thead>\n",
       "    <tr style=\"text-align: right;\">\n",
       "      <th></th>\n",
       "      <th>gene_id</th>\n",
       "      <th>transcript_id</th>\n",
       "      <th>transcript_position</th>\n",
       "      <th>label</th>\n",
       "    </tr>\n",
       "  </thead>\n",
       "  <tbody>\n",
       "    <tr>\n",
       "      <th>0</th>\n",
       "      <td>ENSG00000004059</td>\n",
       "      <td>ENST00000000233</td>\n",
       "      <td>244</td>\n",
       "      <td>0</td>\n",
       "    </tr>\n",
       "    <tr>\n",
       "      <th>1</th>\n",
       "      <td>ENSG00000004059</td>\n",
       "      <td>ENST00000000233</td>\n",
       "      <td>261</td>\n",
       "      <td>0</td>\n",
       "    </tr>\n",
       "    <tr>\n",
       "      <th>2</th>\n",
       "      <td>ENSG00000004059</td>\n",
       "      <td>ENST00000000233</td>\n",
       "      <td>316</td>\n",
       "      <td>0</td>\n",
       "    </tr>\n",
       "  </tbody>\n",
       "</table>\n",
       "</div>"
      ],
      "text/plain": [
       "           gene_id    transcript_id  transcript_position  label\n",
       "0  ENSG00000004059  ENST00000000233                  244      0\n",
       "1  ENSG00000004059  ENST00000000233                  261      0\n",
       "2  ENSG00000004059  ENST00000000233                  316      0"
      ]
     },
     "execution_count": 2,
     "metadata": {},
     "output_type": "execute_result"
    }
   ],
   "source": [
    "labels = pd.read_csv('data.info.labelled')\n",
    "labels.head(3)"
   ]
  },
  {
   "cell_type": "code",
   "execution_count": 3,
   "metadata": {},
   "outputs": [
    {
     "data": {
      "text/html": [
       "<div>\n",
       "<style scoped>\n",
       "    .dataframe tbody tr th:only-of-type {\n",
       "        vertical-align: middle;\n",
       "    }\n",
       "\n",
       "    .dataframe tbody tr th {\n",
       "        vertical-align: top;\n",
       "    }\n",
       "\n",
       "    .dataframe thead th {\n",
       "        text-align: right;\n",
       "    }\n",
       "</style>\n",
       "<table border=\"1\" class=\"dataframe\">\n",
       "  <thead>\n",
       "    <tr style=\"text-align: right;\">\n",
       "      <th></th>\n",
       "      <th>transcript_id</th>\n",
       "      <th>position</th>\n",
       "      <th>sequence</th>\n",
       "      <th>reads</th>\n",
       "    </tr>\n",
       "  </thead>\n",
       "  <tbody>\n",
       "    <tr>\n",
       "      <th>0</th>\n",
       "      <td>ENST00000000233</td>\n",
       "      <td>244</td>\n",
       "      <td>AAGACCA</td>\n",
       "      <td>[[0.00299, 2.06, 125.0, 0.0177, 10.4, 122.0, 0...</td>\n",
       "    </tr>\n",
       "    <tr>\n",
       "      <th>1</th>\n",
       "      <td>ENST00000000233</td>\n",
       "      <td>261</td>\n",
       "      <td>CAAACTG</td>\n",
       "      <td>[[0.0126, 1.95, 111.0, 0.0125, 1.27, 108.0, 0....</td>\n",
       "    </tr>\n",
       "    <tr>\n",
       "      <th>2</th>\n",
       "      <td>ENST00000000233</td>\n",
       "      <td>316</td>\n",
       "      <td>GAAACAG</td>\n",
       "      <td>[[0.00432, 2.02, 104.0, 0.00299, 3.56, 99.3, 0...</td>\n",
       "    </tr>\n",
       "  </tbody>\n",
       "</table>\n",
       "</div>"
      ],
      "text/plain": [
       "     transcript_id  position sequence  \\\n",
       "0  ENST00000000233       244  AAGACCA   \n",
       "1  ENST00000000233       261  CAAACTG   \n",
       "2  ENST00000000233       316  GAAACAG   \n",
       "\n",
       "                                               reads  \n",
       "0  [[0.00299, 2.06, 125.0, 0.0177, 10.4, 122.0, 0...  \n",
       "1  [[0.0126, 1.95, 111.0, 0.0125, 1.27, 108.0, 0....  \n",
       "2  [[0.00432, 2.02, 104.0, 0.00299, 3.56, 99.3, 0...  "
      ]
     },
     "execution_count": 3,
     "metadata": {},
     "output_type": "execute_result"
    }
   ],
   "source": [
    "df = load_json_gz_to_dataframe('dataset0.json.gz')\n",
    "df.head(3)"
   ]
  },
  {
   "cell_type": "markdown",
   "metadata": {},
   "source": [
    "Assign labels to the data"
   ]
  },
  {
   "cell_type": "code",
   "execution_count": null,
   "metadata": {},
   "outputs": [],
   "source": [
    "df = combine_data(df, labels)\n",
    "df.head(3)"
   ]
  },
  {
   "cell_type": "markdown",
   "metadata": {},
   "source": [
    "Extract mean reads"
   ]
  },
  {
   "cell_type": "code",
   "execution_count": 92,
   "metadata": {},
   "outputs": [
    {
     "data": {
      "text/html": [
       "<div>\n",
       "<style scoped>\n",
       "    .dataframe tbody tr th:only-of-type {\n",
       "        vertical-align: middle;\n",
       "    }\n",
       "\n",
       "    .dataframe tbody tr th {\n",
       "        vertical-align: top;\n",
       "    }\n",
       "\n",
       "    .dataframe thead th {\n",
       "        text-align: right;\n",
       "    }\n",
       "</style>\n",
       "<table border=\"1\" class=\"dataframe\">\n",
       "  <thead>\n",
       "    <tr style=\"text-align: right;\">\n",
       "      <th></th>\n",
       "      <th>gene_id</th>\n",
       "      <th>transcript_id</th>\n",
       "      <th>position</th>\n",
       "      <th>sequence</th>\n",
       "      <th>reads</th>\n",
       "      <th>label</th>\n",
       "      <th>mean_reads</th>\n",
       "    </tr>\n",
       "  </thead>\n",
       "  <tbody>\n",
       "    <tr>\n",
       "      <th>0</th>\n",
       "      <td>ENSG00000004059</td>\n",
       "      <td>ENST00000000233</td>\n",
       "      <td>244</td>\n",
       "      <td>AAGACCA</td>\n",
       "      <td>[[0.00299, 2.06, 125.0, 0.0177, 10.4, 122.0, 0...</td>\n",
       "      <td>0</td>\n",
       "      <td>[0.008264378378378385, 4.223783783783786, 123....</td>\n",
       "    </tr>\n",
       "    <tr>\n",
       "      <th>1</th>\n",
       "      <td>ENSG00000004059</td>\n",
       "      <td>ENST00000000233</td>\n",
       "      <td>261</td>\n",
       "      <td>CAAACTG</td>\n",
       "      <td>[[0.0126, 1.95, 111.0, 0.0125, 1.27, 108.0, 0....</td>\n",
       "      <td>0</td>\n",
       "      <td>[0.006609244186046515, 3.2164244186046504, 109...</td>\n",
       "    </tr>\n",
       "    <tr>\n",
       "      <th>2</th>\n",
       "      <td>ENSG00000004059</td>\n",
       "      <td>ENST00000000233</td>\n",
       "      <td>316</td>\n",
       "      <td>GAAACAG</td>\n",
       "      <td>[[0.00432, 2.02, 104.0, 0.00299, 3.56, 99.3, 0...</td>\n",
       "      <td>0</td>\n",
       "      <td>[0.0075699999999999995, 2.94054054054054, 105....</td>\n",
       "    </tr>\n",
       "  </tbody>\n",
       "</table>\n",
       "</div>"
      ],
      "text/plain": [
       "           gene_id    transcript_id  position sequence  \\\n",
       "0  ENSG00000004059  ENST00000000233       244  AAGACCA   \n",
       "1  ENSG00000004059  ENST00000000233       261  CAAACTG   \n",
       "2  ENSG00000004059  ENST00000000233       316  GAAACAG   \n",
       "\n",
       "                                               reads  label  \\\n",
       "0  [[0.00299, 2.06, 125.0, 0.0177, 10.4, 122.0, 0...      0   \n",
       "1  [[0.0126, 1.95, 111.0, 0.0125, 1.27, 108.0, 0....      0   \n",
       "2  [[0.00432, 2.02, 104.0, 0.00299, 3.56, 99.3, 0...      0   \n",
       "\n",
       "                                          mean_reads  \n",
       "0  [0.008264378378378385, 4.223783783783786, 123....  \n",
       "1  [0.006609244186046515, 3.2164244186046504, 109...  \n",
       "2  [0.0075699999999999995, 2.94054054054054, 105....  "
      ]
     },
     "execution_count": 92,
     "metadata": {},
     "output_type": "execute_result"
    }
   ],
   "source": [
    "df = extract_mean_reads(df)\n",
    "df.head(3)"
   ]
  },
  {
   "cell_type": "markdown",
   "metadata": {},
   "source": [
    "Train test split by gene_id"
   ]
  },
  {
   "cell_type": "code",
   "execution_count": 93,
   "metadata": {},
   "outputs": [],
   "source": [
    "# Train test split by gene id\n",
    "from sklearn.model_selection import train_test_split\n",
    "train_gene_ids, test_gene_ids = train_test_split(df['gene_id'].unique(), test_size=0.2, random_state=4262)\n",
    "\n",
    "train_df = df[df['gene_id'].isin(train_gene_ids)].copy()\n",
    "test_df = df[df['gene_id'].isin(test_gene_ids)].copy()"
   ]
  },
  {
   "cell_type": "markdown",
   "metadata": {},
   "source": [
    "Scale mean reads"
   ]
  },
  {
   "cell_type": "code",
   "execution_count": 94,
   "metadata": {},
   "outputs": [
    {
     "name": "stdout",
     "output_type": "stream",
     "text": [
      "Scaler saved to mean_reads_scaler.pkl\n"
     ]
    },
    {
     "data": {
      "text/html": [
       "<div>\n",
       "<style scoped>\n",
       "    .dataframe tbody tr th:only-of-type {\n",
       "        vertical-align: middle;\n",
       "    }\n",
       "\n",
       "    .dataframe tbody tr th {\n",
       "        vertical-align: top;\n",
       "    }\n",
       "\n",
       "    .dataframe thead th {\n",
       "        text-align: right;\n",
       "    }\n",
       "</style>\n",
       "<table border=\"1\" class=\"dataframe\">\n",
       "  <thead>\n",
       "    <tr style=\"text-align: right;\">\n",
       "      <th></th>\n",
       "      <th>gene_id</th>\n",
       "      <th>transcript_id</th>\n",
       "      <th>position</th>\n",
       "      <th>sequence</th>\n",
       "      <th>reads</th>\n",
       "      <th>label</th>\n",
       "      <th>mean_reads</th>\n",
       "      <th>scaled_mean_reads</th>\n",
       "    </tr>\n",
       "  </thead>\n",
       "  <tbody>\n",
       "    <tr>\n",
       "      <th>18</th>\n",
       "      <td>ENSG00000003056</td>\n",
       "      <td>ENST00000000412</td>\n",
       "      <td>355</td>\n",
       "      <td>GAAACTA</td>\n",
       "      <td>[[0.00232, 2.41, 109.0, 0.0222, 2.85, 111.0, 0...</td>\n",
       "      <td>0</td>\n",
       "      <td>[0.007340399999999998, 2.9771799999999997, 108...</td>\n",
       "      <td>[-0.43079389735504386, -0.7090163040809951, -0...</td>\n",
       "    </tr>\n",
       "    <tr>\n",
       "      <th>19</th>\n",
       "      <td>ENSG00000003056</td>\n",
       "      <td>ENST00000000412</td>\n",
       "      <td>367</td>\n",
       "      <td>GGGACCG</td>\n",
       "      <td>[[0.00232, 1.32, 117.0, 0.0073, 7.89, 120.0, 0...</td>\n",
       "      <td>0</td>\n",
       "      <td>[0.00898787234042553, 3.961489361702128, 118.6...</td>\n",
       "      <td>[0.49106279705280276, -0.1994143266757514, 0.6...</td>\n",
       "    </tr>\n",
       "    <tr>\n",
       "      <th>20</th>\n",
       "      <td>ENSG00000003056</td>\n",
       "      <td>ENST00000000412</td>\n",
       "      <td>496</td>\n",
       "      <td>AGGACTG</td>\n",
       "      <td>[[0.00398, 2.46, 111.0, 0.016, 3.36, 125.0, 0....</td>\n",
       "      <td>0</td>\n",
       "      <td>[0.011064705882352935, 7.299607843137254, 115....</td>\n",
       "      <td>[1.6531720821786586, 1.5288144651450055, 0.418...</td>\n",
       "    </tr>\n",
       "  </tbody>\n",
       "</table>\n",
       "</div>"
      ],
      "text/plain": [
       "            gene_id    transcript_id  position sequence  \\\n",
       "18  ENSG00000003056  ENST00000000412       355  GAAACTA   \n",
       "19  ENSG00000003056  ENST00000000412       367  GGGACCG   \n",
       "20  ENSG00000003056  ENST00000000412       496  AGGACTG   \n",
       "\n",
       "                                                reads  label  \\\n",
       "18  [[0.00232, 2.41, 109.0, 0.0222, 2.85, 111.0, 0...      0   \n",
       "19  [[0.00232, 1.32, 117.0, 0.0073, 7.89, 120.0, 0...      0   \n",
       "20  [[0.00398, 2.46, 111.0, 0.016, 3.36, 125.0, 0....      0   \n",
       "\n",
       "                                           mean_reads  \\\n",
       "18  [0.007340399999999998, 2.9771799999999997, 108...   \n",
       "19  [0.00898787234042553, 3.961489361702128, 118.6...   \n",
       "20  [0.011064705882352935, 7.299607843137254, 115....   \n",
       "\n",
       "                                    scaled_mean_reads  \n",
       "18  [-0.43079389735504386, -0.7090163040809951, -0...  \n",
       "19  [0.49106279705280276, -0.1994143266757514, 0.6...  \n",
       "20  [1.6531720821786586, 1.5288144651450055, 0.418...  "
      ]
     },
     "execution_count": 94,
     "metadata": {},
     "output_type": "execute_result"
    }
   ],
   "source": [
    "# Scale mean reads of train data first\n",
    "train_df = scale_mean_reads(train_df)\n",
    "train_df.head(3)"
   ]
  },
  {
   "cell_type": "code",
   "execution_count": 95,
   "metadata": {},
   "outputs": [],
   "source": [
    "# Load the saved scaler to transform the test data\n",
    "scaler = load_scaler()\n",
    "test_df = scale_mean_reads(test_df, scaler=scaler)"
   ]
  },
  {
   "cell_type": "markdown",
   "metadata": {},
   "source": [
    "Extract middle sequence"
   ]
  },
  {
   "cell_type": "code",
   "execution_count": 96,
   "metadata": {},
   "outputs": [
    {
     "data": {
      "text/html": [
       "<div>\n",
       "<style scoped>\n",
       "    .dataframe tbody tr th:only-of-type {\n",
       "        vertical-align: middle;\n",
       "    }\n",
       "\n",
       "    .dataframe tbody tr th {\n",
       "        vertical-align: top;\n",
       "    }\n",
       "\n",
       "    .dataframe thead th {\n",
       "        text-align: right;\n",
       "    }\n",
       "</style>\n",
       "<table border=\"1\" class=\"dataframe\">\n",
       "  <thead>\n",
       "    <tr style=\"text-align: right;\">\n",
       "      <th></th>\n",
       "      <th>gene_id</th>\n",
       "      <th>transcript_id</th>\n",
       "      <th>position</th>\n",
       "      <th>sequence</th>\n",
       "      <th>reads</th>\n",
       "      <th>label</th>\n",
       "      <th>mean_reads</th>\n",
       "      <th>scaled_mean_reads</th>\n",
       "      <th>middle_sequence</th>\n",
       "    </tr>\n",
       "  </thead>\n",
       "  <tbody>\n",
       "    <tr>\n",
       "      <th>18</th>\n",
       "      <td>ENSG00000003056</td>\n",
       "      <td>ENST00000000412</td>\n",
       "      <td>355</td>\n",
       "      <td>GAAACTA</td>\n",
       "      <td>[[0.00232, 2.41, 109.0, 0.0222, 2.85, 111.0, 0...</td>\n",
       "      <td>0</td>\n",
       "      <td>[0.007340399999999998, 2.9771799999999997, 108...</td>\n",
       "      <td>[-0.43079389735504386, -0.7090163040809951, -0...</td>\n",
       "      <td>AAACT</td>\n",
       "    </tr>\n",
       "    <tr>\n",
       "      <th>19</th>\n",
       "      <td>ENSG00000003056</td>\n",
       "      <td>ENST00000000412</td>\n",
       "      <td>367</td>\n",
       "      <td>GGGACCG</td>\n",
       "      <td>[[0.00232, 1.32, 117.0, 0.0073, 7.89, 120.0, 0...</td>\n",
       "      <td>0</td>\n",
       "      <td>[0.00898787234042553, 3.961489361702128, 118.6...</td>\n",
       "      <td>[0.49106279705280276, -0.1994143266757514, 0.6...</td>\n",
       "      <td>GGACC</td>\n",
       "    </tr>\n",
       "    <tr>\n",
       "      <th>20</th>\n",
       "      <td>ENSG00000003056</td>\n",
       "      <td>ENST00000000412</td>\n",
       "      <td>496</td>\n",
       "      <td>AGGACTG</td>\n",
       "      <td>[[0.00398, 2.46, 111.0, 0.016, 3.36, 125.0, 0....</td>\n",
       "      <td>0</td>\n",
       "      <td>[0.011064705882352935, 7.299607843137254, 115....</td>\n",
       "      <td>[1.6531720821786586, 1.5288144651450055, 0.418...</td>\n",
       "      <td>GGACT</td>\n",
       "    </tr>\n",
       "  </tbody>\n",
       "</table>\n",
       "</div>"
      ],
      "text/plain": [
       "            gene_id    transcript_id  position sequence  \\\n",
       "18  ENSG00000003056  ENST00000000412       355  GAAACTA   \n",
       "19  ENSG00000003056  ENST00000000412       367  GGGACCG   \n",
       "20  ENSG00000003056  ENST00000000412       496  AGGACTG   \n",
       "\n",
       "                                                reads  label  \\\n",
       "18  [[0.00232, 2.41, 109.0, 0.0222, 2.85, 111.0, 0...      0   \n",
       "19  [[0.00232, 1.32, 117.0, 0.0073, 7.89, 120.0, 0...      0   \n",
       "20  [[0.00398, 2.46, 111.0, 0.016, 3.36, 125.0, 0....      0   \n",
       "\n",
       "                                           mean_reads  \\\n",
       "18  [0.007340399999999998, 2.9771799999999997, 108...   \n",
       "19  [0.00898787234042553, 3.961489361702128, 118.6...   \n",
       "20  [0.011064705882352935, 7.299607843137254, 115....   \n",
       "\n",
       "                                    scaled_mean_reads middle_sequence  \n",
       "18  [-0.43079389735504386, -0.7090163040809951, -0...           AAACT  \n",
       "19  [0.49106279705280276, -0.1994143266757514, 0.6...           GGACC  \n",
       "20  [1.6531720821786586, 1.5288144651450055, 0.418...           GGACT  "
      ]
     },
     "execution_count": 96,
     "metadata": {},
     "output_type": "execute_result"
    }
   ],
   "source": [
    "train_df = extract_middle_sequence(train_df)\n",
    "train_df.head(3)"
   ]
  },
  {
   "cell_type": "code",
   "execution_count": 103,
   "metadata": {},
   "outputs": [],
   "source": [
    "test_df = extract_middle_sequence(test_df)"
   ]
  },
  {
   "cell_type": "markdown",
   "metadata": {},
   "source": [
    "One hot encode middle sequence (DRACH motif)"
   ]
  },
  {
   "cell_type": "code",
   "execution_count": 104,
   "metadata": {},
   "outputs": [
    {
     "name": "stdout",
     "output_type": "stream",
     "text": [
      "DRACH Encoder saved to drach_encoder.pkl\n"
     ]
    },
    {
     "data": {
      "text/html": [
       "<div>\n",
       "<style scoped>\n",
       "    .dataframe tbody tr th:only-of-type {\n",
       "        vertical-align: middle;\n",
       "    }\n",
       "\n",
       "    .dataframe tbody tr th {\n",
       "        vertical-align: top;\n",
       "    }\n",
       "\n",
       "    .dataframe thead th {\n",
       "        text-align: right;\n",
       "    }\n",
       "</style>\n",
       "<table border=\"1\" class=\"dataframe\">\n",
       "  <thead>\n",
       "    <tr style=\"text-align: right;\">\n",
       "      <th></th>\n",
       "      <th>gene_id</th>\n",
       "      <th>transcript_id</th>\n",
       "      <th>position</th>\n",
       "      <th>sequence</th>\n",
       "      <th>reads</th>\n",
       "      <th>label</th>\n",
       "      <th>mean_reads</th>\n",
       "      <th>scaled_mean_reads</th>\n",
       "      <th>middle_sequence</th>\n",
       "      <th>middle_sequence_OHE</th>\n",
       "    </tr>\n",
       "  </thead>\n",
       "  <tbody>\n",
       "    <tr>\n",
       "      <th>18</th>\n",
       "      <td>ENSG00000003056</td>\n",
       "      <td>ENST00000000412</td>\n",
       "      <td>355</td>\n",
       "      <td>GAAACTA</td>\n",
       "      <td>[[0.00232, 2.41, 109.0, 0.0222, 2.85, 111.0, 0...</td>\n",
       "      <td>0</td>\n",
       "      <td>[0.007340399999999998, 2.9771799999999997, 108...</td>\n",
       "      <td>[-0.43079389735504386, -0.7090163040809951, -0...</td>\n",
       "      <td>AAACT</td>\n",
       "      <td>[0.0, 0.0, 1.0, 0.0, 0.0, 0.0, 0.0, 0.0, 0.0, ...</td>\n",
       "    </tr>\n",
       "    <tr>\n",
       "      <th>19</th>\n",
       "      <td>ENSG00000003056</td>\n",
       "      <td>ENST00000000412</td>\n",
       "      <td>367</td>\n",
       "      <td>GGGACCG</td>\n",
       "      <td>[[0.00232, 1.32, 117.0, 0.0073, 7.89, 120.0, 0...</td>\n",
       "      <td>0</td>\n",
       "      <td>[0.00898787234042553, 3.961489361702128, 118.6...</td>\n",
       "      <td>[0.49106279705280276, -0.1994143266757514, 0.6...</td>\n",
       "      <td>GGACC</td>\n",
       "      <td>[0.0, 0.0, 0.0, 0.0, 0.0, 0.0, 0.0, 0.0, 0.0, ...</td>\n",
       "    </tr>\n",
       "    <tr>\n",
       "      <th>20</th>\n",
       "      <td>ENSG00000003056</td>\n",
       "      <td>ENST00000000412</td>\n",
       "      <td>496</td>\n",
       "      <td>AGGACTG</td>\n",
       "      <td>[[0.00398, 2.46, 111.0, 0.016, 3.36, 125.0, 0....</td>\n",
       "      <td>0</td>\n",
       "      <td>[0.011064705882352935, 7.299607843137254, 115....</td>\n",
       "      <td>[1.6531720821786586, 1.5288144651450055, 0.418...</td>\n",
       "      <td>GGACT</td>\n",
       "      <td>[0.0, 0.0, 0.0, 0.0, 0.0, 0.0, 0.0, 0.0, 0.0, ...</td>\n",
       "    </tr>\n",
       "  </tbody>\n",
       "</table>\n",
       "</div>"
      ],
      "text/plain": [
       "            gene_id    transcript_id  position sequence  \\\n",
       "18  ENSG00000003056  ENST00000000412       355  GAAACTA   \n",
       "19  ENSG00000003056  ENST00000000412       367  GGGACCG   \n",
       "20  ENSG00000003056  ENST00000000412       496  AGGACTG   \n",
       "\n",
       "                                                reads  label  \\\n",
       "18  [[0.00232, 2.41, 109.0, 0.0222, 2.85, 111.0, 0...      0   \n",
       "19  [[0.00232, 1.32, 117.0, 0.0073, 7.89, 120.0, 0...      0   \n",
       "20  [[0.00398, 2.46, 111.0, 0.016, 3.36, 125.0, 0....      0   \n",
       "\n",
       "                                           mean_reads  \\\n",
       "18  [0.007340399999999998, 2.9771799999999997, 108...   \n",
       "19  [0.00898787234042553, 3.961489361702128, 118.6...   \n",
       "20  [0.011064705882352935, 7.299607843137254, 115....   \n",
       "\n",
       "                                    scaled_mean_reads middle_sequence  \\\n",
       "18  [-0.43079389735504386, -0.7090163040809951, -0...           AAACT   \n",
       "19  [0.49106279705280276, -0.1994143266757514, 0.6...           GGACC   \n",
       "20  [1.6531720821786586, 1.5288144651450055, 0.418...           GGACT   \n",
       "\n",
       "                                  middle_sequence_OHE  \n",
       "18  [0.0, 0.0, 1.0, 0.0, 0.0, 0.0, 0.0, 0.0, 0.0, ...  \n",
       "19  [0.0, 0.0, 0.0, 0.0, 0.0, 0.0, 0.0, 0.0, 0.0, ...  \n",
       "20  [0.0, 0.0, 0.0, 0.0, 0.0, 0.0, 0.0, 0.0, 0.0, ...  "
      ]
     },
     "execution_count": 104,
     "metadata": {},
     "output_type": "execute_result"
    }
   ],
   "source": [
    "train_df = one_hot_encode_DRACH(train_df)\n",
    "train_df.head(3)"
   ]
  },
  {
   "cell_type": "code",
   "execution_count": 112,
   "metadata": {},
   "outputs": [],
   "source": [
    "# Load the saved DRACH encoder to transform the test data\n",
    "encoder = load_DRACH_encoder()\n",
    "test_df = one_hot_encode_DRACH(test_df, encoder=encoder)"
   ]
  },
  {
   "cell_type": "markdown",
   "metadata": {},
   "source": [
    "Check label imbalance (FOR SMOTE)"
   ]
  },
  {
   "cell_type": "code",
   "execution_count": 26,
   "metadata": {},
   "outputs": [
    {
     "data": {
      "text/plain": [
       "0.04520309457830705"
      ]
     },
     "execution_count": 26,
     "metadata": {},
     "output_type": "execute_result"
    }
   ],
   "source": [
    "# Proportion of positive labels in the training set\n",
    "np.mean(train_df['label'])"
   ]
  },
  {
   "cell_type": "code",
   "execution_count": 42,
   "metadata": {},
   "outputs": [
    {
     "name": "stdout",
     "output_type": "stream",
     "text": [
      "Number of gene_id with no postive labels:  1885\n",
      "Proportion of gene_id with no positive labels:  0.6118143459915611\n"
     ]
    }
   ],
   "source": [
    "# Proportion of positive labels by gene_id\n",
    "prop_gene_id = train_df.groupby('gene_id')['label'].mean()\n",
    "\n",
    "# Number of zeros\n",
    "num_zeros = len(prop_gene_id[prop_gene_id == 0])\n",
    "print('Number of gene_id with no postive labels: ', num_zeros)\n",
    "print('Proportion of gene_id with no positive labels: ', num_zeros / len(prop_gene_id))"
   ]
  },
  {
   "cell_type": "code",
   "execution_count": 45,
   "metadata": {},
   "outputs": [
    {
     "name": "stdout",
     "output_type": "stream",
     "text": [
      "Number of DRACH motifs with no postive labels:  0\n",
      "Proportion of DRACH motifs with no positive labels:  0.0\n"
     ]
    }
   ],
   "source": [
    "# Proportion of positive labels by middle_sequence\n",
    "prop_drach = train_df.groupby('middle_sequence')['label'].mean()\n",
    "\n",
    "# Number of zeros\n",
    "num_zeros = len(prop_drach[prop_drach == 0])\n",
    "print('Number of DRACH motifs with no postive labels: ', num_zeros)\n",
    "print('Proportion of DRACH motifs with no positive labels: ', num_zeros / len(prop_drach))"
   ]
  },
  {
   "cell_type": "code",
   "execution_count": 62,
   "metadata": {},
   "outputs": [
    {
     "data": {
      "text/plain": [
       "middle_sequence\n",
       "TAACA       1\n",
       "TAACC       2\n",
       "AAACC      10\n",
       "AAACA      32\n",
       "AGACC      51\n",
       "TAACT      53\n",
       "TGACA      59\n",
       "TGACC      79\n",
       "GAACC      95\n",
       "AGACA     111\n",
       "GAACA     136\n",
       "AAACT     209\n",
       "TGACT     355\n",
       "GGACC     417\n",
       "AGACT     429\n",
       "GGACA     550\n",
       "GAACT     653\n",
       "GGACT    1146\n",
       "Name: label, dtype: int64"
      ]
     },
     "execution_count": 62,
     "metadata": {},
     "output_type": "execute_result"
    }
   ],
   "source": [
    "# Number of positive labels by middle_sequence\n",
    "train_df[train_df['label'] == 1].groupby('middle_sequence')['label'].count().sort_values()\n"
   ]
  },
  {
   "cell_type": "markdown",
   "metadata": {},
   "source": [
    "Apply SMOTE to each group of DRACH motif"
   ]
  },
  {
   "cell_type": "code",
   "execution_count": 107,
   "metadata": {},
   "outputs": [],
   "source": [
    "from imblearn.over_sampling import SMOTE\n",
    "\n",
    "# Get the scaled mean reads and one-hot encoded middle sequence columns as dataframe\n",
    "X_resampled_list = [] \n",
    "y_resampled_list = []\n",
    "middle_sequence_list = []\n",
    "\n",
    "for middle_seq, group in train_df.groupby('middle_sequence'):\n",
    "    X = np.vstack(group['scaled_mean_reads'].values)\n",
    "    y = group['label'].values\n",
    "    \n",
    "    if sum(y) < 10: # Skip if the number of positive labels is less than 10\n",
    "        X_resampled_list.append(X)\n",
    "        y_resampled_list.append(y)\n",
    "        middle_sequence_list.extend([middle_seq] * len(y))\n",
    "        continue\n",
    "\n",
    "    # Apply SMOTE to the scaled mean reads and labels\n",
    "    smote = SMOTE(random_state=4262)\n",
    "    X_resampled, y_resampled = smote.fit_resample(X, y)\n",
    "\n",
    "    # Append resampled data and one-hot encoding to lists\n",
    "    X_resampled_list.append(X_resampled)\n",
    "    y_resampled_list.append(y_resampled)\n",
    "    middle_sequence_list.extend([middle_seq] * len(y_resampled))\n",
    "\n",
    "# Combine all resampled data into final arrays\n",
    "X_resampled = np.vstack(X_resampled_list)\n",
    "y_resampled = np.concatenate(y_resampled_list)\n",
    "\n",
    "# Combine into a final DataFrame if needed\n",
    "resampled_df = pd.DataFrame({\n",
    "    'scaled_mean_reads': list(X_resampled),\n",
    "    'middle_sequence': middle_sequence_list,\n",
    "    'label': y_resampled\n",
    "})"
   ]
  },
  {
   "cell_type": "code",
   "execution_count": 81,
   "metadata": {},
   "outputs": [
    {
     "name": "stdout",
     "output_type": "stream",
     "text": [
      "Proportion of positive labels in the resampled data:  0.483202765619337\n"
     ]
    },
    {
     "data": {
      "text/plain": [
       "middle_sequence\n",
       "AAACA    0.500000\n",
       "AAACC    0.500000\n",
       "AAACT    0.500000\n",
       "AGACA    0.500000\n",
       "AGACC    0.500000\n",
       "AGACT    0.500000\n",
       "GAACA    0.500000\n",
       "GAACC    0.500000\n",
       "GAACT    0.500000\n",
       "GGACA    0.500000\n",
       "GGACC    0.500000\n",
       "GGACT    0.500000\n",
       "TAACA    0.000271\n",
       "TAACC    0.000856\n",
       "TAACT    0.500000\n",
       "TGACA    0.500000\n",
       "TGACC    0.500000\n",
       "TGACT    0.500000\n",
       "Name: label, dtype: float64"
      ]
     },
     "execution_count": 81,
     "metadata": {},
     "output_type": "execute_result"
    }
   ],
   "source": [
    "# Proportion of positive labels in the resampled data\n",
    "print('Proportion of positive labels in the resampled data: ', np.mean(resampled_df['label']))\n",
    "\n",
    "# Proportion of positive labels by middle_sequence\n",
    "prop_drach_resampled = resampled_df.groupby('middle_sequence')['label'].mean()\n",
    "prop_drach_resampled"
   ]
  },
  {
   "cell_type": "markdown",
   "metadata": {},
   "source": [
    "One hot encode DRACH motifs"
   ]
  },
  {
   "cell_type": "code",
   "execution_count": 108,
   "metadata": {},
   "outputs": [
    {
     "name": "stdout",
     "output_type": "stream",
     "text": [
      "DRACH Encoder saved to drach_encoder.pkl\n"
     ]
    },
    {
     "data": {
      "text/html": [
       "<div>\n",
       "<style scoped>\n",
       "    .dataframe tbody tr th:only-of-type {\n",
       "        vertical-align: middle;\n",
       "    }\n",
       "\n",
       "    .dataframe tbody tr th {\n",
       "        vertical-align: top;\n",
       "    }\n",
       "\n",
       "    .dataframe thead th {\n",
       "        text-align: right;\n",
       "    }\n",
       "</style>\n",
       "<table border=\"1\" class=\"dataframe\">\n",
       "  <thead>\n",
       "    <tr style=\"text-align: right;\">\n",
       "      <th></th>\n",
       "      <th>scaled_mean_reads</th>\n",
       "      <th>middle_sequence</th>\n",
       "      <th>label</th>\n",
       "      <th>middle_sequence_OHE</th>\n",
       "    </tr>\n",
       "  </thead>\n",
       "  <tbody>\n",
       "    <tr>\n",
       "      <th>0</th>\n",
       "      <td>[2.5249757619759317, -0.7835678231993425, -0.2...</td>\n",
       "      <td>AAACA</td>\n",
       "      <td>0</td>\n",
       "      <td>[1.0, 0.0, 0.0, 0.0, 0.0, 0.0, 0.0, 0.0, 0.0, ...</td>\n",
       "    </tr>\n",
       "    <tr>\n",
       "      <th>1</th>\n",
       "      <td>[0.6928199968356539, -1.1676038905620205, -0.7...</td>\n",
       "      <td>AAACA</td>\n",
       "      <td>0</td>\n",
       "      <td>[1.0, 0.0, 0.0, 0.0, 0.0, 0.0, 0.0, 0.0, 0.0, ...</td>\n",
       "    </tr>\n",
       "    <tr>\n",
       "      <th>2</th>\n",
       "      <td>[0.3732826597732115, -0.8372266235169966, -0.2...</td>\n",
       "      <td>AAACA</td>\n",
       "      <td>0</td>\n",
       "      <td>[1.0, 0.0, 0.0, 0.0, 0.0, 0.0, 0.0, 0.0, 0.0, ...</td>\n",
       "    </tr>\n",
       "  </tbody>\n",
       "</table>\n",
       "</div>"
      ],
      "text/plain": [
       "                                   scaled_mean_reads middle_sequence  label  \\\n",
       "0  [2.5249757619759317, -0.7835678231993425, -0.2...           AAACA      0   \n",
       "1  [0.6928199968356539, -1.1676038905620205, -0.7...           AAACA      0   \n",
       "2  [0.3732826597732115, -0.8372266235169966, -0.2...           AAACA      0   \n",
       "\n",
       "                                 middle_sequence_OHE  \n",
       "0  [1.0, 0.0, 0.0, 0.0, 0.0, 0.0, 0.0, 0.0, 0.0, ...  \n",
       "1  [1.0, 0.0, 0.0, 0.0, 0.0, 0.0, 0.0, 0.0, 0.0, ...  \n",
       "2  [1.0, 0.0, 0.0, 0.0, 0.0, 0.0, 0.0, 0.0, 0.0, ...  "
      ]
     },
     "execution_count": 108,
     "metadata": {},
     "output_type": "execute_result"
    }
   ],
   "source": [
    "resampled_df = one_hot_encode_DRACH(resampled_df)\n",
    "resampled_df.head(3)"
   ]
  },
  {
   "cell_type": "markdown",
   "metadata": {},
   "source": [
    "Prepare for model input"
   ]
  },
  {
   "cell_type": "code",
   "execution_count": 114,
   "metadata": {},
   "outputs": [],
   "source": [
    "# With SMOTE\n",
    "X_resampled = prepare_for_model(resampled_df)\n",
    "y_resampled = resampled_df['label'].values\n",
    "\n",
    "# Without SMOTE\n",
    "X_train = prepare_for_model(train_df)\n",
    "y_train = train_df['label'].values\n",
    "\n",
    "# Prepare test data\n",
    "X_test = prepare_for_model(test_df)\n",
    "y_test = test_df['label'].values"
   ]
  },
  {
   "cell_type": "markdown",
   "metadata": {},
   "source": [
    "### NN model"
   ]
  },
  {
   "cell_type": "code",
   "execution_count": null,
   "metadata": {},
   "outputs": [],
   "source": [
    "from tensorflow.keras.models import Sequential\n",
    "from tensorflow.keras.layers import Input, Dense, Dropout\n",
    "from tensorflow.keras.callbacks import ModelCheckpoint\n",
    "from tensorflow.keras.metrics import AUC\n",
    "from imblearn.over_sampling import SMOTE\n",
    "\n",
    "def build_model(input_shape):\n",
    "    \"\"\"\n",
    "    Define and compile neural network model.\n",
    "    \"\"\"\n",
    "    model = Sequential([\n",
    "        Input(shape=(input_shape,)),\n",
    "        Dense(150, activation='relu'),\n",
    "        Dropout(0.2),  # Dropout layer for regularization\n",
    "        Dense(32, activation='relu'),\n",
    "        Dropout(0.2),  # Another dropout layer\n",
    "        Dense(1, activation='sigmoid')\n",
    "    ])\n",
    "    # Set AUC with Precision-Recall (PR) curve\n",
    "    model.compile(optimizer='adam', loss='binary_crossentropy', metrics=[AUC(curve='PR', name='auc_pr')])\n",
    "    return model"
   ]
  },
  {
   "cell_type": "markdown",
   "metadata": {},
   "source": [
    "#### Train model with SMOTE resampled data"
   ]
  },
  {
   "cell_type": "code",
   "execution_count": 116,
   "metadata": {},
   "outputs": [
    {
     "name": "stdout",
     "output_type": "stream",
     "text": [
      "Epoch 1/5\n",
      "\u001b[1m5605/5605\u001b[0m \u001b[32m━━━━━━━━━━━━━━━━━━━━\u001b[0m\u001b[37m\u001b[0m \u001b[1m22s\u001b[0m 3ms/step - auc_pr: 0.7365 - loss: 0.5676 - val_auc_pr: 0.2857 - val_loss: 0.4646\n",
      "Epoch 2/5\n",
      "\u001b[1m5605/5605\u001b[0m \u001b[32m━━━━━━━━━━━━━━━━━━━━\u001b[0m\u001b[37m\u001b[0m \u001b[1m18s\u001b[0m 3ms/step - auc_pr: 0.8509 - loss: 0.4513 - val_auc_pr: 0.3265 - val_loss: 0.4173\n",
      "Epoch 3/5\n",
      "\u001b[1m5605/5605\u001b[0m \u001b[32m━━━━━━━━━━━━━━━━━━━━\u001b[0m\u001b[37m\u001b[0m \u001b[1m18s\u001b[0m 3ms/step - auc_pr: 0.8738 - loss: 0.4161 - val_auc_pr: 0.3356 - val_loss: 0.4224\n",
      "Epoch 4/5\n",
      "\u001b[1m5605/5605\u001b[0m \u001b[32m━━━━━━━━━━━━━━━━━━━━\u001b[0m\u001b[37m\u001b[0m \u001b[1m18s\u001b[0m 3ms/step - auc_pr: 0.8869 - loss: 0.3912 - val_auc_pr: 0.3257 - val_loss: 0.3260\n",
      "Epoch 5/5\n",
      "\u001b[1m5605/5605\u001b[0m \u001b[32m━━━━━━━━━━━━━━━━━━━━\u001b[0m\u001b[37m\u001b[0m \u001b[1m17s\u001b[0m 3ms/step - auc_pr: 0.8943 - loss: 0.3787 - val_auc_pr: 0.2949 - val_loss: 0.3887\n"
     ]
    },
    {
     "data": {
      "text/plain": [
       "<keras.src.callbacks.history.History at 0x14a40a979d0>"
      ]
     },
     "execution_count": 116,
     "metadata": {},
     "output_type": "execute_result"
    }
   ],
   "source": [
    "# Define the model\n",
    "SMOTE_model = build_model(X_resampled.shape[1])\n",
    "\n",
    "# Train the model\n",
    "checkpoint = ModelCheckpoint(\n",
    "    'best_model_with_SMOTE.keras',  \n",
    "    save_best_only=True,\n",
    "    monitor='val_auc_pr',\n",
    "    mode='max'\n",
    ")\n",
    "\n",
    "SMOTE_model.fit(\n",
    "    X_resampled, y_resampled,\n",
    "    epochs=5,\n",
    "    batch_size=32,\n",
    "    validation_data=(X_test, y_test),\n",
    "    callbacks=[checkpoint]\n",
    ")"
   ]
  },
  {
   "cell_type": "markdown",
   "metadata": {},
   "source": [
    "#### Train model without SMOTE"
   ]
  },
  {
   "cell_type": "code",
   "execution_count": 117,
   "metadata": {},
   "outputs": [
    {
     "name": "stdout",
     "output_type": "stream",
     "text": [
      "Epoch 1/5\n",
      "\u001b[1m5605/5605\u001b[0m \u001b[32m━━━━━━━━━━━━━━━━━━━━\u001b[0m\u001b[37m\u001b[0m \u001b[1m21s\u001b[0m 3ms/step - auc_pr: 0.7437 - loss: 0.5642 - val_auc_pr: 0.3281 - val_loss: 0.4085\n",
      "Epoch 2/5\n",
      "\u001b[1m5605/5605\u001b[0m \u001b[32m━━━━━━━━━━━━━━━━━━━━\u001b[0m\u001b[37m\u001b[0m \u001b[1m19s\u001b[0m 3ms/step - auc_pr: 0.8504 - loss: 0.4524 - val_auc_pr: 0.3191 - val_loss: 0.3841\n",
      "Epoch 3/5\n",
      "\u001b[1m5605/5605\u001b[0m \u001b[32m━━━━━━━━━━━━━━━━━━━━\u001b[0m\u001b[37m\u001b[0m \u001b[1m18s\u001b[0m 3ms/step - auc_pr: 0.8727 - loss: 0.4180 - val_auc_pr: 0.3400 - val_loss: 0.3910\n",
      "Epoch 4/5\n",
      "\u001b[1m5605/5605\u001b[0m \u001b[32m━━━━━━━━━━━━━━━━━━━━\u001b[0m\u001b[37m\u001b[0m \u001b[1m18s\u001b[0m 3ms/step - auc_pr: 0.8869 - loss: 0.3927 - val_auc_pr: 0.3179 - val_loss: 0.3821\n",
      "Epoch 5/5\n",
      "\u001b[1m5605/5605\u001b[0m \u001b[32m━━━━━━━━━━━━━━━━━━━━\u001b[0m\u001b[37m\u001b[0m \u001b[1m18s\u001b[0m 3ms/step - auc_pr: 0.8947 - loss: 0.3787 - val_auc_pr: 0.3415 - val_loss: 0.4006\n"
     ]
    },
    {
     "data": {
      "text/plain": [
       "<keras.src.callbacks.history.History at 0x14a419c7910>"
      ]
     },
     "execution_count": 117,
     "metadata": {},
     "output_type": "execute_result"
    }
   ],
   "source": [
    "# Define the model\n",
    "model = build_model(X_resampled.shape[1])\n",
    "\n",
    "# Train the model\n",
    "checkpoint = ModelCheckpoint(\n",
    "    'best_model_without_SMOTE.keras',\n",
    "    save_best_only=True,\n",
    "    monitor='val_auc_pr',\n",
    "    mode='max'\n",
    ")\n",
    "\n",
    "model.fit(\n",
    "    X_resampled, y_resampled,\n",
    "    epochs=5,\n",
    "    batch_size=32,\n",
    "    validation_data=(X_test, y_test),\n",
    "    callbacks=[checkpoint]\n",
    ")"
   ]
  }
 ],
 "metadata": {
  "kernelspec": {
   "display_name": "Python 3",
   "language": "python",
   "name": "python3"
  },
  "language_info": {
   "codemirror_mode": {
    "name": "ipython",
    "version": 3
   },
   "file_extension": ".py",
   "mimetype": "text/x-python",
   "name": "python",
   "nbconvert_exporter": "python",
   "pygments_lexer": "ipython3",
   "version": "3.10.6"
  }
 },
 "nbformat": 4,
 "nbformat_minor": 2
}
