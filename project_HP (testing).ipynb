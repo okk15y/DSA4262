{
 "cells": [
  {
   "cell_type": "markdown",
   "metadata": {},
   "source": [
    "## DRACH Motifs"
   ]
  },
  {
   "cell_type": "markdown",
   "metadata": {},
   "source": [
    "The middle 5-mers of the sequence will always be one of the 18 DRACH motifs."
   ]
  },
  {
   "cell_type": "code",
   "execution_count": 1,
   "metadata": {},
   "outputs": [
    {
     "name": "stdout",
     "output_type": "stream",
     "text": [
      "['AAACA', 'AAACC', 'AAACT', 'AGACA', 'AGACC', 'AGACT', 'GAACA', 'GAACC', 'GAACT', 'GGACA', 'GGACC', 'GGACT', 'TAACA', 'TAACC', 'TAACT', 'TGACA', 'TGACC', 'TGACT']\n"
     ]
    }
   ],
   "source": [
    "# Define the possible nucleotides for each position\n",
    "D = ['A', 'G', 'T']\n",
    "R = ['A', 'G']\n",
    "A = ['A']\n",
    "C = ['C']\n",
    "H = ['A', 'C', 'T']\n",
    "\n",
    "# Initialize an empty list to store the DRACH motifs\n",
    "drach_motifs = []\n",
    "\n",
    "# Generate all combinations using nested loops\n",
    "for d in D:\n",
    "    for r in R: \n",
    "        for a in A:\n",
    "            for c in C:\n",
    "                for h in H:\n",
    "                    motif = d + r + a + c + h\n",
    "                    drach_motifs.append(motif)\n",
    "\n",
    "# Print the list of DRACH motifs\n",
    "print(drach_motifs)"
   ]
  },
  {
   "cell_type": "markdown",
   "metadata": {},
   "source": [
    "## Loading The Data"
   ]
  },
  {
   "cell_type": "code",
   "execution_count": 2,
   "metadata": {},
   "outputs": [],
   "source": [
    "import gzip\n",
    "import json\n",
    "import pandas as pd"
   ]
  },
  {
   "cell_type": "markdown",
   "metadata": {},
   "source": [
    "### `dataset0.json.gz`"
   ]
  },
  {
   "cell_type": "code",
   "execution_count": 3,
   "metadata": {},
   "outputs": [],
   "source": [
    "# Function to load data.json.gz file as dataframe\n",
    "def load_json_gz_to_dataframe(file_path):\n",
    "    data = []\n",
    "    with gzip.open(file_path) as f:\n",
    "        for line in f.readlines():\n",
    "            json_data = json.loads(line)\n",
    "            for transcript, positions in json_data.items():\n",
    "                for position, sequences in positions.items():\n",
    "                    position = int(position)\n",
    "                    for sequence, reads in sequences.items():\n",
    "                        data.append({\n",
    "                            'transcript_id': transcript,\n",
    "                            'position': position,\n",
    "                            'sequence': sequence,\n",
    "                            \"data\": reads\n",
    "                            })\n",
    "    return pd.DataFrame(data)"
   ]
  },
  {
   "cell_type": "code",
   "execution_count": 4,
   "metadata": {},
   "outputs": [
    {
     "data": {
      "text/html": [
       "<div>\n",
       "<style scoped>\n",
       "    .dataframe tbody tr th:only-of-type {\n",
       "        vertical-align: middle;\n",
       "    }\n",
       "\n",
       "    .dataframe tbody tr th {\n",
       "        vertical-align: top;\n",
       "    }\n",
       "\n",
       "    .dataframe thead th {\n",
       "        text-align: right;\n",
       "    }\n",
       "</style>\n",
       "<table border=\"1\" class=\"dataframe\">\n",
       "  <thead>\n",
       "    <tr style=\"text-align: right;\">\n",
       "      <th></th>\n",
       "      <th>transcript_id</th>\n",
       "      <th>position</th>\n",
       "      <th>sequence</th>\n",
       "      <th>data</th>\n",
       "    </tr>\n",
       "  </thead>\n",
       "  <tbody>\n",
       "    <tr>\n",
       "      <th>0</th>\n",
       "      <td>ENST00000000233</td>\n",
       "      <td>244</td>\n",
       "      <td>AAGACCA</td>\n",
       "      <td>[[0.00299, 2.06, 125.0, 0.0177, 10.4, 122.0, 0...</td>\n",
       "    </tr>\n",
       "    <tr>\n",
       "      <th>1</th>\n",
       "      <td>ENST00000000233</td>\n",
       "      <td>261</td>\n",
       "      <td>CAAACTG</td>\n",
       "      <td>[[0.0126, 1.95, 111.0, 0.0125, 1.27, 108.0, 0....</td>\n",
       "    </tr>\n",
       "    <tr>\n",
       "      <th>2</th>\n",
       "      <td>ENST00000000233</td>\n",
       "      <td>316</td>\n",
       "      <td>GAAACAG</td>\n",
       "      <td>[[0.00432, 2.02, 104.0, 0.00299, 3.56, 99.3, 0...</td>\n",
       "    </tr>\n",
       "  </tbody>\n",
       "</table>\n",
       "</div>"
      ],
      "text/plain": [
       "     transcript_id  position sequence  \\\n",
       "0  ENST00000000233       244  AAGACCA   \n",
       "1  ENST00000000233       261  CAAACTG   \n",
       "2  ENST00000000233       316  GAAACAG   \n",
       "\n",
       "                                                data  \n",
       "0  [[0.00299, 2.06, 125.0, 0.0177, 10.4, 122.0, 0...  \n",
       "1  [[0.0126, 1.95, 111.0, 0.0125, 1.27, 108.0, 0....  \n",
       "2  [[0.00432, 2.02, 104.0, 0.00299, 3.56, 99.3, 0...  "
      ]
     },
     "execution_count": 4,
     "metadata": {},
     "output_type": "execute_result"
    }
   ],
   "source": [
    "# Change the file path to the location of your dataset\n",
    "file_path = 'dataset0.json.gz'\n",
    "dataset = load_json_gz_to_dataframe(file_path)\n",
    "dataset.head(3)"
   ]
  },
  {
   "cell_type": "markdown",
   "metadata": {},
   "source": [
    "### `data.info.labelled`"
   ]
  },
  {
   "cell_type": "code",
   "execution_count": 5,
   "metadata": {},
   "outputs": [
    {
     "data": {
      "text/html": [
       "<div>\n",
       "<style scoped>\n",
       "    .dataframe tbody tr th:only-of-type {\n",
       "        vertical-align: middle;\n",
       "    }\n",
       "\n",
       "    .dataframe tbody tr th {\n",
       "        vertical-align: top;\n",
       "    }\n",
       "\n",
       "    .dataframe thead th {\n",
       "        text-align: right;\n",
       "    }\n",
       "</style>\n",
       "<table border=\"1\" class=\"dataframe\">\n",
       "  <thead>\n",
       "    <tr style=\"text-align: right;\">\n",
       "      <th></th>\n",
       "      <th>gene_id</th>\n",
       "      <th>transcript_id</th>\n",
       "      <th>transcript_position</th>\n",
       "      <th>label</th>\n",
       "    </tr>\n",
       "  </thead>\n",
       "  <tbody>\n",
       "    <tr>\n",
       "      <th>0</th>\n",
       "      <td>ENSG00000004059</td>\n",
       "      <td>ENST00000000233</td>\n",
       "      <td>244</td>\n",
       "      <td>0</td>\n",
       "    </tr>\n",
       "    <tr>\n",
       "      <th>1</th>\n",
       "      <td>ENSG00000004059</td>\n",
       "      <td>ENST00000000233</td>\n",
       "      <td>261</td>\n",
       "      <td>0</td>\n",
       "    </tr>\n",
       "    <tr>\n",
       "      <th>2</th>\n",
       "      <td>ENSG00000004059</td>\n",
       "      <td>ENST00000000233</td>\n",
       "      <td>316</td>\n",
       "      <td>0</td>\n",
       "    </tr>\n",
       "  </tbody>\n",
       "</table>\n",
       "</div>"
      ],
      "text/plain": [
       "           gene_id    transcript_id  transcript_position  label\n",
       "0  ENSG00000004059  ENST00000000233                  244      0\n",
       "1  ENSG00000004059  ENST00000000233                  261      0\n",
       "2  ENSG00000004059  ENST00000000233                  316      0"
      ]
     },
     "execution_count": 5,
     "metadata": {},
     "output_type": "execute_result"
    }
   ],
   "source": [
    "# Change the file path to the location of your labels\n",
    "file_path = 'data.info.labelled'\n",
    "labels = pd.read_csv(file_path)\n",
    "labels.head(3)"
   ]
  },
  {
   "cell_type": "markdown",
   "metadata": {},
   "source": [
    "## Exploratory Data Analysis, Feature Engineering & Data Preprocessing"
   ]
  },
  {
   "cell_type": "code",
   "execution_count": 6,
   "metadata": {},
   "outputs": [],
   "source": [
    "import numpy as np\n",
    "from matplotlib import pyplot as plt"
   ]
  },
  {
   "cell_type": "markdown",
   "metadata": {},
   "source": [
    "1. Take the mean of the reads for each row"
   ]
  },
  {
   "cell_type": "code",
   "execution_count": 7,
   "metadata": {},
   "outputs": [
    {
     "data": {
      "text/html": [
       "<div>\n",
       "<style scoped>\n",
       "    .dataframe tbody tr th:only-of-type {\n",
       "        vertical-align: middle;\n",
       "    }\n",
       "\n",
       "    .dataframe tbody tr th {\n",
       "        vertical-align: top;\n",
       "    }\n",
       "\n",
       "    .dataframe thead th {\n",
       "        text-align: right;\n",
       "    }\n",
       "</style>\n",
       "<table border=\"1\" class=\"dataframe\">\n",
       "  <thead>\n",
       "    <tr style=\"text-align: right;\">\n",
       "      <th></th>\n",
       "      <th>transcript_id</th>\n",
       "      <th>position</th>\n",
       "      <th>sequence</th>\n",
       "      <th>data</th>\n",
       "    </tr>\n",
       "  </thead>\n",
       "  <tbody>\n",
       "    <tr>\n",
       "      <th>0</th>\n",
       "      <td>ENST00000000233</td>\n",
       "      <td>244</td>\n",
       "      <td>AAGACCA</td>\n",
       "      <td>[0.008264378378378385, 4.223783783783786, 123....</td>\n",
       "    </tr>\n",
       "    <tr>\n",
       "      <th>1</th>\n",
       "      <td>ENST00000000233</td>\n",
       "      <td>261</td>\n",
       "      <td>CAAACTG</td>\n",
       "      <td>[0.006609244186046515, 3.2164244186046504, 109...</td>\n",
       "    </tr>\n",
       "    <tr>\n",
       "      <th>2</th>\n",
       "      <td>ENST00000000233</td>\n",
       "      <td>316</td>\n",
       "      <td>GAAACAG</td>\n",
       "      <td>[0.0075699999999999995, 2.94054054054054, 105....</td>\n",
       "    </tr>\n",
       "  </tbody>\n",
       "</table>\n",
       "</div>"
      ],
      "text/plain": [
       "     transcript_id  position sequence  \\\n",
       "0  ENST00000000233       244  AAGACCA   \n",
       "1  ENST00000000233       261  CAAACTG   \n",
       "2  ENST00000000233       316  GAAACAG   \n",
       "\n",
       "                                                data  \n",
       "0  [0.008264378378378385, 4.223783783783786, 123....  \n",
       "1  [0.006609244186046515, 3.2164244186046504, 109...  \n",
       "2  [0.0075699999999999995, 2.94054054054054, 105....  "
      ]
     },
     "execution_count": 7,
     "metadata": {},
     "output_type": "execute_result"
    }
   ],
   "source": [
    "# Create a copy of the dataset\n",
    "df = dataset.copy()\n",
    "\n",
    "# Take the mean of the reads\n",
    "df['data'] = df['data'].apply(lambda x: np.mean(x, axis=0))\n",
    "df.head(3)"
   ]
  },
  {
   "cell_type": "markdown",
   "metadata": {},
   "source": [
    "2. Scale the data"
   ]
  },
  {
   "cell_type": "code",
   "execution_count": 8,
   "metadata": {},
   "outputs": [],
   "source": [
    "from sklearn.preprocessing import StandardScaler\n",
    "import joblib"
   ]
  },
  {
   "cell_type": "code",
   "execution_count": 9,
   "metadata": {},
   "outputs": [],
   "source": [
    "# Extract the lists from the 'data' column\n",
    "data_lists = np.vstack(df['data'].values)\n",
    "\n",
    "# Initialize the StandardScaler\n",
    "scaler = StandardScaler()\n",
    "\n",
    "# Fit and transform the data\n",
    "data_scaled = scaler.fit_transform(data_lists)\n",
    "\n",
    "# Replace the original 'data' column with the scaled data\n",
    "df['data'] = list(data_scaled)\n",
    "\n",
    "# Save the scaler to a file\n",
    "# joblib.dump(scaler, 'scaler.pkl')"
   ]
  },
  {
   "cell_type": "markdown",
   "metadata": {},
   "source": [
    "3. Extract the middle 5-mers sequence"
   ]
  },
  {
   "cell_type": "code",
   "execution_count": 10,
   "metadata": {},
   "outputs": [
    {
     "data": {
      "text/html": [
       "<div>\n",
       "<style scoped>\n",
       "    .dataframe tbody tr th:only-of-type {\n",
       "        vertical-align: middle;\n",
       "    }\n",
       "\n",
       "    .dataframe tbody tr th {\n",
       "        vertical-align: top;\n",
       "    }\n",
       "\n",
       "    .dataframe thead th {\n",
       "        text-align: right;\n",
       "    }\n",
       "</style>\n",
       "<table border=\"1\" class=\"dataframe\">\n",
       "  <thead>\n",
       "    <tr style=\"text-align: right;\">\n",
       "      <th></th>\n",
       "      <th>transcript_id</th>\n",
       "      <th>position</th>\n",
       "      <th>sequence</th>\n",
       "      <th>data</th>\n",
       "    </tr>\n",
       "  </thead>\n",
       "  <tbody>\n",
       "    <tr>\n",
       "      <th>0</th>\n",
       "      <td>ENST00000000233</td>\n",
       "      <td>244</td>\n",
       "      <td>AGACC</td>\n",
       "      <td>[0.08776110205467978, -0.06111956233627649, 1....</td>\n",
       "    </tr>\n",
       "    <tr>\n",
       "      <th>1</th>\n",
       "      <td>ENST00000000233</td>\n",
       "      <td>261</td>\n",
       "      <td>AAACT</td>\n",
       "      <td>[-0.8386145009573266, -0.5813801345374859, -0....</td>\n",
       "    </tr>\n",
       "    <tr>\n",
       "      <th>2</th>\n",
       "      <td>ENST00000000233</td>\n",
       "      <td>316</td>\n",
       "      <td>AAACA</td>\n",
       "      <td>[-0.30088121587273425, -0.7238630549570515, -0...</td>\n",
       "    </tr>\n",
       "  </tbody>\n",
       "</table>\n",
       "</div>"
      ],
      "text/plain": [
       "     transcript_id  position sequence  \\\n",
       "0  ENST00000000233       244    AGACC   \n",
       "1  ENST00000000233       261    AAACT   \n",
       "2  ENST00000000233       316    AAACA   \n",
       "\n",
       "                                                data  \n",
       "0  [0.08776110205467978, -0.06111956233627649, 1....  \n",
       "1  [-0.8386145009573266, -0.5813801345374859, -0....  \n",
       "2  [-0.30088121587273425, -0.7238630549570515, -0...  "
      ]
     },
     "execution_count": 10,
     "metadata": {},
     "output_type": "execute_result"
    }
   ],
   "source": [
    "# Extract the middle 5-mers sequence\n",
    "df['sequence'] = df['sequence'].apply(lambda x: x[1:-1])\n",
    "df.head(3)"
   ]
  },
  {
   "cell_type": "code",
   "execution_count": 10,
   "metadata": {},
   "outputs": [
    {
     "data": {
      "text/plain": [
       "<Axes: xlabel='sequence'>"
      ]
     },
     "execution_count": 10,
     "metadata": {},
     "output_type": "execute_result"
    },
    {
     "data": {
      "image/png": "[encoded data removed]",
      "text/plain": [
       "<Figure size 640x480 with 1 Axes>"
      ]
     },
     "metadata": {},
     "output_type": "display_data"
    }
   ],
   "source": [
    "# Plot the distribution of sequence\n",
    "df['sequence'].value_counts().plot(kind='bar')"
   ]
  },
  {
   "cell_type": "markdown",
   "metadata": {},
   "source": [
    "4. Perform one-hot encoding on extracted 5-mers sequence"
   ]
  },
  {
   "cell_type": "code",
   "execution_count": 11,
   "metadata": {},
   "outputs": [],
   "source": [
    "from sklearn.preprocessing import OneHotEncoder"
   ]
  },
  {
   "cell_type": "code",
   "execution_count": 12,
   "metadata": {},
   "outputs": [
    {
     "data": {
      "text/html": [
       "<div>\n",
       "<style scoped>\n",
       "    .dataframe tbody tr th:only-of-type {\n",
       "        vertical-align: middle;\n",
       "    }\n",
       "\n",
       "    .dataframe tbody tr th {\n",
       "        vertical-align: top;\n",
       "    }\n",
       "\n",
       "    .dataframe thead th {\n",
       "        text-align: right;\n",
       "    }\n",
       "</style>\n",
       "<table border=\"1\" class=\"dataframe\">\n",
       "  <thead>\n",
       "    <tr style=\"text-align: right;\">\n",
       "      <th></th>\n",
       "      <th>transcript_id</th>\n",
       "      <th>position</th>\n",
       "      <th>sequence</th>\n",
       "      <th>data</th>\n",
       "      <th>one_hot_encoded</th>\n",
       "      <th>combined</th>\n",
       "    </tr>\n",
       "  </thead>\n",
       "  <tbody>\n",
       "    <tr>\n",
       "      <th>0</th>\n",
       "      <td>ENST00000000233</td>\n",
       "      <td>244</td>\n",
       "      <td>AGACC</td>\n",
       "      <td>[0.08776110205467978, -0.06111956233627649, 1....</td>\n",
       "      <td>[0.0, 0.0, 0.0, 0.0, 1.0, 0.0, 0.0, 0.0, 0.0, ...</td>\n",
       "      <td>[0.08776110205467978, -0.06111956233627649, 1....</td>\n",
       "    </tr>\n",
       "    <tr>\n",
       "      <th>1</th>\n",
       "      <td>ENST00000000233</td>\n",
       "      <td>261</td>\n",
       "      <td>AAACT</td>\n",
       "      <td>[-0.8386145009573266, -0.5813801345374859, -0....</td>\n",
       "      <td>[0.0, 0.0, 1.0, 0.0, 0.0, 0.0, 0.0, 0.0, 0.0, ...</td>\n",
       "      <td>[-0.8386145009573266, -0.5813801345374859, -0....</td>\n",
       "    </tr>\n",
       "    <tr>\n",
       "      <th>2</th>\n",
       "      <td>ENST00000000233</td>\n",
       "      <td>316</td>\n",
       "      <td>AAACA</td>\n",
       "      <td>[-0.30088121587273425, -0.7238630549570515, -0...</td>\n",
       "      <td>[1.0, 0.0, 0.0, 0.0, 0.0, 0.0, 0.0, 0.0, 0.0, ...</td>\n",
       "      <td>[-0.30088121587273425, -0.7238630549570515, -0...</td>\n",
       "    </tr>\n",
       "  </tbody>\n",
       "</table>\n",
       "</div>"
      ],
      "text/plain": [
       "     transcript_id  position sequence  \\\n",
       "0  ENST00000000233       244    AGACC   \n",
       "1  ENST00000000233       261    AAACT   \n",
       "2  ENST00000000233       316    AAACA   \n",
       "\n",
       "                                                data  \\\n",
       "0  [0.08776110205467978, -0.06111956233627649, 1....   \n",
       "1  [-0.8386145009573266, -0.5813801345374859, -0....   \n",
       "2  [-0.30088121587273425, -0.7238630549570515, -0...   \n",
       "\n",
       "                                     one_hot_encoded  \\\n",
       "0  [0.0, 0.0, 0.0, 0.0, 1.0, 0.0, 0.0, 0.0, 0.0, ...   \n",
       "1  [0.0, 0.0, 1.0, 0.0, 0.0, 0.0, 0.0, 0.0, 0.0, ...   \n",
       "2  [1.0, 0.0, 0.0, 0.0, 0.0, 0.0, 0.0, 0.0, 0.0, ...   \n",
       "\n",
       "                                            combined  \n",
       "0  [0.08776110205467978, -0.06111956233627649, 1....  \n",
       "1  [-0.8386145009573266, -0.5813801345374859, -0....  \n",
       "2  [-0.30088121587273425, -0.7238630549570515, -0...  "
      ]
     },
     "execution_count": 12,
     "metadata": {},
     "output_type": "execute_result"
    }
   ],
   "source": [
    "# Initialize the OneHotEncoder with DRACH motifs\n",
    "encoder = OneHotEncoder(categories=[drach_motifs])\n",
    "\n",
    "# Fit the encoder to 'sequence' and transform it into a one-hot encoded matrix\n",
    "one_hot_matrix = encoder.fit_transform(df[['sequence']])\n",
    "\n",
    "# Convert the one-hot encoded matrix into a column\n",
    "one_hot_column = pd.Series([list(row) for row in one_hot_matrix.toarray()])\n",
    "\n",
    "# Concatenate the one-hot encoded column to df\n",
    "df_encoded = pd.concat([df, one_hot_column.rename('one_hot_encoded')], axis=1)\n",
    "\n",
    "# Combine 'data' and 'one_hot_encoded' into a single list for each row\n",
    "df_encoded['combined'] = df_encoded.apply(lambda x: x['data'].tolist() + x['one_hot_encoded'], axis=1)\n",
    "\n",
    "df_encoded.head(3)"
   ]
  },
  {
   "cell_type": "markdown",
   "metadata": {},
   "source": [
    "5. Inner join the dataset and labels on the transcript id and position"
   ]
  },
  {
   "cell_type": "code",
   "execution_count": 13,
   "metadata": {},
   "outputs": [
    {
     "data": {
      "text/html": [
       "<div>\n",
       "<style scoped>\n",
       "    .dataframe tbody tr th:only-of-type {\n",
       "        vertical-align: middle;\n",
       "    }\n",
       "\n",
       "    .dataframe tbody tr th {\n",
       "        vertical-align: top;\n",
       "    }\n",
       "\n",
       "    .dataframe thead th {\n",
       "        text-align: right;\n",
       "    }\n",
       "</style>\n",
       "<table border=\"1\" class=\"dataframe\">\n",
       "  <thead>\n",
       "    <tr style=\"text-align: right;\">\n",
       "      <th></th>\n",
       "      <th>gene_id</th>\n",
       "      <th>transcript_id</th>\n",
       "      <th>position</th>\n",
       "      <th>sequence</th>\n",
       "      <th>data</th>\n",
       "      <th>one_hot_encoded</th>\n",
       "      <th>combined</th>\n",
       "      <th>label</th>\n",
       "    </tr>\n",
       "  </thead>\n",
       "  <tbody>\n",
       "    <tr>\n",
       "      <th>0</th>\n",
       "      <td>ENSG00000004059</td>\n",
       "      <td>ENST00000000233</td>\n",
       "      <td>244</td>\n",
       "      <td>AGACC</td>\n",
       "      <td>[0.08776110205467978, -0.06111956233627649, 1....</td>\n",
       "      <td>[0.0, 0.0, 0.0, 0.0, 1.0, 0.0, 0.0, 0.0, 0.0, ...</td>\n",
       "      <td>[0.08776110205467978, -0.06111956233627649, 1....</td>\n",
       "      <td>0</td>\n",
       "    </tr>\n",
       "    <tr>\n",
       "      <th>1</th>\n",
       "      <td>ENSG00000004059</td>\n",
       "      <td>ENST00000000233</td>\n",
       "      <td>261</td>\n",
       "      <td>AAACT</td>\n",
       "      <td>[-0.8386145009573266, -0.5813801345374859, -0....</td>\n",
       "      <td>[0.0, 0.0, 1.0, 0.0, 0.0, 0.0, 0.0, 0.0, 0.0, ...</td>\n",
       "      <td>[-0.8386145009573266, -0.5813801345374859, -0....</td>\n",
       "      <td>0</td>\n",
       "    </tr>\n",
       "    <tr>\n",
       "      <th>2</th>\n",
       "      <td>ENSG00000004059</td>\n",
       "      <td>ENST00000000233</td>\n",
       "      <td>316</td>\n",
       "      <td>AAACA</td>\n",
       "      <td>[-0.30088121587273425, -0.7238630549570515, -0...</td>\n",
       "      <td>[1.0, 0.0, 0.0, 0.0, 0.0, 0.0, 0.0, 0.0, 0.0, ...</td>\n",
       "      <td>[-0.30088121587273425, -0.7238630549570515, -0...</td>\n",
       "      <td>0</td>\n",
       "    </tr>\n",
       "  </tbody>\n",
       "</table>\n",
       "</div>"
      ],
      "text/plain": [
       "           gene_id    transcript_id  position sequence  \\\n",
       "0  ENSG00000004059  ENST00000000233       244    AGACC   \n",
       "1  ENSG00000004059  ENST00000000233       261    AAACT   \n",
       "2  ENSG00000004059  ENST00000000233       316    AAACA   \n",
       "\n",
       "                                                data  \\\n",
       "0  [0.08776110205467978, -0.06111956233627649, 1....   \n",
       "1  [-0.8386145009573266, -0.5813801345374859, -0....   \n",
       "2  [-0.30088121587273425, -0.7238630549570515, -0...   \n",
       "\n",
       "                                     one_hot_encoded  \\\n",
       "0  [0.0, 0.0, 0.0, 0.0, 1.0, 0.0, 0.0, 0.0, 0.0, ...   \n",
       "1  [0.0, 0.0, 1.0, 0.0, 0.0, 0.0, 0.0, 0.0, 0.0, ...   \n",
       "2  [1.0, 0.0, 0.0, 0.0, 0.0, 0.0, 0.0, 0.0, 0.0, ...   \n",
       "\n",
       "                                            combined  label  \n",
       "0  [0.08776110205467978, -0.06111956233627649, 1....      0  \n",
       "1  [-0.8386145009573266, -0.5813801345374859, -0....      0  \n",
       "2  [-0.30088121587273425, -0.7238630549570515, -0...      0  "
      ]
     },
     "execution_count": 13,
     "metadata": {},
     "output_type": "execute_result"
    }
   ],
   "source": [
    "# Inner join df on labels\n",
    "merged_df = pd.merge(df_encoded, labels,\n",
    "                     left_on  = ['transcript_id', 'position'],\n",
    "                     right_on = ['transcript_id', 'transcript_position'],\n",
    "                     how = 'left')\n",
    "\n",
    "# Drop the duplicate column and reorder the columns\n",
    "gene_id = merged_df['gene_id']\n",
    "merged_df = merged_df.drop(columns=['transcript_position', 'gene_id'])\n",
    "merged_df.insert(0, 'gene_id', gene_id)\n",
    "\n",
    "merged_df.head(3)"
   ]
  },
  {
   "cell_type": "markdown",
   "metadata": {},
   "source": [
    "6. Split the dataset into train and test sets by gene_id"
   ]
  },
  {
   "cell_type": "code",
   "execution_count": 14,
   "metadata": {},
   "outputs": [],
   "source": [
    "from sklearn.model_selection import train_test_split"
   ]
  },
  {
   "cell_type": "code",
   "execution_count": 15,
   "metadata": {},
   "outputs": [],
   "source": [
    "# Train-test split by gene_id\n",
    "train_genes, test_genes = train_test_split(labels['gene_id'].unique(), test_size=0.3, random_state=42)\n",
    "\n",
    "train_df = merged_df[merged_df['gene_id'].isin(train_genes)]\n",
    "test_df  = merged_df[merged_df['gene_id'].isin(test_genes)]\n",
    "\n",
    "X_train = np.vstack(train_df['combined'].values)\n",
    "y_train = train_df['label'].values\n",
    "\n",
    "X_test = np.vstack(test_df['combined'].values)\n",
    "y_test = test_df['label'].values"
   ]
  },
  {
   "cell_type": "markdown",
   "metadata": {},
   "source": [
    "7. Apply Synthetic Minority Over-sampling Technique (SMOTE)"
   ]
  },
  {
   "cell_type": "code",
   "execution_count": 16,
   "metadata": {},
   "outputs": [],
   "source": [
    "from imblearn.over_sampling import SMOTE"
   ]
  },
  {
   "cell_type": "code",
   "execution_count": 17,
   "metadata": {},
   "outputs": [
    {
     "name": "stdout",
     "output_type": "stream",
     "text": [
      "Proportion of positive labels before SMOTE: 0.0465\n"
     ]
    }
   ],
   "source": [
    "# Proportion of positive labels before SMOTE\n",
    "print(f'Proportion of positive labels before SMOTE: {np.mean(y_train):.4f}')"
   ]
  },
  {
   "cell_type": "code",
   "execution_count": 18,
   "metadata": {},
   "outputs": [
    {
     "name": "stderr",
     "output_type": "stream",
     "text": [
      "c:\\Users\\okk15\\AppData\\Local\\Programs\\Python\\Python312\\Lib\\site-packages\\joblib\\externals\\loky\\backend\\context.py:136: UserWarning: Could not find the number of physical cores for the following reason:\n",
      "found 0 physical cores < 1\n",
      "Returning the number of logical cores instead. You can silence this warning by setting LOKY_MAX_CPU_COUNT to the number of cores you want to use.\n",
      "  warnings.warn(\n",
      "  File \"c:\\Users\\okk15\\AppData\\Local\\Programs\\Python\\Python312\\Lib\\site-packages\\joblib\\externals\\loky\\backend\\context.py\", line 282, in _count_physical_cores\n",
      "    raise ValueError(f\"found {cpu_count_physical} physical cores < 1\")\n"
     ]
    }
   ],
   "source": [
    "# Simulate data with label 1 using SMOTE\n",
    "smote = SMOTE(random_state=42)\n",
    "X_resampled, y_resampled = smote.fit_resample(X_train, y_train)"
   ]
  },
  {
   "cell_type": "code",
   "execution_count": 19,
   "metadata": {},
   "outputs": [
    {
     "name": "stdout",
     "output_type": "stream",
     "text": [
      "Proportion of positive labels after SMOTE: 0.5000\n"
     ]
    }
   ],
   "source": [
    "# Proportion of positive labels after SMOTE\n",
    "print(f'Proportion of positive labels after SMOTE: {np.mean(y_resampled):.4f}')"
   ]
  },
  {
   "cell_type": "markdown",
   "metadata": {},
   "source": [
    "## Baseline Model: Logistic Regression"
   ]
  },
  {
   "cell_type": "code",
   "execution_count": 85,
   "metadata": {},
   "outputs": [],
   "source": [
    "from sklearn.model_selection import GridSearchCV\n",
    "from sklearn.linear_model import LogisticRegression"
   ]
  },
  {
   "cell_type": "markdown",
   "metadata": {},
   "source": [
    "Model Training"
   ]
  },
  {
   "cell_type": "code",
   "execution_count": 86,
   "metadata": {},
   "outputs": [
    {
     "name": "stdout",
     "output_type": "stream",
     "text": [
      "Best Parameters: {'C': 100, 'penalty': 'l2', 'solver': 'liblinear'}\n"
     ]
    }
   ],
   "source": [
    "# Initialize the logistic regression model\n",
    "log_reg_model = LogisticRegression()\n",
    "\n",
    "# Define the hyperparameters and their values for grid search\n",
    "param_grid = {\n",
    "    'C': [0.1, 1, 10, 100],  # C is the inverse of regularization strength\n",
    "    'penalty': ['l1', 'l2'], # l1 is Lasso, l2 is Ridge\n",
    "    'solver': ['liblinear']  # 'liblinear' supports both 'l1' and 'l2' penalties\n",
    "}\n",
    "\n",
    "# Use GridSearchCV for hyperparameter tuning\n",
    "# Use average precision as the scoring metric to handle imbalanced data\n",
    "grid_search = GridSearchCV(log_reg_model, param_grid, cv=5, scoring='average_precision')\n",
    "grid_search.fit(X_resampled, y_resampled)\n",
    "\n",
    "# Get the best parameters and the best model\n",
    "best_params = grid_search.best_params_\n",
    "best_log_reg_model = grid_search.best_estimator_\n",
    "\n",
    "print(\"Best Parameters:\", best_params)\n",
    "\n",
    "# Save the best logistic regression model to a file\n",
    "# joblib.dump(best_log_reg_model, 'best_log_reg_model.pkl')"
   ]
  },
  {
   "cell_type": "markdown",
   "metadata": {},
   "source": [
    "Model Evaluation"
   ]
  },
  {
   "cell_type": "code",
   "execution_count": 87,
   "metadata": {},
   "outputs": [],
   "source": [
    "from sklearn.metrics import average_precision_score, precision_recall_curve, auc"
   ]
  },
  {
   "cell_type": "code",
   "execution_count": 88,
   "metadata": {},
   "outputs": [
    {
     "data": {
      "text/html": [
       "<style>#sk-container-id-1 {\n",
       "  /* Definition of color scheme common for light and dark mode */\n",
       "  --sklearn-color-text: black;\n",
       "  --sklearn-color-line: gray;\n",
       "  /* Definition of color scheme for unfitted estimators */\n",
       "  --sklearn-color-unfitted-level-0: #fff5e6;\n",
       "  --sklearn-color-unfitted-level-1: #f6e4d2;\n",
       "  --sklearn-color-unfitted-level-2: #ffe0b3;\n",
       "  --sklearn-color-unfitted-level-3: chocolate;\n",
       "  /* Definition of color scheme for fitted estimators */\n",
       "  --sklearn-color-fitted-level-0: #f0f8ff;\n",
       "  --sklearn-color-fitted-level-1: #d4ebff;\n",
       "  --sklearn-color-fitted-level-2: #b3dbfd;\n",
       "  --sklearn-color-fitted-level-3: cornflowerblue;\n",
       "\n",
       "  /* Specific color for light theme */\n",
       "  --sklearn-color-text-on-default-background: var(--sg-text-color, var(--theme-code-foreground, var(--jp-content-font-color1, black)));\n",
       "  --sklearn-color-background: var(--sg-background-color, var(--theme-background, var(--jp-layout-color0, white)));\n",
       "  --sklearn-color-border-box: var(--sg-text-color, var(--theme-code-foreground, var(--jp-content-font-color1, black)));\n",
       "  --sklearn-color-icon: #696969;\n",
       "\n",
       "  @media (prefers-color-scheme: dark) {\n",
       "    /* Redefinition of color scheme for dark theme */\n",
       "    --sklearn-color-text-on-default-background: var(--sg-text-color, var(--theme-code-foreground, var(--jp-content-font-color1, white)));\n",
       "    --sklearn-color-background: var(--sg-background-color, var(--theme-background, var(--jp-layout-color0, #111)));\n",
       "    --sklearn-color-border-box: var(--sg-text-color, var(--theme-code-foreground, var(--jp-content-font-color1, white)));\n",
       "    --sklearn-color-icon: #878787;\n",
       "  }\n",
       "}\n",
       "\n",
       "#sk-container-id-1 {\n",
       "  color: var(--sklearn-color-text);\n",
       "}\n",
       "\n",
       "#sk-container-id-1 pre {\n",
       "  padding: 0;\n",
       "}\n",
       "\n",
       "#sk-container-id-1 input.sk-hidden--visually {\n",
       "  border: 0;\n",
       "  clip: rect(1px 1px 1px 1px);\n",
       "  clip: rect(1px, 1px, 1px, 1px);\n",
       "  height: 1px;\n",
       "  margin: -1px;\n",
       "  overflow: hidden;\n",
       "  padding: 0;\n",
       "  position: absolute;\n",
       "  width: 1px;\n",
       "}\n",
       "\n",
       "#sk-container-id-1 div.sk-dashed-wrapped {\n",
       "  border: 1px dashed var(--sklearn-color-line);\n",
       "  margin: 0 0.4em 0.5em 0.4em;\n",
       "  box-sizing: border-box;\n",
       "  padding-bottom: 0.4em;\n",
       "  background-color: var(--sklearn-color-background);\n",
       "}\n",
       "\n",
       "#sk-container-id-1 div.sk-container {\n",
       "  /* jupyter's `normalize.less` sets `[hidden] { display: none; }`\n",
       "     but bootstrap.min.css set `[hidden] { display: none !important; }`\n",
       "     so we also need the `!important` here to be able to override the\n",
       "     default hidden behavior on the sphinx rendered scikit-learn.org.\n",
       "     See: https://github.com/scikit-learn/scikit-learn/issues/21755 */\n",
       "  display: inline-block !important;\n",
       "  position: relative;\n",
       "}\n",
       "\n",
       "#sk-container-id-1 div.sk-text-repr-fallback {\n",
       "  display: none;\n",
       "}\n",
       "\n",
       "div.sk-parallel-item,\n",
       "div.sk-serial,\n",
       "div.sk-item {\n",
       "  /* draw centered vertical line to link estimators */\n",
       "  background-image: linear-gradient(var(--sklearn-color-text-on-default-background), var(--sklearn-color-text-on-default-background));\n",
       "  background-size: 2px 100%;\n",
       "  background-repeat: no-repeat;\n",
       "  background-position: center center;\n",
       "}\n",
       "\n",
       "/* Parallel-specific style estimator block */\n",
       "\n",
       "#sk-container-id-1 div.sk-parallel-item::after {\n",
       "  content: \"\";\n",
       "  width: 100%;\n",
       "  border-bottom: 2px solid var(--sklearn-color-text-on-default-background);\n",
       "  flex-grow: 1;\n",
       "}\n",
       "\n",
       "#sk-container-id-1 div.sk-parallel {\n",
       "  display: flex;\n",
       "  align-items: stretch;\n",
       "  justify-content: center;\n",
       "  background-color: var(--sklearn-color-background);\n",
       "  position: relative;\n",
       "}\n",
       "\n",
       "#sk-container-id-1 div.sk-parallel-item {\n",
       "  display: flex;\n",
       "  flex-direction: column;\n",
       "}\n",
       "\n",
       "#sk-container-id-1 div.sk-parallel-item:first-child::after {\n",
       "  align-self: flex-end;\n",
       "  width: 50%;\n",
       "}\n",
       "\n",
       "#sk-container-id-1 div.sk-parallel-item:last-child::after {\n",
       "  align-self: flex-start;\n",
       "  width: 50%;\n",
       "}\n",
       "\n",
       "#sk-container-id-1 div.sk-parallel-item:only-child::after {\n",
       "  width: 0;\n",
       "}\n",
       "\n",
       "/* Serial-specific style estimator block */\n",
       "\n",
       "#sk-container-id-1 div.sk-serial {\n",
       "  display: flex;\n",
       "  flex-direction: column;\n",
       "  align-items: center;\n",
       "  background-color: var(--sklearn-color-background);\n",
       "  padding-right: 1em;\n",
       "  padding-left: 1em;\n",
       "}\n",
       "\n",
       "\n",
       "/* Toggleable style: style used for estimator/Pipeline/ColumnTransformer box that is\n",
       "clickable and can be expanded/collapsed.\n",
       "- Pipeline and ColumnTransformer use this feature and define the default style\n",
       "- Estimators will overwrite some part of the style using the `sk-estimator` class\n",
       "*/\n",
       "\n",
       "/* Pipeline and ColumnTransformer style (default) */\n",
       "\n",
       "#sk-container-id-1 div.sk-toggleable {\n",
       "  /* Default theme specific background. It is overwritten whether we have a\n",
       "  specific estimator or a Pipeline/ColumnTransformer */\n",
       "  background-color: var(--sklearn-color-background);\n",
       "}\n",
       "\n",
       "/* Toggleable label */\n",
       "#sk-container-id-1 label.sk-toggleable__label {\n",
       "  cursor: pointer;\n",
       "  display: block;\n",
       "  width: 100%;\n",
       "  margin-bottom: 0;\n",
       "  padding: 0.5em;\n",
       "  box-sizing: border-box;\n",
       "  text-align: center;\n",
       "}\n",
       "\n",
       "#sk-container-id-1 label.sk-toggleable__label-arrow:before {\n",
       "  /* Arrow on the left of the label */\n",
       "  content: \"▸\";\n",
       "  float: left;\n",
       "  margin-right: 0.25em;\n",
       "  color: var(--sklearn-color-icon);\n",
       "}\n",
       "\n",
       "#sk-container-id-1 label.sk-toggleable__label-arrow:hover:before {\n",
       "  color: var(--sklearn-color-text);\n",
       "}\n",
       "\n",
       "/* Toggleable content - dropdown */\n",
       "\n",
       "#sk-container-id-1 div.sk-toggleable__content {\n",
       "  max-height: 0;\n",
       "  max-width: 0;\n",
       "  overflow: hidden;\n",
       "  text-align: left;\n",
       "  /* unfitted */\n",
       "  background-color: var(--sklearn-color-unfitted-level-0);\n",
       "}\n",
       "\n",
       "#sk-container-id-1 div.sk-toggleable__content.fitted {\n",
       "  /* fitted */\n",
       "  background-color: var(--sklearn-color-fitted-level-0);\n",
       "}\n",
       "\n",
       "#sk-container-id-1 div.sk-toggleable__content pre {\n",
       "  margin: 0.2em;\n",
       "  border-radius: 0.25em;\n",
       "  color: var(--sklearn-color-text);\n",
       "  /* unfitted */\n",
       "  background-color: var(--sklearn-color-unfitted-level-0);\n",
       "}\n",
       "\n",
       "#sk-container-id-1 div.sk-toggleable__content.fitted pre {\n",
       "  /* unfitted */\n",
       "  background-color: var(--sklearn-color-fitted-level-0);\n",
       "}\n",
       "\n",
       "#sk-container-id-1 input.sk-toggleable__control:checked~div.sk-toggleable__content {\n",
       "  /* Expand drop-down */\n",
       "  max-height: 200px;\n",
       "  max-width: 100%;\n",
       "  overflow: auto;\n",
       "}\n",
       "\n",
       "#sk-container-id-1 input.sk-toggleable__control:checked~label.sk-toggleable__label-arrow:before {\n",
       "  content: \"▾\";\n",
       "}\n",
       "\n",
       "/* Pipeline/ColumnTransformer-specific style */\n",
       "\n",
       "#sk-container-id-1 div.sk-label input.sk-toggleable__control:checked~label.sk-toggleable__label {\n",
       "  color: var(--sklearn-color-text);\n",
       "  background-color: var(--sklearn-color-unfitted-level-2);\n",
       "}\n",
       "\n",
       "#sk-container-id-1 div.sk-label.fitted input.sk-toggleable__control:checked~label.sk-toggleable__label {\n",
       "  background-color: var(--sklearn-color-fitted-level-2);\n",
       "}\n",
       "\n",
       "/* Estimator-specific style */\n",
       "\n",
       "/* Colorize estimator box */\n",
       "#sk-container-id-1 div.sk-estimator input.sk-toggleable__control:checked~label.sk-toggleable__label {\n",
       "  /* unfitted */\n",
       "  background-color: var(--sklearn-color-unfitted-level-2);\n",
       "}\n",
       "\n",
       "#sk-container-id-1 div.sk-estimator.fitted input.sk-toggleable__control:checked~label.sk-toggleable__label {\n",
       "  /* fitted */\n",
       "  background-color: var(--sklearn-color-fitted-level-2);\n",
       "}\n",
       "\n",
       "#sk-container-id-1 div.sk-label label.sk-toggleable__label,\n",
       "#sk-container-id-1 div.sk-label label {\n",
       "  /* The background is the default theme color */\n",
       "  color: var(--sklearn-color-text-on-default-background);\n",
       "}\n",
       "\n",
       "/* On hover, darken the color of the background */\n",
       "#sk-container-id-1 div.sk-label:hover label.sk-toggleable__label {\n",
       "  color: var(--sklearn-color-text);\n",
       "  background-color: var(--sklearn-color-unfitted-level-2);\n",
       "}\n",
       "\n",
       "/* Label box, darken color on hover, fitted */\n",
       "#sk-container-id-1 div.sk-label.fitted:hover label.sk-toggleable__label.fitted {\n",
       "  color: var(--sklearn-color-text);\n",
       "  background-color: var(--sklearn-color-fitted-level-2);\n",
       "}\n",
       "\n",
       "/* Estimator label */\n",
       "\n",
       "#sk-container-id-1 div.sk-label label {\n",
       "  font-family: monospace;\n",
       "  font-weight: bold;\n",
       "  display: inline-block;\n",
       "  line-height: 1.2em;\n",
       "}\n",
       "\n",
       "#sk-container-id-1 div.sk-label-container {\n",
       "  text-align: center;\n",
       "}\n",
       "\n",
       "/* Estimator-specific */\n",
       "#sk-container-id-1 div.sk-estimator {\n",
       "  font-family: monospace;\n",
       "  border: 1px dotted var(--sklearn-color-border-box);\n",
       "  border-radius: 0.25em;\n",
       "  box-sizing: border-box;\n",
       "  margin-bottom: 0.5em;\n",
       "  /* unfitted */\n",
       "  background-color: var(--sklearn-color-unfitted-level-0);\n",
       "}\n",
       "\n",
       "#sk-container-id-1 div.sk-estimator.fitted {\n",
       "  /* fitted */\n",
       "  background-color: var(--sklearn-color-fitted-level-0);\n",
       "}\n",
       "\n",
       "/* on hover */\n",
       "#sk-container-id-1 div.sk-estimator:hover {\n",
       "  /* unfitted */\n",
       "  background-color: var(--sklearn-color-unfitted-level-2);\n",
       "}\n",
       "\n",
       "#sk-container-id-1 div.sk-estimator.fitted:hover {\n",
       "  /* fitted */\n",
       "  background-color: var(--sklearn-color-fitted-level-2);\n",
       "}\n",
       "\n",
       "/* Specification for estimator info (e.g. \"i\" and \"?\") */\n",
       "\n",
       "/* Common style for \"i\" and \"?\" */\n",
       "\n",
       ".sk-estimator-doc-link,\n",
       "a:link.sk-estimator-doc-link,\n",
       "a:visited.sk-estimator-doc-link {\n",
       "  float: right;\n",
       "  font-size: smaller;\n",
       "  line-height: 1em;\n",
       "  font-family: monospace;\n",
       "  background-color: var(--sklearn-color-background);\n",
       "  border-radius: 1em;\n",
       "  height: 1em;\n",
       "  width: 1em;\n",
       "  text-decoration: none !important;\n",
       "  margin-left: 1ex;\n",
       "  /* unfitted */\n",
       "  border: var(--sklearn-color-unfitted-level-1) 1pt solid;\n",
       "  color: var(--sklearn-color-unfitted-level-1);\n",
       "}\n",
       "\n",
       ".sk-estimator-doc-link.fitted,\n",
       "a:link.sk-estimator-doc-link.fitted,\n",
       "a:visited.sk-estimator-doc-link.fitted {\n",
       "  /* fitted */\n",
       "  border: var(--sklearn-color-fitted-level-1) 1pt solid;\n",
       "  color: var(--sklearn-color-fitted-level-1);\n",
       "}\n",
       "\n",
       "/* On hover */\n",
       "div.sk-estimator:hover .sk-estimator-doc-link:hover,\n",
       ".sk-estimator-doc-link:hover,\n",
       "div.sk-label-container:hover .sk-estimator-doc-link:hover,\n",
       ".sk-estimator-doc-link:hover {\n",
       "  /* unfitted */\n",
       "  background-color: var(--sklearn-color-unfitted-level-3);\n",
       "  color: var(--sklearn-color-background);\n",
       "  text-decoration: none;\n",
       "}\n",
       "\n",
       "div.sk-estimator.fitted:hover .sk-estimator-doc-link.fitted:hover,\n",
       ".sk-estimator-doc-link.fitted:hover,\n",
       "div.sk-label-container:hover .sk-estimator-doc-link.fitted:hover,\n",
       ".sk-estimator-doc-link.fitted:hover {\n",
       "  /* fitted */\n",
       "  background-color: var(--sklearn-color-fitted-level-3);\n",
       "  color: var(--sklearn-color-background);\n",
       "  text-decoration: none;\n",
       "}\n",
       "\n",
       "/* Span, style for the box shown on hovering the info icon */\n",
       ".sk-estimator-doc-link span {\n",
       "  display: none;\n",
       "  z-index: 9999;\n",
       "  position: relative;\n",
       "  font-weight: normal;\n",
       "  right: .2ex;\n",
       "  padding: .5ex;\n",
       "  margin: .5ex;\n",
       "  width: min-content;\n",
       "  min-width: 20ex;\n",
       "  max-width: 50ex;\n",
       "  color: var(--sklearn-color-text);\n",
       "  box-shadow: 2pt 2pt 4pt #999;\n",
       "  /* unfitted */\n",
       "  background: var(--sklearn-color-unfitted-level-0);\n",
       "  border: .5pt solid var(--sklearn-color-unfitted-level-3);\n",
       "}\n",
       "\n",
       ".sk-estimator-doc-link.fitted span {\n",
       "  /* fitted */\n",
       "  background: var(--sklearn-color-fitted-level-0);\n",
       "  border: var(--sklearn-color-fitted-level-3);\n",
       "}\n",
       "\n",
       ".sk-estimator-doc-link:hover span {\n",
       "  display: block;\n",
       "}\n",
       "\n",
       "/* \"?\"-specific style due to the `<a>` HTML tag */\n",
       "\n",
       "#sk-container-id-1 a.estimator_doc_link {\n",
       "  float: right;\n",
       "  font-size: 1rem;\n",
       "  line-height: 1em;\n",
       "  font-family: monospace;\n",
       "  background-color: var(--sklearn-color-background);\n",
       "  border-radius: 1rem;\n",
       "  height: 1rem;\n",
       "  width: 1rem;\n",
       "  text-decoration: none;\n",
       "  /* unfitted */\n",
       "  color: var(--sklearn-color-unfitted-level-1);\n",
       "  border: var(--sklearn-color-unfitted-level-1) 1pt solid;\n",
       "}\n",
       "\n",
       "#sk-container-id-1 a.estimator_doc_link.fitted {\n",
       "  /* fitted */\n",
       "  border: var(--sklearn-color-fitted-level-1) 1pt solid;\n",
       "  color: var(--sklearn-color-fitted-level-1);\n",
       "}\n",
       "\n",
       "/* On hover */\n",
       "#sk-container-id-1 a.estimator_doc_link:hover {\n",
       "  /* unfitted */\n",
       "  background-color: var(--sklearn-color-unfitted-level-3);\n",
       "  color: var(--sklearn-color-background);\n",
       "  text-decoration: none;\n",
       "}\n",
       "\n",
       "#sk-container-id-1 a.estimator_doc_link.fitted:hover {\n",
       "  /* fitted */\n",
       "  background-color: var(--sklearn-color-fitted-level-3);\n",
       "}\n",
       "</style><div id=\"sk-container-id-1\" class=\"sk-top-container\"><div class=\"sk-text-repr-fallback\"><pre>LogisticRegression(C=10, penalty=&#x27;l1&#x27;, solver=&#x27;liblinear&#x27;)</pre><b>In a Jupyter environment, please rerun this cell to show the HTML representation or trust the notebook. <br />On GitHub, the HTML representation is unable to render, please try loading this page with nbviewer.org.</b></div><div class=\"sk-container\" hidden><div class=\"sk-item\"><div class=\"sk-estimator fitted sk-toggleable\"><input class=\"sk-toggleable__control sk-hidden--visually\" id=\"sk-estimator-id-1\" type=\"checkbox\" checked><label for=\"sk-estimator-id-1\" class=\"sk-toggleable__label fitted sk-toggleable__label-arrow fitted\">&nbsp;&nbsp;LogisticRegression<a class=\"sk-estimator-doc-link fitted\" rel=\"noreferrer\" target=\"_blank\" href=\"https://scikit-learn.org/1.4/modules/generated/sklearn.linear_model.LogisticRegression.html\">?<span>Documentation for LogisticRegression</span></a><span class=\"sk-estimator-doc-link fitted\">i<span>Fitted</span></span></label><div class=\"sk-toggleable__content fitted\"><pre>LogisticRegression(C=10, penalty=&#x27;l1&#x27;, solver=&#x27;liblinear&#x27;)</pre></div> </div></div></div></div>"
      ],
      "text/plain": [
       "LogisticRegression(C=10, penalty='l1', solver='liblinear')"
      ]
     },
     "execution_count": 88,
     "metadata": {},
     "output_type": "execute_result"
    }
   ],
   "source": [
    "# Create the best logistic regression model if not loaded\n",
    "# From file\n",
    "# best_log_reg_model = joblib.load('best_log_reg_model.pkl')\n",
    "\n",
    "# Best Parameters: {'C': 10, 'penalty': 'l1', 'solver': 'liblinear'}\n",
    "best_log_reg_model = LogisticRegression(C=10, penalty='l1', solver='liblinear')\n",
    "\n",
    "# Fit the model\n",
    "best_log_reg_model.fit(X_resampled, y_resampled)"
   ]
  },
  {
   "cell_type": "code",
   "execution_count": 89,
   "metadata": {},
   "outputs": [
    {
     "name": "stdout",
     "output_type": "stream",
     "text": [
      "Average Precision Score (Logistic Regression): 0.12567503367438\n"
     ]
    },
    {
     "data": {
      "image/png": "[encoded data removed]",
      "text/plain": [
       "<Figure size 800x600 with 1 Axes>"
      ]
     },
     "metadata": {},
     "output_type": "display_data"
    },
    {
     "name": "stdout",
     "output_type": "stream",
     "text": [
      "AUC-PR Score (Logistic Regression): 0.40014513763338466\n"
     ]
    }
   ],
   "source": [
    "# Get the class prediction\n",
    "y_pred_lr = best_log_reg_model.predict(X_test)\n",
    "\n",
    "# Calculate the average precision score\n",
    "average_precision_lr = average_precision_score(y_test, y_pred_lr)\n",
    "print(\"Average Precision Score (Logistic Regression):\", average_precision_lr)\n",
    "\n",
    "# Get the probabilities for the positive class\n",
    "y_scores_lr = best_log_reg_model.predict_proba(X_test)[:, 1]\n",
    "\n",
    "# Calculate precision and recall\n",
    "precision_lr, recall_lr, thresholds_lr = precision_recall_curve(y_test, y_scores_lr)\n",
    "\n",
    "# Calculate the AUC for the Precision-Recall curve\n",
    "auc_pr_lr = auc(recall_lr, precision_lr)\n",
    "\n",
    "# Plot the Precision-Recall curve\n",
    "plt.figure(figsize=(8, 6))\n",
    "plt.plot(recall_lr, precision_lr, marker='.', label=f'AUC PR = {auc_pr_lr:.2f}')\n",
    "plt.title('Precision vs Recall Curve (Logistic Regression)')\n",
    "plt.xlabel('Recall')\n",
    "plt.ylabel('Precision')\n",
    "plt.grid()\n",
    "plt.xlim([0, 1])\n",
    "plt.ylim([0, 1])\n",
    "plt.axhline(y=0.5, color='r', linestyle='--')  # Reference line for 0.5 precision\n",
    "plt.axvline(x=0.5, color='g', linestyle='--')  # Reference line for 0.5 recall\n",
    "plt.legend()\n",
    "plt.show()\n",
    "\n",
    "# Print AUC PR score\n",
    "print(\"AUC-PR Score (Logistic Regression):\", auc_pr_lr)"
   ]
  },
  {
   "cell_type": "markdown",
   "metadata": {},
   "source": [
    "## Advanced Model: Some neural network"
   ]
  },
  {
   "cell_type": "code",
   "execution_count": 20,
   "metadata": {},
   "outputs": [
    {
     "name": "stderr",
     "output_type": "stream",
     "text": [
      "c:\\Users\\okk15\\AppData\\Local\\Programs\\Python\\Python312\\Lib\\site-packages\\tqdm\\auto.py:21: TqdmWarning: IProgress not found. Please update jupyter and ipywidgets. See https://ipywidgets.readthedocs.io/en/stable/user_install.html\n",
      "  from .autonotebook import tqdm as notebook_tqdm\n"
     ]
    }
   ],
   "source": [
    "import optuna\n",
    "from tensorflow.keras.models import Sequential\n",
    "from tensorflow.keras.layers import Dense, Dropout, Input\n",
    "from keras.optimizers import Adam\n",
    "from sklearn.metrics import roc_auc_score\n",
    "from tensorflow.keras.callbacks import ModelCheckpoint\n",
    "from tensorflow.keras.metrics import AUC"
   ]
  },
  {
   "cell_type": "markdown",
   "metadata": {},
   "source": [
    "Model Creation"
   ]
  },
  {
   "cell_type": "code",
   "execution_count": 66,
   "metadata": {},
   "outputs": [
    {
     "name": "stderr",
     "output_type": "stream",
     "text": [
      "[I 2024-10-12 17:30:53,355] A new study created in memory with name: no-name-d6764b25-528a-45c9-97b0-f43e80afa6a3\n"
     ]
    },
    {
     "name": "stdout",
     "output_type": "stream",
     "text": [
      "\u001b[1m5043/5043\u001b[0m \u001b[32m━━━━━━━━━━━━━━━━━━━━\u001b[0m\u001b[37m\u001b[0m \u001b[1m3s\u001b[0m 525us/step\n"
     ]
    },
    {
     "name": "stderr",
     "output_type": "stream",
     "text": [
      "[I 2024-10-12 17:31:37,949] Trial 0 finished with value: 0.9239562815339873 and parameters: {'num_layers': 3, 'units_0': 160, 'activation_0': 'tanh', 'dropout_0': 0.25841667078055486, 'units_1': 224, 'activation_1': 'sigmoid', 'dropout_1': 0.14772994166293868, 'units_2': 64, 'activation_2': 'tanh', 'dropout_2': 0.09799975357600182, 'learning_rate': 0.008840653023000708}. Best is trial 0 with value: 0.9239562815339873.\n"
     ]
    },
    {
     "name": "stdout",
     "output_type": "stream",
     "text": [
      "\u001b[1m5043/5043\u001b[0m \u001b[32m━━━━━━━━━━━━━━━━━━━━\u001b[0m\u001b[37m\u001b[0m \u001b[1m3s\u001b[0m 550us/step\n"
     ]
    },
    {
     "name": "stderr",
     "output_type": "stream",
     "text": [
      "[I 2024-10-12 17:32:20,288] Trial 1 finished with value: 0.932811114968377 and parameters: {'num_layers': 2, 'units_0': 224, 'activation_0': 'tanh', 'dropout_0': 0.4465885155829479, 'units_1': 224, 'activation_1': 'sigmoid', 'dropout_1': 0.08763971777269663, 'learning_rate': 0.00397761144500326}. Best is trial 1 with value: 0.932811114968377.\n"
     ]
    },
    {
     "name": "stdout",
     "output_type": "stream",
     "text": [
      "\u001b[1m5043/5043\u001b[0m \u001b[32m━━━━━━━━━━━━━━━━━━━━\u001b[0m\u001b[37m\u001b[0m \u001b[1m3s\u001b[0m 495us/step\n"
     ]
    },
    {
     "name": "stderr",
     "output_type": "stream",
     "text": [
      "[I 2024-10-12 17:33:01,514] Trial 2 finished with value: 0.8910717235441439 and parameters: {'num_layers': 3, 'units_0': 256, 'activation_0': 'relu', 'dropout_0': 0.11321063137321291, 'units_1': 32, 'activation_1': 'relu', 'dropout_1': 0.2741512712398973, 'units_2': 128, 'activation_2': 'tanh', 'dropout_2': 0.29951397221289205, 'learning_rate': 0.008107590064269754}. Best is trial 1 with value: 0.932811114968377.\n"
     ]
    },
    {
     "name": "stdout",
     "output_type": "stream",
     "text": [
      "\u001b[1m5043/5043\u001b[0m \u001b[32m━━━━━━━━━━━━━━━━━━━━\u001b[0m\u001b[37m\u001b[0m \u001b[1m3s\u001b[0m 516us/step\n"
     ]
    },
    {
     "name": "stderr",
     "output_type": "stream",
     "text": [
      "[I 2024-10-12 17:33:38,021] Trial 3 finished with value: 0.8918905283371481 and parameters: {'num_layers': 2, 'units_0': 32, 'activation_0': 'tanh', 'dropout_0': 0.22761968309547248, 'units_1': 160, 'activation_1': 'tanh', 'dropout_1': 0.03710957685569516, 'learning_rate': 0.00019129428172166705}. Best is trial 1 with value: 0.932811114968377.\n"
     ]
    },
    {
     "name": "stdout",
     "output_type": "stream",
     "text": [
      "\u001b[1m5043/5043\u001b[0m \u001b[32m━━━━━━━━━━━━━━━━━━━━\u001b[0m\u001b[37m\u001b[0m \u001b[1m3s\u001b[0m 502us/step\n"
     ]
    },
    {
     "name": "stderr",
     "output_type": "stream",
     "text": [
      "[I 2024-10-12 17:34:16,147] Trial 4 finished with value: 0.878675996018821 and parameters: {'num_layers': 2, 'units_0': 224, 'activation_0': 'sigmoid', 'dropout_0': 0.43115201907208034, 'units_1': 64, 'activation_1': 'tanh', 'dropout_1': 0.46258418608596474, 'learning_rate': 0.00041241608926509074}. Best is trial 1 with value: 0.932811114968377.\n"
     ]
    },
    {
     "name": "stdout",
     "output_type": "stream",
     "text": [
      "\u001b[1m5043/5043\u001b[0m \u001b[32m━━━━━━━━━━━━━━━━━━━━\u001b[0m\u001b[37m\u001b[0m \u001b[1m3s\u001b[0m 518us/step\n"
     ]
    },
    {
     "name": "stderr",
     "output_type": "stream",
     "text": [
      "[I 2024-10-12 17:34:56,943] Trial 5 finished with value: 0.9454326276969045 and parameters: {'num_layers': 2, 'units_0': 160, 'activation_0': 'relu', 'dropout_0': 0.3530259658761528, 'units_1': 224, 'activation_1': 'relu', 'dropout_1': 0.46646509988895984, 'learning_rate': 0.0013802351294901387}. Best is trial 5 with value: 0.9454326276969045.\n"
     ]
    },
    {
     "name": "stdout",
     "output_type": "stream",
     "text": [
      "\u001b[1m5043/5043\u001b[0m \u001b[32m━━━━━━━━━━━━━━━━━━━━\u001b[0m\u001b[37m\u001b[0m \u001b[1m3s\u001b[0m 515us/step\n"
     ]
    },
    {
     "name": "stderr",
     "output_type": "stream",
     "text": [
      "[I 2024-10-12 17:35:37,352] Trial 6 finished with value: 0.8708059586010568 and parameters: {'num_layers': 3, 'units_0': 64, 'activation_0': 'sigmoid', 'dropout_0': 0.028240334347406693, 'units_1': 96, 'activation_1': 'sigmoid', 'dropout_1': 0.08245640795482712, 'units_2': 64, 'activation_2': 'tanh', 'dropout_2': 0.45204954917930495, 'learning_rate': 0.00012975745569493414}. Best is trial 5 with value: 0.9454326276969045.\n"
     ]
    },
    {
     "name": "stdout",
     "output_type": "stream",
     "text": [
      "\u001b[1m5043/5043\u001b[0m \u001b[32m━━━━━━━━━━━━━━━━━━━━\u001b[0m\u001b[37m\u001b[0m \u001b[1m2s\u001b[0m 487us/step\n"
     ]
    },
    {
     "name": "stderr",
     "output_type": "stream",
     "text": [
      "[I 2024-10-12 17:36:13,901] Trial 7 finished with value: 0.9561242574512189 and parameters: {'num_layers': 2, 'units_0': 128, 'activation_0': 'relu', 'dropout_0': 0.1880448819631122, 'units_1': 96, 'activation_1': 'relu', 'dropout_1': 0.010390332231766886, 'learning_rate': 0.004748298653894996}. Best is trial 7 with value: 0.9561242574512189.\n"
     ]
    },
    {
     "name": "stdout",
     "output_type": "stream",
     "text": [
      "\u001b[1m5043/5043\u001b[0m \u001b[32m━━━━━━━━━━━━━━━━━━━━\u001b[0m\u001b[37m\u001b[0m \u001b[1m3s\u001b[0m 512us/step\n"
     ]
    },
    {
     "name": "stderr",
     "output_type": "stream",
     "text": [
      "[I 2024-10-12 17:36:52,280] Trial 8 finished with value: 0.8924538466485533 and parameters: {'num_layers': 2, 'units_0': 192, 'activation_0': 'tanh', 'dropout_0': 0.07669173037756544, 'units_1': 96, 'activation_1': 'tanh', 'dropout_1': 0.40325437969978273, 'learning_rate': 0.00019053342408986416}. Best is trial 7 with value: 0.9561242574512189.\n"
     ]
    },
    {
     "name": "stdout",
     "output_type": "stream",
     "text": [
      "\u001b[1m5043/5043\u001b[0m \u001b[32m━━━━━━━━━━━━━━━━━━━━\u001b[0m\u001b[37m\u001b[0m \u001b[1m2s\u001b[0m 470us/step\n"
     ]
    },
    {
     "name": "stderr",
     "output_type": "stream",
     "text": [
      "[I 2024-10-12 17:37:28,959] Trial 9 finished with value: 0.8986810305977342 and parameters: {'num_layers': 2, 'units_0': 96, 'activation_0': 'sigmoid', 'dropout_0': 0.44817236573473473, 'units_1': 128, 'activation_1': 'sigmoid', 'dropout_1': 0.32918095748541654, 'learning_rate': 0.0015915042994755649}. Best is trial 7 with value: 0.9561242574512189.\n"
     ]
    },
    {
     "name": "stdout",
     "output_type": "stream",
     "text": [
      "{'num_layers': 2, 'units_0': 128, 'activation_0': 'relu', 'dropout_0': 0.1880448819631122, 'units_1': 96, 'activation_1': 'relu', 'dropout_1': 0.010390332231766886, 'learning_rate': 0.004748298653894996}\n"
     ]
    }
   ],
   "source": [
    "def objective(trial):\n",
    "    model = Sequential()\n",
    "\n",
    "    # choose number of layers\n",
    "    num_layers = trial.suggest_int('num_layers', 2, 3)\n",
    "    for i in range(num_layers):\n",
    "\n",
    "        # choose number of features\n",
    "        features = trial.suggest_int(f'units_{i}', 32, 256, step=32)\n",
    "\n",
    "        # choose activation function\n",
    "        activation_function = trial.suggest_categorical(f'activation_{i}',['relu', 'tanh', 'sigmoid'])\n",
    "\n",
    "        # choose dropout rate\n",
    "        dropout_rate = trial.suggest_float(f'dropout_{i}', 0.0, 0.5)\n",
    "\n",
    "        model.add(Dense(features, activation = activation_function))\n",
    "        model.add(Dropout(dropout_rate))\n",
    "\n",
    "    model.add(Dense(1, activation='sigmoid'))\n",
    "\n",
    "    model.compile(optimizer=Adam(learning_rate=trial.suggest_float('learning_rate', 1e-4, 1e-2, log = True)),\n",
    "                    loss='binary_crossentropy',\n",
    "                    metrics=['accuracy'])\n",
    "\n",
    "    history = model.fit(X_resampled, y_resampled, epochs=10, batch_size=32, validation_split=0.2, verbose=0)\n",
    "\n",
    "    y_pred = model.predict(X_resampled)\n",
    "    auc_score = roc_auc_score(y_resampled, y_pred)\n",
    "\n",
    "    return auc_score\n",
    "\n",
    "# Create and run the study\n",
    "study = optuna.create_study(direction='maximize')\n",
    "study.optimize(objective, n_trials=10)\n",
    "\n",
    "# Get best hyperparameters\n",
    "print(study.best_params)"
   ]
  },
  {
   "cell_type": "code",
   "execution_count": 67,
   "metadata": {},
   "outputs": [
    {
     "name": "stdout",
     "output_type": "stream",
     "text": [
      "Epoch 1/10\n",
      "\u001b[1m4021/4035\u001b[0m \u001b[32m━━━━━━━━━━━━━━━━━━━\u001b[0m\u001b[37m━\u001b[0m \u001b[1m0s\u001b[0m 679us/step - accuracy: 0.8046 - loss: 0.4277\n",
      "Epoch 1: val_accuracy improved from -inf to 0.76662, saving model to best_model_hp.keras\n",
      "\u001b[1m4035/4035\u001b[0m \u001b[32m━━━━━━━━━━━━━━━━━━━━\u001b[0m\u001b[37m\u001b[0m \u001b[1m4s\u001b[0m 821us/step - accuracy: 0.8047 - loss: 0.4276 - val_accuracy: 0.7666 - val_loss: 0.4701\n",
      "Epoch 2/10\n",
      "\u001b[1m4030/4035\u001b[0m \u001b[32m━━━━━━━━━━━━━━━━━━━\u001b[0m\u001b[37m━\u001b[0m \u001b[1m0s\u001b[0m 677us/step - accuracy: 0.8390 - loss: 0.3645\n",
      "Epoch 2: val_accuracy improved from 0.76662 to 0.78936, saving model to best_model_hp.keras\n",
      "\u001b[1m4035/4035\u001b[0m \u001b[32m━━━━━━━━━━━━━━━━━━━━\u001b[0m\u001b[37m\u001b[0m \u001b[1m3s\u001b[0m 798us/step - accuracy: 0.8390 - loss: 0.3645 - val_accuracy: 0.7894 - val_loss: 0.4050\n",
      "Epoch 3/10\n",
      "\u001b[1m3997/4035\u001b[0m \u001b[32m━━━━━━━━━━━━━━━━━━━\u001b[0m\u001b[37m━\u001b[0m \u001b[1m0s\u001b[0m 684us/step - accuracy: 0.8473 - loss: 0.3485\n",
      "Epoch 3: val_accuracy did not improve from 0.78936\n",
      "\u001b[1m4035/4035\u001b[0m \u001b[32m━━━━━━━━━━━━━━━━━━━━\u001b[0m\u001b[37m\u001b[0m \u001b[1m3s\u001b[0m 801us/step - accuracy: 0.8473 - loss: 0.3485 - val_accuracy: 0.7712 - val_loss: 0.4533\n",
      "Epoch 4/10\n",
      "\u001b[1m4013/4035\u001b[0m \u001b[32m━━━━━━━━━━━━━━━━━━━\u001b[0m\u001b[37m━\u001b[0m \u001b[1m0s\u001b[0m 692us/step - accuracy: 0.8523 - loss: 0.3361\n",
      "Epoch 4: val_accuracy did not improve from 0.78936\n",
      "\u001b[1m4035/4035\u001b[0m \u001b[32m━━━━━━━━━━━━━━━━━━━━\u001b[0m\u001b[37m\u001b[0m \u001b[1m3s\u001b[0m 809us/step - accuracy: 0.8523 - loss: 0.3361 - val_accuracy: 0.7758 - val_loss: 0.4348\n",
      "Epoch 5/10\n",
      "\u001b[1m3992/4035\u001b[0m \u001b[32m━━━━━━━━━━━━━━━━━━━\u001b[0m\u001b[37m━\u001b[0m \u001b[1m0s\u001b[0m 671us/step - accuracy: 0.8567 - loss: 0.3254\n",
      "Epoch 5: val_accuracy improved from 0.78936 to 0.78982, saving model to best_model_hp.keras\n",
      "\u001b[1m4035/4035\u001b[0m \u001b[32m━━━━━━━━━━━━━━━━━━━━\u001b[0m\u001b[37m\u001b[0m \u001b[1m3s\u001b[0m 786us/step - accuracy: 0.8567 - loss: 0.3254 - val_accuracy: 0.7898 - val_loss: 0.4318\n",
      "Epoch 6/10\n",
      "\u001b[1m4030/4035\u001b[0m \u001b[32m━━━━━━━━━━━━━━━━━━━\u001b[0m\u001b[37m━\u001b[0m \u001b[1m0s\u001b[0m 678us/step - accuracy: 0.8609 - loss: 0.3168\n",
      "Epoch 6: val_accuracy improved from 0.78982 to 0.85855, saving model to best_model_hp.keras\n",
      "\u001b[1m4035/4035\u001b[0m \u001b[32m━━━━━━━━━━━━━━━━━━━━\u001b[0m\u001b[37m\u001b[0m \u001b[1m3s\u001b[0m 792us/step - accuracy: 0.8609 - loss: 0.3168 - val_accuracy: 0.8586 - val_loss: 0.3195\n",
      "Epoch 7/10\n",
      "\u001b[1m4007/4035\u001b[0m \u001b[32m━━━━━━━━━━━━━━━━━━━\u001b[0m\u001b[37m━\u001b[0m \u001b[1m0s\u001b[0m 681us/step - accuracy: 0.8645 - loss: 0.3091\n",
      "Epoch 7: val_accuracy did not improve from 0.85855\n",
      "\u001b[1m4035/4035\u001b[0m \u001b[32m━━━━━━━━━━━━━━━━━━━━\u001b[0m\u001b[37m\u001b[0m \u001b[1m3s\u001b[0m 794us/step - accuracy: 0.8645 - loss: 0.3091 - val_accuracy: 0.7856 - val_loss: 0.4267\n",
      "Epoch 8/10\n",
      "\u001b[1m3976/4035\u001b[0m \u001b[32m━━━━━━━━━━━━━━━━━━━\u001b[0m\u001b[37m━\u001b[0m \u001b[1m0s\u001b[0m 674us/step - accuracy: 0.8696 - loss: 0.3010\n",
      "Epoch 8: val_accuracy did not improve from 0.85855\n",
      "\u001b[1m4035/4035\u001b[0m \u001b[32m━━━━━━━━━━━━━━━━━━━━\u001b[0m\u001b[37m\u001b[0m \u001b[1m3s\u001b[0m 786us/step - accuracy: 0.8696 - loss: 0.3010 - val_accuracy: 0.8334 - val_loss: 0.3403\n",
      "Epoch 9/10\n",
      "\u001b[1m3961/4035\u001b[0m \u001b[32m━━━━━━━━━━━━━━━━━━━\u001b[0m\u001b[37m━\u001b[0m \u001b[1m0s\u001b[0m 676us/step - accuracy: 0.8701 - loss: 0.2953\n",
      "Epoch 9: val_accuracy did not improve from 0.85855\n",
      "\u001b[1m4035/4035\u001b[0m \u001b[32m━━━━━━━━━━━━━━━━━━━━\u001b[0m\u001b[37m\u001b[0m \u001b[1m3s\u001b[0m 785us/step - accuracy: 0.8701 - loss: 0.2953 - val_accuracy: 0.8165 - val_loss: 0.3775\n",
      "Epoch 10/10\n",
      "\u001b[1m4028/4035\u001b[0m \u001b[32m━━━━━━━━━━━━━━━━━━━\u001b[0m\u001b[37m━\u001b[0m \u001b[1m0s\u001b[0m 677us/step - accuracy: 0.8715 - loss: 0.2940\n",
      "Epoch 10: val_accuracy improved from 0.85855 to 0.86512, saving model to best_model_hp.keras\n",
      "\u001b[1m4035/4035\u001b[0m \u001b[32m━━━━━━━━━━━━━━━━━━━━\u001b[0m\u001b[37m\u001b[0m \u001b[1m3s\u001b[0m 791us/step - accuracy: 0.8715 - loss: 0.2940 - val_accuracy: 0.8651 - val_loss: 0.3032\n"
     ]
    }
   ],
   "source": [
    "def build_model(best_hps):\n",
    "    model = Sequential()\n",
    "\n",
    "    # pick optimum layers\n",
    "    for i in range(best_hps['num_layers']):\n",
    "\n",
    "        # pick optimum features\n",
    "        features = best_hps[f'units_{i}']\n",
    "\n",
    "        # pick optimum activation function\n",
    "        activation_function = best_hps[f'activation_{i}']\n",
    "\n",
    "        # pick optimum dropout rate\n",
    "        dropout_rate = best_hps[f'dropout_{i}']\n",
    "\n",
    "        model.add(Dense(features, activation = activation_function))\n",
    "        model.add(Dropout(dropout_rate))\n",
    "\n",
    "    model.add(Dense(1, activation='sigmoid'))\n",
    "\n",
    "    model.compile(optimizer=Adam(learning_rate=best_hps['learning_rate']),\n",
    "                    loss='binary_crossentropy',\n",
    "                    metrics=['accuracy'])\n",
    "    \n",
    "    checkpoint = ModelCheckpoint('best_model_hp.keras', monitor='val_accuracy', save_best_only=True, mode='max', verbose=1)\n",
    "    \n",
    "    model.fit(X_resampled, y_resampled, epochs=10, batch_size=32, validation_split=0.2, callbacks=[checkpoint])\n",
    "\n",
    "    return model\n",
    "\n",
    "best_hps = study.best_params\n",
    "# cur_best = {'num_layers': 2, 'units_0': 128, 'activation_0': 'relu', 'dropout_0': 0.1880448819631122, 'units_1': 96, 'activation_1': 'relu', 'dropout_1': 0.010390332231766886, 'learning_rate': 0.004748298653894996}\n",
    "best_model = build_model(best_hps)"
   ]
  },
  {
   "cell_type": "markdown",
   "metadata": {},
   "source": [
    "Model Evaluation"
   ]
  },
  {
   "cell_type": "code",
   "execution_count": 68,
   "metadata": {},
   "outputs": [
    {
     "name": "stdout",
     "output_type": "stream",
     "text": [
      "\u001b[1m1164/1164\u001b[0m \u001b[32m━━━━━━━━━━━━━━━━━━━━\u001b[0m\u001b[37m\u001b[0m \u001b[1m1s\u001b[0m 493us/step\n"
     ]
    },
    {
     "data": {
      "image/png": "[encoded data removed]",
      "text/plain": [
       "<Figure size 800x600 with 1 Axes>"
      ]
     },
     "metadata": {},
     "output_type": "display_data"
    },
    {
     "name": "stdout",
     "output_type": "stream",
     "text": [
      "AUC-ROC Score: 0.8729909869748605\n"
     ]
    }
   ],
   "source": [
    "import numpy as np\n",
    "import matplotlib.pyplot as plt\n",
    "from sklearn.metrics import roc_curve, auc\n",
    "from tensorflow.keras.models import load_model\n",
    "\n",
    "# Assuming you have a test set\n",
    "# X_test: shape (num_samples, 9)\n",
    "# y_test: shape (num_samples,) with binary labels (0 or 1)\n",
    "# Make predictions\n",
    "predictions = best_model.predict(X_test)\n",
    "\n",
    "# Get the predicted probabilities for the positive class\n",
    "predicted_probabilities = predictions\n",
    "\n",
    "# Calculate the false positive rate and true positive rate\n",
    "fpr, tpr, _ = roc_curve(y_test, predicted_probabilities)\n",
    "\n",
    "# Calculate the AUC\n",
    "roc_auc = auc(fpr, tpr)\n",
    "\n",
    "# Plot ROC curve\n",
    "plt.figure(figsize=(8, 6))\n",
    "plt.plot(fpr, tpr, color='blue', lw=2, label='ROC curve (area = {:.2f})'.format(roc_auc))\n",
    "plt.plot([0, 1], [0, 1], color='red', linestyle='--')  # Diagonal line\n",
    "plt.xlim([0.0, 1.0])\n",
    "plt.ylim([0.0, 1.05])\n",
    "plt.xlabel('False Positive Rate')\n",
    "plt.ylabel('True Positive Rate')\n",
    "plt.title('Receiver Operating Characteristic')\n",
    "plt.legend(loc=\"lower right\")\n",
    "plt.grid()\n",
    "plt.show()\n",
    "\n",
    "# Print AUC score\n",
    "print(\"AUC-ROC Score:\", roc_auc)"
   ]
  },
  {
   "cell_type": "code",
   "execution_count": 55,
   "metadata": {},
   "outputs": [],
   "source": [
    "from sklearn.metrics import average_precision_score, precision_recall_curve, auc"
   ]
  },
  {
   "cell_type": "code",
   "execution_count": 56,
   "metadata": {},
   "outputs": [
    {
     "name": "stdout",
     "output_type": "stream",
     "text": [
      "\u001b[1m1164/1164\u001b[0m \u001b[32m━━━━━━━━━━━━━━━━━━━━\u001b[0m\u001b[37m\u001b[0m \u001b[1m1s\u001b[0m 493us/step\n",
      "Average Precision Score (Neural Network): 0.4288193736544244\n"
     ]
    },
    {
     "data": {
      "image/png": "[encoded data removed]",
      "text/plain": [
       "<Figure size 800x600 with 1 Axes>"
      ]
     },
     "metadata": {},
     "output_type": "display_data"
    },
    {
     "name": "stdout",
     "output_type": "stream",
     "text": [
      "AUC-PR Score (Neural Network): 0.4285552205937868\n"
     ]
    }
   ],
   "source": [
    "# Make predictions on the test set using the neural network model\n",
    "nn_predicted_probabilities = best_model.predict(X_test).flatten()  # Flatten to 1D array\n",
    "\n",
    "# Calculate precision, recall, and thresholds for the neural network model\n",
    "precision_nn, recall_nn, thresholds_nn = precision_recall_curve(y_test, nn_predicted_probabilities)\n",
    "\n",
    "# Calculate average precision score for the neural network model\n",
    "average_precision_nn = average_precision_score(y_test, nn_predicted_probabilities)\n",
    "print(\"Average Precision Score (Neural Network):\", average_precision_nn)\n",
    "\n",
    "# Calculate the AUC for the Precision-Recall curve for the neural network model\n",
    "auc_pr_nn = auc(recall_nn, precision_nn)\n",
    "\n",
    "# Plot Precision-Recall curve for the neural network model\n",
    "plt.figure(figsize=(8, 6))\n",
    "plt.plot(recall_nn, precision_nn, marker='.', label=f'AUC PR = {auc_pr_nn:.2f}')\n",
    "plt.title('Precision vs Recall Curve (Neural Network)')\n",
    "plt.xlabel('Recall')\n",
    "plt.ylabel('Precision')\n",
    "plt.grid()\n",
    "plt.xlim([0, 1])\n",
    "plt.ylim([0, 1])\n",
    "plt.axhline(y=0.5, color='r', linestyle='--')  # Reference line for 0.5 precision\n",
    "plt.axvline(x=0.5, color='g', linestyle='--')  # Reference line for 0.5 recall\n",
    "plt.legend()\n",
    "plt.show()\n",
    "\n",
    "# Print AUC PR score for the neural network model\n",
    "print(\"AUC-PR Score (Neural Network):\", auc_pr_nn)\n"
   ]
  },
  {
   "cell_type": "markdown",
   "metadata": {},
   "source": [
    "## Comparing the two models"
   ]
  },
  {
   "cell_type": "code",
   "execution_count": 90,
   "metadata": {},
   "outputs": [
    {
     "name": "stdout",
     "output_type": "stream",
     "text": [
      "Average Precision Score for Logistic Regression: 0.126\n",
      "Average Precision Score for Neural Network: 0.426\n"
     ]
    },
    {
     "data": {
      "image/png": "[encoded data removed]",
      "text/plain": [
       "<Figure size 800x600 with 1 Axes>"
      ]
     },
     "metadata": {},
     "output_type": "display_data"
    },
    {
     "name": "stdout",
     "output_type": "stream",
     "text": [
      "AUC-PR Score for Logistic Regression: 0.40014513763338466\n",
      "AUC-PR Score for Neural Network: 0.4257768679015994\n"
     ]
    }
   ],
   "source": [
    "# Average Precision Scores\n",
    "print(f\"Average Precision Score for Logistic Regression: {average_precision_lr:.3f}\")\n",
    "print(f\"Average Precision Score for Neural Network: {average_precision_nn:.3f}\")\n",
    "\n",
    "# Plot both curves\n",
    "plt.figure(figsize=(8, 6))\n",
    "plt.plot(recall_lr, precision_lr, marker='.', label=f'Logistic Regression (AUC PR = {auc_pr_lr:.3f})')\n",
    "plt.plot(recall_nn, precision_nn, marker='.', label=f'Neural Network (AUC PR = {auc_pr_nn:.3f})')\n",
    "plt.title('Precision vs Recall Curve')\n",
    "plt.xlabel('Recall')\n",
    "plt.ylabel('Precision')\n",
    "plt.grid()\n",
    "plt.xlim([0, 1])\n",
    "plt.ylim([0, 1])\n",
    "plt.axhline(y=0.5, color='r', linestyle='--')  # Reference line for 0.5 precision\n",
    "plt.axvline(x=0.5, color='g', linestyle='--')  # Reference line for 0.5 recall\n",
    "plt.legend()\n",
    "plt.show()\n",
    "\n",
    "# Print AUC PR scores\n",
    "print(\"AUC-PR Score for Logistic Regression:\", auc_pr_lr)\n",
    "print(\"AUC-PR Score for Neural Network:\", auc_pr_nn)"
   ]
  }
 ],
 "metadata": {
  "kernelspec": {
   "display_name": "Python 3",
   "language": "python",
   "name": "python3"
  },
  "language_info": {
   "codemirror_mode": {
    "name": "ipython",
    "version": 3
   },
   "file_extension": ".py",
   "mimetype": "text/x-python",
   "name": "python",
   "nbconvert_exporter": "python",
   "pygments_lexer": "ipython3",
   "version": "3.12.2"
  }
 },
 "nbformat": 4,
 "nbformat_minor": 2
}
